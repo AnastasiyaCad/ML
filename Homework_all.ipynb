{
 "cells": [
  {
   "cell_type": "code",
   "execution_count": 19,
   "metadata": {},
   "outputs": [],
   "source": [
    "import numpy as np             \n",
    "import matplotlib.pyplot as plt \n",
    "%matplotlib inline \n",
    "import pandas as pd\n",
    "import pandas.util.testing as tm\n",
    "import seaborn as sns          \n",
    "#import sklearn  \n",
    "import pickle"
   ]
  },
  {
   "cell_type": "markdown",
   "metadata": {},
   "source": [
    "# Классификация рака"
   ]
  },
  {
   "cell_type": "markdown",
   "metadata": {},
   "source": [
    "Поставлена следующая задача классификации: необходимо предсказать тип рака пациента на основе уровня метилирования ДНК (бета-значений)."
   ]
  },
  {
   "cell_type": "markdown",
   "metadata": {},
   "source": [
    "## 1. Загрузка данных"
   ]
  },
  {
   "cell_type": "markdown",
   "metadata": {},
   "source": [
    "Загрузим два файла. Первый файл содержит информацию о клинических данных пациентов. Второй файл содежит в себе данные бета-значений CpG сайтов каждого пациента.  "
   ]
  },
  {
   "cell_type": "markdown",
   "metadata": {},
   "source": [
    "### Загрузка клинических данных\n",
    "\n",
    "Таблица содержит клинические данные 9748 пациентов. Для каждого пациента есть информация о возрасте, расе, гендере, статусе, тип рака и др. "
   ]
  },
  {
   "cell_type": "code",
   "execution_count": 21,
   "metadata": {},
   "outputs": [
    {
     "data": {
      "text/html": [
       "<div>\n",
       "<style scoped>\n",
       "    .dataframe tbody tr th:only-of-type {\n",
       "        vertical-align: middle;\n",
       "    }\n",
       "\n",
       "    .dataframe tbody tr th {\n",
       "        vertical-align: top;\n",
       "    }\n",
       "\n",
       "    .dataframe thead th {\n",
       "        text-align: right;\n",
       "    }\n",
       "</style>\n",
       "<table border=\"1\" class=\"dataframe\">\n",
       "  <thead>\n",
       "    <tr style=\"text-align: right;\">\n",
       "      <th></th>\n",
       "      <th>id_person</th>\n",
       "      <th>days_to_birth</th>\n",
       "      <th>days_to_last_followup</th>\n",
       "      <th>race_list</th>\n",
       "      <th>icd_10</th>\n",
       "      <th>other_dx</th>\n",
       "      <th>icd_o_3_site</th>\n",
       "      <th>icd_o_3_histology</th>\n",
       "      <th>vital_status</th>\n",
       "      <th>project</th>\n",
       "      <th>...</th>\n",
       "      <th>bcr_patient_barcode</th>\n",
       "      <th>additional_studies</th>\n",
       "      <th>year_of_form_completion</th>\n",
       "      <th>history_of_neoadjuvant_treatment</th>\n",
       "      <th>tissue_source_site</th>\n",
       "      <th>has_drugs_information</th>\n",
       "      <th>has_follow_ups_information</th>\n",
       "      <th>ethnicity</th>\n",
       "      <th>bcr_patient_uuid</th>\n",
       "      <th>patient_id</th>\n",
       "    </tr>\n",
       "  </thead>\n",
       "  <tbody>\n",
       "    <tr>\n",
       "      <th>0</th>\n",
       "      <td>TCGA-OR-A5LH-01A-11D-A29J-05</td>\n",
       "      <td>-13182.0</td>\n",
       "      <td>NaN</td>\n",
       "      <td>WHITE</td>\n",
       "      <td>C74.0</td>\n",
       "      <td>No</td>\n",
       "      <td>C74.0</td>\n",
       "      <td>8370/3</td>\n",
       "      <td>Dead</td>\n",
       "      <td>TCGA-ACC</td>\n",
       "      <td>...</td>\n",
       "      <td>TCGA-OR-A5LH</td>\n",
       "      <td>NaN</td>\n",
       "      <td>2013</td>\n",
       "      <td>No</td>\n",
       "      <td>OR</td>\n",
       "      <td>NO</td>\n",
       "      <td>NO</td>\n",
       "      <td>NOT HISPANIC OR LATINO</td>\n",
       "      <td>CF327482-199B-4604-AC19-C8B68D91C5D9</td>\n",
       "      <td>A5LH</td>\n",
       "    </tr>\n",
       "    <tr>\n",
       "      <th>1</th>\n",
       "      <td>TCGA-OR-A5LG-01A-11D-A29J-05</td>\n",
       "      <td>-16875.0</td>\n",
       "      <td>1589.0</td>\n",
       "      <td>WHITE</td>\n",
       "      <td>C74.0</td>\n",
       "      <td>No</td>\n",
       "      <td>C74.0</td>\n",
       "      <td>8370/3</td>\n",
       "      <td>Alive</td>\n",
       "      <td>TCGA-ACC</td>\n",
       "      <td>...</td>\n",
       "      <td>TCGA-OR-A5LG</td>\n",
       "      <td>NaN</td>\n",
       "      <td>2013</td>\n",
       "      <td>No</td>\n",
       "      <td>OR</td>\n",
       "      <td>NO</td>\n",
       "      <td>NO</td>\n",
       "      <td>NOT HISPANIC OR LATINO</td>\n",
       "      <td>FAD4B7E6-510C-4968-83DF-3140ED5A0549</td>\n",
       "      <td>A5LG</td>\n",
       "    </tr>\n",
       "    <tr>\n",
       "      <th>2</th>\n",
       "      <td>TCGA-OR-A5JQ-01A-11D-A29J-05</td>\n",
       "      <td>-9667.0</td>\n",
       "      <td>674.0</td>\n",
       "      <td>WHITE</td>\n",
       "      <td>C74.0</td>\n",
       "      <td>No</td>\n",
       "      <td>C74.0</td>\n",
       "      <td>8370/3</td>\n",
       "      <td>Alive</td>\n",
       "      <td>TCGA-ACC</td>\n",
       "      <td>...</td>\n",
       "      <td>TCGA-OR-A5JQ</td>\n",
       "      <td>NaN</td>\n",
       "      <td>2013</td>\n",
       "      <td>No</td>\n",
       "      <td>OR</td>\n",
       "      <td>NO</td>\n",
       "      <td>YES</td>\n",
       "      <td>NaN</td>\n",
       "      <td>199560CB-15E5-4276-865A-7D44D47C856C</td>\n",
       "      <td>A5JQ</td>\n",
       "    </tr>\n",
       "    <tr>\n",
       "      <th>3</th>\n",
       "      <td>TCGA-OR-A5J6-01A-31D-A29J-05</td>\n",
       "      <td>-10839.0</td>\n",
       "      <td>2428.0</td>\n",
       "      <td>BLACK OR AFRICAN AMERICAN</td>\n",
       "      <td>C74.0</td>\n",
       "      <td>No</td>\n",
       "      <td>C74.0</td>\n",
       "      <td>8370/3</td>\n",
       "      <td>Alive</td>\n",
       "      <td>TCGA-ACC</td>\n",
       "      <td>...</td>\n",
       "      <td>TCGA-OR-A5J6</td>\n",
       "      <td>NaN</td>\n",
       "      <td>2013</td>\n",
       "      <td>No</td>\n",
       "      <td>OR</td>\n",
       "      <td>NO</td>\n",
       "      <td>YES</td>\n",
       "      <td>HISPANIC OR LATINO</td>\n",
       "      <td>C8898B42-B704-45A0-9829-144B98F416E0</td>\n",
       "      <td>A5J6</td>\n",
       "    </tr>\n",
       "    <tr>\n",
       "      <th>4</th>\n",
       "      <td>TCGA-OR-A5L6-01A-11D-A29J-05</td>\n",
       "      <td>-22057.0</td>\n",
       "      <td>628.0</td>\n",
       "      <td>WHITE</td>\n",
       "      <td>C74.0</td>\n",
       "      <td>No</td>\n",
       "      <td>C74.0</td>\n",
       "      <td>8370/3</td>\n",
       "      <td>Alive</td>\n",
       "      <td>TCGA-ACC</td>\n",
       "      <td>...</td>\n",
       "      <td>TCGA-OR-A5L6</td>\n",
       "      <td>NaN</td>\n",
       "      <td>2013</td>\n",
       "      <td>No</td>\n",
       "      <td>OR</td>\n",
       "      <td>NO</td>\n",
       "      <td>YES</td>\n",
       "      <td>NOT HISPANIC OR LATINO</td>\n",
       "      <td>F13A3D5E-7F8E-4ACB-AD46-F6380A9443E8</td>\n",
       "      <td>A5L6</td>\n",
       "    </tr>\n",
       "  </tbody>\n",
       "</table>\n",
       "<p>5 rows × 26 columns</p>\n",
       "</div>"
      ],
      "text/plain": [
       "                      id_person  days_to_birth  days_to_last_followup  \\\n",
       "0  TCGA-OR-A5LH-01A-11D-A29J-05       -13182.0                    NaN   \n",
       "1  TCGA-OR-A5LG-01A-11D-A29J-05       -16875.0                 1589.0   \n",
       "2  TCGA-OR-A5JQ-01A-11D-A29J-05        -9667.0                  674.0   \n",
       "3  TCGA-OR-A5J6-01A-31D-A29J-05       -10839.0                 2428.0   \n",
       "4  TCGA-OR-A5L6-01A-11D-A29J-05       -22057.0                  628.0   \n",
       "\n",
       "                   race_list icd_10 other_dx icd_o_3_site icd_o_3_histology  \\\n",
       "0                      WHITE  C74.0       No        C74.0            8370/3   \n",
       "1                      WHITE  C74.0       No        C74.0            8370/3   \n",
       "2                      WHITE  C74.0       No        C74.0            8370/3   \n",
       "3  BLACK OR AFRICAN AMERICAN  C74.0       No        C74.0            8370/3   \n",
       "4                      WHITE  C74.0       No        C74.0            8370/3   \n",
       "\n",
       "  vital_status   project  ...  bcr_patient_barcode additional_studies  \\\n",
       "0         Dead  TCGA-ACC  ...         TCGA-OR-A5LH                NaN   \n",
       "1        Alive  TCGA-ACC  ...         TCGA-OR-A5LG                NaN   \n",
       "2        Alive  TCGA-ACC  ...         TCGA-OR-A5JQ                NaN   \n",
       "3        Alive  TCGA-ACC  ...         TCGA-OR-A5J6                NaN   \n",
       "4        Alive  TCGA-ACC  ...         TCGA-OR-A5L6                NaN   \n",
       "\n",
       "  year_of_form_completion  history_of_neoadjuvant_treatment  \\\n",
       "0                    2013                                No   \n",
       "1                    2013                                No   \n",
       "2                    2013                                No   \n",
       "3                    2013                                No   \n",
       "4                    2013                                No   \n",
       "\n",
       "  tissue_source_site  has_drugs_information has_follow_ups_information  \\\n",
       "0                 OR                     NO                         NO   \n",
       "1                 OR                     NO                         NO   \n",
       "2                 OR                     NO                        YES   \n",
       "3                 OR                     NO                        YES   \n",
       "4                 OR                     NO                        YES   \n",
       "\n",
       "                ethnicity                      bcr_patient_uuid patient_id  \n",
       "0  NOT HISPANIC OR LATINO  CF327482-199B-4604-AC19-C8B68D91C5D9       A5LH  \n",
       "1  NOT HISPANIC OR LATINO  FAD4B7E6-510C-4968-83DF-3140ED5A0549       A5LG  \n",
       "2                     NaN  199560CB-15E5-4276-865A-7D44D47C856C       A5JQ  \n",
       "3      HISPANIC OR LATINO  C8898B42-B704-45A0-9829-144B98F416E0       A5J6  \n",
       "4  NOT HISPANIC OR LATINO  F13A3D5E-7F8E-4ACB-AD46-F6380A9443E8       A5L6  \n",
       "\n",
       "[5 rows x 26 columns]"
      ]
     },
     "execution_count": 21,
     "metadata": {},
     "output_type": "execute_result"
    }
   ],
   "source": [
    "dfDataClinic = pd.DataFrame()\n",
    "fnameDataClinic = 'D:/Nerobova_Anastasiya/ML/InfoClinicData.pkl'\n",
    "\n",
    "with open(fnameDataClinic, 'rb') as handle:\n",
    "    dfDataClinic = pickle.load(handle)\n",
    "\n",
    "dfDataClinic.head()"
   ]
  },
  {
   "cell_type": "markdown",
   "metadata": {},
   "source": [
    "Каждая строка соответствует пациенту, а каждый столбец соответствует конкретной характеристике:"
   ]
  },
  {
   "cell_type": "code",
   "execution_count": 4,
   "metadata": {},
   "outputs": [
    {
     "data": {
      "text/plain": [
       "(9748, 26)"
      ]
     },
     "execution_count": 4,
     "metadata": {},
     "output_type": "execute_result"
    }
   ],
   "source": [
    "dfDataClinic.shape"
   ]
  },
  {
   "cell_type": "code",
   "execution_count": 5,
   "metadata": {},
   "outputs": [
    {
     "data": {
      "text/plain": [
       "Index(['id_person', 'days_to_birth', 'days_to_last_followup', 'race_list',\n",
       "       'icd_10', 'other_dx', 'icd_o_3_site', 'icd_o_3_histology',\n",
       "       'vital_status', 'project', 'day_of_form_completion', 'gender',\n",
       "       'has_radiations_information', 'days_to_death',\n",
       "       'informed_consent_verified', 'month_of_form_completion',\n",
       "       'bcr_patient_barcode', 'additional_studies', 'year_of_form_completion',\n",
       "       'history_of_neoadjuvant_treatment', 'tissue_source_site',\n",
       "       'has_drugs_information', 'has_follow_ups_information', 'ethnicity',\n",
       "       'bcr_patient_uuid', 'patient_id'],\n",
       "      dtype='object')"
      ]
     },
     "execution_count": 5,
     "metadata": {},
     "output_type": "execute_result"
    }
   ],
   "source": [
    "dfDataClinic.columns"
   ]
  },
  {
   "cell_type": "markdown",
   "metadata": {},
   "source": [
    "Характеристики: \n",
    "\n",
    " - id_person - id пациента в таблице\n",
    " - days_to_birth - дней до дня рождения\n",
    " - days_to_last_followup - дней до последнего наблюдения\n",
    " - race_list - раса пациента\n",
    " - icd_10 - международная статистическая классификация болезней\n",
    " - other_dx - иная информация\n",
    " - icd_o_3_site - Международная классификация онкологических заболеваний (ICD-O) (сайт)\n",
    " - icd_o_3_histolog - Международная классификация онкологических заболеваний (ICD-O) (гистология)\n",
    " - vital_status - жизненный статус\n",
    " - project - тип рака пациента\n",
    " - gender - гендер\n",
    " - has_radiations_information - была ли лучевая (радио-) терапия\n",
    " - days_to_death - дней до смерти\n",
    " - informed_consent_verified - согласие подтверждено \n",
    " - day_of_form_completion - день заполнения формы\n",
    " - month_of_form_completion - месяц заполнения формы\n",
    " - year_of_form_completion - год заполнения формы\n",
    " - bcr_patient_barcode - сокращенный id пациента\n",
    " - additional_studies - дополнительные исследования\n",
    " - history_of_neoadjuvant_treatment - история неоадъювантного лечения (хим терапия)\n",
    " - tissue_source_site - сайт источника ткани\n",
    " - has_drugs_information - есть ли информация о принимаемых лекарственных средств\n",
    " - has_follow_ups_information - есть последующая информация (о пациенте)\n",
    " - ethnicity - этническая принадлежность\n",
    " - patient_id - id пацента внутри типа рака\n",
    " "
   ]
  },
  {
   "cell_type": "markdown",
   "metadata": {},
   "source": [
    "Посмотрим, какой тип данных имеет каждая характеристика."
   ]
  },
  {
   "cell_type": "code",
   "execution_count": 9,
   "metadata": {
    "scrolled": true
   },
   "outputs": [
    {
     "data": {
      "text/plain": [
       "id_person                            object\n",
       "days_to_birth                       float64\n",
       "days_to_last_followup               float64\n",
       "race_list                            object\n",
       "icd_10                               object\n",
       "other_dx                             object\n",
       "icd_o_3_site                         object\n",
       "icd_o_3_histology                    object\n",
       "vital_status                         object\n",
       "project                              object\n",
       "day_of_form_completion              float64\n",
       "gender                               object\n",
       "has_radiations_information           object\n",
       "days_to_death                       float64\n",
       "informed_consent_verified            object\n",
       "month_of_form_completion              int64\n",
       "bcr_patient_barcode                  object\n",
       "additional_studies                   object\n",
       "year_of_form_completion               int64\n",
       "history_of_neoadjuvant_treatment     object\n",
       "tissue_source_site                   object\n",
       "has_drugs_information                object\n",
       "has_follow_ups_information           object\n",
       "ethnicity                            object\n",
       "bcr_patient_uuid                     object\n",
       "patient_id                           object\n",
       "dtype: object"
      ]
     },
     "execution_count": 9,
     "metadata": {},
     "output_type": "execute_result"
    }
   ],
   "source": [
    "dfDataClinic.dtypes"
   ]
  },
  {
   "cell_type": "markdown",
   "metadata": {},
   "source": [
    "### Загрузка данных бета-значений \n",
    "\n",
    "Бета-значения - доля метилированных сайтов. Метилирование ДНК заключается в присоединении метильной группы к цитозину в составе CpG-динуклеотида в позиции С5 цитозинового кольца."
   ]
  },
  {
   "cell_type": "code",
   "execution_count": 2,
   "metadata": {},
   "outputs": [
    {
     "data": {
      "text/html": [
       "<div>\n",
       "<style scoped>\n",
       "    .dataframe tbody tr th:only-of-type {\n",
       "        vertical-align: middle;\n",
       "    }\n",
       "\n",
       "    .dataframe tbody tr th {\n",
       "        vertical-align: top;\n",
       "    }\n",
       "\n",
       "    .dataframe thead th {\n",
       "        text-align: right;\n",
       "    }\n",
       "</style>\n",
       "<table border=\"1\" class=\"dataframe\">\n",
       "  <thead>\n",
       "    <tr style=\"text-align: right;\">\n",
       "      <th>CpG</th>\n",
       "      <th>cg00000029</th>\n",
       "      <th>cg00000108</th>\n",
       "      <th>cg00000109</th>\n",
       "      <th>cg00000165</th>\n",
       "      <th>cg00000236</th>\n",
       "      <th>cg00000289</th>\n",
       "      <th>cg00000292</th>\n",
       "      <th>cg00000321</th>\n",
       "      <th>cg00000363</th>\n",
       "      <th>cg00000622</th>\n",
       "      <th>...</th>\n",
       "      <th>rs7746156</th>\n",
       "      <th>rs798149</th>\n",
       "      <th>rs845016</th>\n",
       "      <th>rs877309</th>\n",
       "      <th>rs9292570</th>\n",
       "      <th>rs9363764</th>\n",
       "      <th>rs939290</th>\n",
       "      <th>rs951295</th>\n",
       "      <th>rs966367</th>\n",
       "      <th>rs9839873</th>\n",
       "    </tr>\n",
       "  </thead>\n",
       "  <tbody>\n",
       "    <tr>\n",
       "      <th>TCGA-OR-A5LH-01A-11D-A29J-05</th>\n",
       "      <td>0.127235</td>\n",
       "      <td>NaN</td>\n",
       "      <td>NaN</td>\n",
       "      <td>0.798976</td>\n",
       "      <td>0.906222</td>\n",
       "      <td>0.724104</td>\n",
       "      <td>0.406815</td>\n",
       "      <td>0.202612</td>\n",
       "      <td>0.151666</td>\n",
       "      <td>0.013125</td>\n",
       "      <td>...</td>\n",
       "      <td>0.791231</td>\n",
       "      <td>0.014351</td>\n",
       "      <td>0.123524</td>\n",
       "      <td>0.971234</td>\n",
       "      <td>0.522766</td>\n",
       "      <td>0.051763</td>\n",
       "      <td>0.861380</td>\n",
       "      <td>0.307426</td>\n",
       "      <td>0.119247</td>\n",
       "      <td>0.941517</td>\n",
       "    </tr>\n",
       "    <tr>\n",
       "      <th>TCGA-OR-A5LG-01A-11D-A29J-05</th>\n",
       "      <td>0.046121</td>\n",
       "      <td>NaN</td>\n",
       "      <td>NaN</td>\n",
       "      <td>0.067993</td>\n",
       "      <td>0.893865</td>\n",
       "      <td>0.754962</td>\n",
       "      <td>0.857653</td>\n",
       "      <td>0.865786</td>\n",
       "      <td>0.560898</td>\n",
       "      <td>0.013004</td>\n",
       "      <td>...</td>\n",
       "      <td>0.461214</td>\n",
       "      <td>0.013948</td>\n",
       "      <td>0.900690</td>\n",
       "      <td>0.976762</td>\n",
       "      <td>0.017721</td>\n",
       "      <td>0.606996</td>\n",
       "      <td>0.972568</td>\n",
       "      <td>0.030855</td>\n",
       "      <td>0.072948</td>\n",
       "      <td>0.669205</td>\n",
       "    </tr>\n",
       "    <tr>\n",
       "      <th>TCGA-OR-A5JQ-01A-11D-A29J-05</th>\n",
       "      <td>0.602064</td>\n",
       "      <td>NaN</td>\n",
       "      <td>NaN</td>\n",
       "      <td>0.100943</td>\n",
       "      <td>0.897362</td>\n",
       "      <td>0.614677</td>\n",
       "      <td>0.877027</td>\n",
       "      <td>0.255339</td>\n",
       "      <td>0.714194</td>\n",
       "      <td>0.014641</td>\n",
       "      <td>...</td>\n",
       "      <td>0.020769</td>\n",
       "      <td>0.013826</td>\n",
       "      <td>0.909073</td>\n",
       "      <td>0.256746</td>\n",
       "      <td>0.969041</td>\n",
       "      <td>0.249980</td>\n",
       "      <td>0.512725</td>\n",
       "      <td>0.354050</td>\n",
       "      <td>0.152047</td>\n",
       "      <td>0.942741</td>\n",
       "    </tr>\n",
       "    <tr>\n",
       "      <th>TCGA-OR-A5J6-01A-31D-A29J-05</th>\n",
       "      <td>0.117144</td>\n",
       "      <td>NaN</td>\n",
       "      <td>NaN</td>\n",
       "      <td>0.115994</td>\n",
       "      <td>0.413085</td>\n",
       "      <td>0.584756</td>\n",
       "      <td>0.782867</td>\n",
       "      <td>0.825748</td>\n",
       "      <td>0.123553</td>\n",
       "      <td>0.013132</td>\n",
       "      <td>...</td>\n",
       "      <td>0.469062</td>\n",
       "      <td>0.973064</td>\n",
       "      <td>0.912584</td>\n",
       "      <td>0.436507</td>\n",
       "      <td>0.445958</td>\n",
       "      <td>0.546527</td>\n",
       "      <td>0.676457</td>\n",
       "      <td>0.040208</td>\n",
       "      <td>0.938875</td>\n",
       "      <td>0.137452</td>\n",
       "    </tr>\n",
       "    <tr>\n",
       "      <th>TCGA-OR-A5L6-01A-11D-A29J-05</th>\n",
       "      <td>0.264575</td>\n",
       "      <td>NaN</td>\n",
       "      <td>NaN</td>\n",
       "      <td>0.143594</td>\n",
       "      <td>0.892213</td>\n",
       "      <td>0.717910</td>\n",
       "      <td>0.834388</td>\n",
       "      <td>0.862202</td>\n",
       "      <td>0.881404</td>\n",
       "      <td>0.014424</td>\n",
       "      <td>...</td>\n",
       "      <td>0.968430</td>\n",
       "      <td>0.015532</td>\n",
       "      <td>0.896062</td>\n",
       "      <td>0.014142</td>\n",
       "      <td>0.459246</td>\n",
       "      <td>0.935251</td>\n",
       "      <td>0.030863</td>\n",
       "      <td>0.030264</td>\n",
       "      <td>0.056576</td>\n",
       "      <td>0.905967</td>\n",
       "    </tr>\n",
       "  </tbody>\n",
       "</table>\n",
       "<p>5 rows × 485577 columns</p>\n",
       "</div>"
      ],
      "text/plain": [
       "CpG                           cg00000029  cg00000108  cg00000109  cg00000165  \\\n",
       "TCGA-OR-A5LH-01A-11D-A29J-05    0.127235         NaN         NaN    0.798976   \n",
       "TCGA-OR-A5LG-01A-11D-A29J-05    0.046121         NaN         NaN    0.067993   \n",
       "TCGA-OR-A5JQ-01A-11D-A29J-05    0.602064         NaN         NaN    0.100943   \n",
       "TCGA-OR-A5J6-01A-31D-A29J-05    0.117144         NaN         NaN    0.115994   \n",
       "TCGA-OR-A5L6-01A-11D-A29J-05    0.264575         NaN         NaN    0.143594   \n",
       "\n",
       "CpG                           cg00000236  cg00000289  cg00000292  cg00000321  \\\n",
       "TCGA-OR-A5LH-01A-11D-A29J-05    0.906222    0.724104    0.406815    0.202612   \n",
       "TCGA-OR-A5LG-01A-11D-A29J-05    0.893865    0.754962    0.857653    0.865786   \n",
       "TCGA-OR-A5JQ-01A-11D-A29J-05    0.897362    0.614677    0.877027    0.255339   \n",
       "TCGA-OR-A5J6-01A-31D-A29J-05    0.413085    0.584756    0.782867    0.825748   \n",
       "TCGA-OR-A5L6-01A-11D-A29J-05    0.892213    0.717910    0.834388    0.862202   \n",
       "\n",
       "CpG                           cg00000363  cg00000622  ...  rs7746156  \\\n",
       "TCGA-OR-A5LH-01A-11D-A29J-05    0.151666    0.013125  ...   0.791231   \n",
       "TCGA-OR-A5LG-01A-11D-A29J-05    0.560898    0.013004  ...   0.461214   \n",
       "TCGA-OR-A5JQ-01A-11D-A29J-05    0.714194    0.014641  ...   0.020769   \n",
       "TCGA-OR-A5J6-01A-31D-A29J-05    0.123553    0.013132  ...   0.469062   \n",
       "TCGA-OR-A5L6-01A-11D-A29J-05    0.881404    0.014424  ...   0.968430   \n",
       "\n",
       "CpG                           rs798149  rs845016  rs877309  rs9292570  \\\n",
       "TCGA-OR-A5LH-01A-11D-A29J-05  0.014351  0.123524  0.971234   0.522766   \n",
       "TCGA-OR-A5LG-01A-11D-A29J-05  0.013948  0.900690  0.976762   0.017721   \n",
       "TCGA-OR-A5JQ-01A-11D-A29J-05  0.013826  0.909073  0.256746   0.969041   \n",
       "TCGA-OR-A5J6-01A-31D-A29J-05  0.973064  0.912584  0.436507   0.445958   \n",
       "TCGA-OR-A5L6-01A-11D-A29J-05  0.015532  0.896062  0.014142   0.459246   \n",
       "\n",
       "CpG                           rs9363764  rs939290  rs951295  rs966367  \\\n",
       "TCGA-OR-A5LH-01A-11D-A29J-05   0.051763  0.861380  0.307426  0.119247   \n",
       "TCGA-OR-A5LG-01A-11D-A29J-05   0.606996  0.972568  0.030855  0.072948   \n",
       "TCGA-OR-A5JQ-01A-11D-A29J-05   0.249980  0.512725  0.354050  0.152047   \n",
       "TCGA-OR-A5J6-01A-31D-A29J-05   0.546527  0.676457  0.040208  0.938875   \n",
       "TCGA-OR-A5L6-01A-11D-A29J-05   0.935251  0.030863  0.030264  0.056576   \n",
       "\n",
       "CpG                           rs9839873  \n",
       "TCGA-OR-A5LH-01A-11D-A29J-05   0.941517  \n",
       "TCGA-OR-A5LG-01A-11D-A29J-05   0.669205  \n",
       "TCGA-OR-A5JQ-01A-11D-A29J-05   0.942741  \n",
       "TCGA-OR-A5J6-01A-31D-A29J-05   0.137452  \n",
       "TCGA-OR-A5L6-01A-11D-A29J-05   0.905967  \n",
       "\n",
       "[5 rows x 485577 columns]"
      ]
     },
     "execution_count": 2,
     "metadata": {},
     "output_type": "execute_result"
    }
   ],
   "source": [
    "dfDataBeta = pd.DataFrame()\n",
    "fnameDataBeta = 'D:/Nerobova_Anastasiya/RStudio/MatrixCpGAllCancer.pkl'\n",
    "\n",
    "with open(fnameDataBeta, 'rb') as handle:\n",
    "    dfDataBeta = pickle.load(handle)\n",
    "\n",
    "dfDataBeta.head()"
   ]
  },
  {
   "cell_type": "markdown",
   "metadata": {},
   "source": [
    "Каждая строка в таблице соответствует пациенту, а каждый столбец соответствует конкретному CpG сайту"
   ]
  },
  {
   "cell_type": "code",
   "execution_count": 8,
   "metadata": {},
   "outputs": [
    {
     "data": {
      "text/plain": [
       "(9748, 485577)"
      ]
     },
     "execution_count": 8,
     "metadata": {},
     "output_type": "execute_result"
    }
   ],
   "source": [
    "dfDataBeta.shape"
   ]
  },
  {
   "cell_type": "markdown",
   "metadata": {},
   "source": [
    "Т.к. признаков очень много (485577), необходимо сделать уменьшение размерности (или редукцию размерности)"
   ]
  },
  {
   "cell_type": "markdown",
   "metadata": {},
   "source": [
    "## 2. Визуализация данных и вычисление основых характеристик"
   ]
  },
  {
   "cell_type": "markdown",
   "metadata": {},
   "source": [
    "Получим сводную информацию о количественных признаках."
   ]
  },
  {
   "cell_type": "markdown",
   "metadata": {},
   "source": [
    "Т.к. CpG сайтов ~450к, будет весь затруднительно все обработать, поэтому возьмем несколько CpG сайтов."
   ]
  },
  {
   "cell_type": "code",
   "execution_count": 12,
   "metadata": {},
   "outputs": [],
   "source": [
    "columns = ['cg00000029', 'cg00000108', 'cg00000109', 'cg00000165', 'cg00000236',\n",
    "       'cg00000289', 'cg00000292', 'cg00000321', 'cg00000363', 'cg00000622']"
   ]
  },
  {
   "cell_type": "code",
   "execution_count": 14,
   "metadata": {},
   "outputs": [
    {
     "data": {
      "text/html": [
       "<div>\n",
       "<style scoped>\n",
       "    .dataframe tbody tr th:only-of-type {\n",
       "        vertical-align: middle;\n",
       "    }\n",
       "\n",
       "    .dataframe tbody tr th {\n",
       "        vertical-align: top;\n",
       "    }\n",
       "\n",
       "    .dataframe thead th {\n",
       "        text-align: right;\n",
       "    }\n",
       "</style>\n",
       "<table border=\"1\" class=\"dataframe\">\n",
       "  <thead>\n",
       "    <tr style=\"text-align: right;\">\n",
       "      <th>CpG</th>\n",
       "      <th>cg00000029</th>\n",
       "      <th>cg00000108</th>\n",
       "      <th>cg00000109</th>\n",
       "      <th>cg00000165</th>\n",
       "      <th>cg00000236</th>\n",
       "      <th>cg00000289</th>\n",
       "      <th>cg00000292</th>\n",
       "      <th>cg00000321</th>\n",
       "      <th>cg00000363</th>\n",
       "      <th>cg00000622</th>\n",
       "    </tr>\n",
       "  </thead>\n",
       "  <tbody>\n",
       "    <tr>\n",
       "      <th>count</th>\n",
       "      <td>9746.000000</td>\n",
       "      <td>0.0</td>\n",
       "      <td>0.0</td>\n",
       "      <td>9748.000000</td>\n",
       "      <td>9747.000000</td>\n",
       "      <td>9747.000000</td>\n",
       "      <td>9748.000000</td>\n",
       "      <td>9745.000000</td>\n",
       "      <td>9748.000000</td>\n",
       "      <td>9747.000000</td>\n",
       "    </tr>\n",
       "    <tr>\n",
       "      <th>mean</th>\n",
       "      <td>0.331596</td>\n",
       "      <td>NaN</td>\n",
       "      <td>NaN</td>\n",
       "      <td>0.390082</td>\n",
       "      <td>0.881746</td>\n",
       "      <td>0.677668</td>\n",
       "      <td>0.660577</td>\n",
       "      <td>0.466339</td>\n",
       "      <td>0.329289</td>\n",
       "      <td>0.014379</td>\n",
       "    </tr>\n",
       "    <tr>\n",
       "      <th>std</th>\n",
       "      <td>0.223089</td>\n",
       "      <td>NaN</td>\n",
       "      <td>NaN</td>\n",
       "      <td>0.261075</td>\n",
       "      <td>0.071196</td>\n",
       "      <td>0.103519</td>\n",
       "      <td>0.168706</td>\n",
       "      <td>0.202637</td>\n",
       "      <td>0.217893</td>\n",
       "      <td>0.006703</td>\n",
       "    </tr>\n",
       "    <tr>\n",
       "      <th>min</th>\n",
       "      <td>0.035813</td>\n",
       "      <td>NaN</td>\n",
       "      <td>NaN</td>\n",
       "      <td>0.045665</td>\n",
       "      <td>0.086632</td>\n",
       "      <td>0.104821</td>\n",
       "      <td>0.057106</td>\n",
       "      <td>0.034497</td>\n",
       "      <td>0.035311</td>\n",
       "      <td>0.000736</td>\n",
       "    </tr>\n",
       "    <tr>\n",
       "      <th>25%</th>\n",
       "      <td>0.147911</td>\n",
       "      <td>NaN</td>\n",
       "      <td>NaN</td>\n",
       "      <td>0.141293</td>\n",
       "      <td>0.872541</td>\n",
       "      <td>0.623659</td>\n",
       "      <td>0.550146</td>\n",
       "      <td>0.305159</td>\n",
       "      <td>0.165500</td>\n",
       "      <td>0.012005</td>\n",
       "    </tr>\n",
       "    <tr>\n",
       "      <th>50%</th>\n",
       "      <td>0.271679</td>\n",
       "      <td>NaN</td>\n",
       "      <td>NaN</td>\n",
       "      <td>0.341490</td>\n",
       "      <td>0.897986</td>\n",
       "      <td>0.694406</td>\n",
       "      <td>0.681557</td>\n",
       "      <td>0.466723</td>\n",
       "      <td>0.250149</td>\n",
       "      <td>0.013582</td>\n",
       "    </tr>\n",
       "    <tr>\n",
       "      <th>75%</th>\n",
       "      <td>0.464969</td>\n",
       "      <td>NaN</td>\n",
       "      <td>NaN</td>\n",
       "      <td>0.606901</td>\n",
       "      <td>0.915496</td>\n",
       "      <td>0.748891</td>\n",
       "      <td>0.793689</td>\n",
       "      <td>0.619439</td>\n",
       "      <td>0.449545</td>\n",
       "      <td>0.015396</td>\n",
       "    </tr>\n",
       "    <tr>\n",
       "      <th>max</th>\n",
       "      <td>0.947553</td>\n",
       "      <td>NaN</td>\n",
       "      <td>NaN</td>\n",
       "      <td>0.959019</td>\n",
       "      <td>0.960861</td>\n",
       "      <td>0.932946</td>\n",
       "      <td>0.956727</td>\n",
       "      <td>0.939265</td>\n",
       "      <td>0.943254</td>\n",
       "      <td>0.291246</td>\n",
       "    </tr>\n",
       "  </tbody>\n",
       "</table>\n",
       "</div>"
      ],
      "text/plain": [
       "CpG     cg00000029  cg00000108  cg00000109   cg00000165   cg00000236  \\\n",
       "count  9746.000000         0.0         0.0  9748.000000  9747.000000   \n",
       "mean      0.331596         NaN         NaN     0.390082     0.881746   \n",
       "std       0.223089         NaN         NaN     0.261075     0.071196   \n",
       "min       0.035813         NaN         NaN     0.045665     0.086632   \n",
       "25%       0.147911         NaN         NaN     0.141293     0.872541   \n",
       "50%       0.271679         NaN         NaN     0.341490     0.897986   \n",
       "75%       0.464969         NaN         NaN     0.606901     0.915496   \n",
       "max       0.947553         NaN         NaN     0.959019     0.960861   \n",
       "\n",
       "CpG     cg00000289   cg00000292   cg00000321   cg00000363   cg00000622  \n",
       "count  9747.000000  9748.000000  9745.000000  9748.000000  9747.000000  \n",
       "mean      0.677668     0.660577     0.466339     0.329289     0.014379  \n",
       "std       0.103519     0.168706     0.202637     0.217893     0.006703  \n",
       "min       0.104821     0.057106     0.034497     0.035311     0.000736  \n",
       "25%       0.623659     0.550146     0.305159     0.165500     0.012005  \n",
       "50%       0.694406     0.681557     0.466723     0.250149     0.013582  \n",
       "75%       0.748891     0.793689     0.619439     0.449545     0.015396  \n",
       "max       0.932946     0.956727     0.939265     0.943254     0.291246  "
      ]
     },
     "execution_count": 14,
     "metadata": {},
     "output_type": "execute_result"
    }
   ],
   "source": [
    "dfDataBeta[columns].describe()"
   ]
  },
  {
   "cell_type": "markdown",
   "metadata": {},
   "source": [
    "Вычислим матрицу корреляции."
   ]
  },
  {
   "cell_type": "code",
   "execution_count": 17,
   "metadata": {},
   "outputs": [
    {
     "data": {
      "text/html": [
       "<div>\n",
       "<style scoped>\n",
       "    .dataframe tbody tr th:only-of-type {\n",
       "        vertical-align: middle;\n",
       "    }\n",
       "\n",
       "    .dataframe tbody tr th {\n",
       "        vertical-align: top;\n",
       "    }\n",
       "\n",
       "    .dataframe thead th {\n",
       "        text-align: right;\n",
       "    }\n",
       "</style>\n",
       "<table border=\"1\" class=\"dataframe\">\n",
       "  <thead>\n",
       "    <tr style=\"text-align: right;\">\n",
       "      <th>CpG</th>\n",
       "      <th>cg00000029</th>\n",
       "      <th>cg00000108</th>\n",
       "      <th>cg00000109</th>\n",
       "      <th>cg00000165</th>\n",
       "      <th>cg00000236</th>\n",
       "      <th>cg00000289</th>\n",
       "      <th>cg00000292</th>\n",
       "      <th>cg00000321</th>\n",
       "      <th>cg00000363</th>\n",
       "      <th>cg00000622</th>\n",
       "    </tr>\n",
       "    <tr>\n",
       "      <th>CpG</th>\n",
       "      <th></th>\n",
       "      <th></th>\n",
       "      <th></th>\n",
       "      <th></th>\n",
       "      <th></th>\n",
       "      <th></th>\n",
       "      <th></th>\n",
       "      <th></th>\n",
       "      <th></th>\n",
       "      <th></th>\n",
       "    </tr>\n",
       "  </thead>\n",
       "  <tbody>\n",
       "    <tr>\n",
       "      <th>cg00000029</th>\n",
       "      <td>1.000000</td>\n",
       "      <td>NaN</td>\n",
       "      <td>NaN</td>\n",
       "      <td>-0.118552</td>\n",
       "      <td>0.025751</td>\n",
       "      <td>0.117378</td>\n",
       "      <td>0.222834</td>\n",
       "      <td>0.201040</td>\n",
       "      <td>0.334843</td>\n",
       "      <td>-0.034423</td>\n",
       "    </tr>\n",
       "    <tr>\n",
       "      <th>cg00000108</th>\n",
       "      <td>NaN</td>\n",
       "      <td>NaN</td>\n",
       "      <td>NaN</td>\n",
       "      <td>NaN</td>\n",
       "      <td>NaN</td>\n",
       "      <td>NaN</td>\n",
       "      <td>NaN</td>\n",
       "      <td>NaN</td>\n",
       "      <td>NaN</td>\n",
       "      <td>NaN</td>\n",
       "    </tr>\n",
       "    <tr>\n",
       "      <th>cg00000109</th>\n",
       "      <td>NaN</td>\n",
       "      <td>NaN</td>\n",
       "      <td>NaN</td>\n",
       "      <td>NaN</td>\n",
       "      <td>NaN</td>\n",
       "      <td>NaN</td>\n",
       "      <td>NaN</td>\n",
       "      <td>NaN</td>\n",
       "      <td>NaN</td>\n",
       "      <td>NaN</td>\n",
       "    </tr>\n",
       "    <tr>\n",
       "      <th>cg00000165</th>\n",
       "      <td>-0.118552</td>\n",
       "      <td>NaN</td>\n",
       "      <td>NaN</td>\n",
       "      <td>1.000000</td>\n",
       "      <td>0.126820</td>\n",
       "      <td>-0.048773</td>\n",
       "      <td>-0.002710</td>\n",
       "      <td>0.284541</td>\n",
       "      <td>0.146192</td>\n",
       "      <td>0.047209</td>\n",
       "    </tr>\n",
       "    <tr>\n",
       "      <th>cg00000236</th>\n",
       "      <td>0.025751</td>\n",
       "      <td>NaN</td>\n",
       "      <td>NaN</td>\n",
       "      <td>0.126820</td>\n",
       "      <td>1.000000</td>\n",
       "      <td>0.336753</td>\n",
       "      <td>0.192695</td>\n",
       "      <td>0.154062</td>\n",
       "      <td>0.088791</td>\n",
       "      <td>-0.076652</td>\n",
       "    </tr>\n",
       "    <tr>\n",
       "      <th>cg00000289</th>\n",
       "      <td>0.117378</td>\n",
       "      <td>NaN</td>\n",
       "      <td>NaN</td>\n",
       "      <td>-0.048773</td>\n",
       "      <td>0.336753</td>\n",
       "      <td>1.000000</td>\n",
       "      <td>0.163385</td>\n",
       "      <td>0.113369</td>\n",
       "      <td>0.014826</td>\n",
       "      <td>-0.092143</td>\n",
       "    </tr>\n",
       "    <tr>\n",
       "      <th>cg00000292</th>\n",
       "      <td>0.222834</td>\n",
       "      <td>NaN</td>\n",
       "      <td>NaN</td>\n",
       "      <td>-0.002710</td>\n",
       "      <td>0.192695</td>\n",
       "      <td>0.163385</td>\n",
       "      <td>1.000000</td>\n",
       "      <td>0.173535</td>\n",
       "      <td>0.283027</td>\n",
       "      <td>0.024667</td>\n",
       "    </tr>\n",
       "    <tr>\n",
       "      <th>cg00000321</th>\n",
       "      <td>0.201040</td>\n",
       "      <td>NaN</td>\n",
       "      <td>NaN</td>\n",
       "      <td>0.284541</td>\n",
       "      <td>0.154062</td>\n",
       "      <td>0.113369</td>\n",
       "      <td>0.173535</td>\n",
       "      <td>1.000000</td>\n",
       "      <td>0.192734</td>\n",
       "      <td>-0.014441</td>\n",
       "    </tr>\n",
       "    <tr>\n",
       "      <th>cg00000363</th>\n",
       "      <td>0.334843</td>\n",
       "      <td>NaN</td>\n",
       "      <td>NaN</td>\n",
       "      <td>0.146192</td>\n",
       "      <td>0.088791</td>\n",
       "      <td>0.014826</td>\n",
       "      <td>0.283027</td>\n",
       "      <td>0.192734</td>\n",
       "      <td>1.000000</td>\n",
       "      <td>0.030966</td>\n",
       "    </tr>\n",
       "    <tr>\n",
       "      <th>cg00000622</th>\n",
       "      <td>-0.034423</td>\n",
       "      <td>NaN</td>\n",
       "      <td>NaN</td>\n",
       "      <td>0.047209</td>\n",
       "      <td>-0.076652</td>\n",
       "      <td>-0.092143</td>\n",
       "      <td>0.024667</td>\n",
       "      <td>-0.014441</td>\n",
       "      <td>0.030966</td>\n",
       "      <td>1.000000</td>\n",
       "    </tr>\n",
       "  </tbody>\n",
       "</table>\n",
       "</div>"
      ],
      "text/plain": [
       "CpG         cg00000029  cg00000108  cg00000109  cg00000165  cg00000236  \\\n",
       "CpG                                                                      \n",
       "cg00000029    1.000000         NaN         NaN   -0.118552    0.025751   \n",
       "cg00000108         NaN         NaN         NaN         NaN         NaN   \n",
       "cg00000109         NaN         NaN         NaN         NaN         NaN   \n",
       "cg00000165   -0.118552         NaN         NaN    1.000000    0.126820   \n",
       "cg00000236    0.025751         NaN         NaN    0.126820    1.000000   \n",
       "cg00000289    0.117378         NaN         NaN   -0.048773    0.336753   \n",
       "cg00000292    0.222834         NaN         NaN   -0.002710    0.192695   \n",
       "cg00000321    0.201040         NaN         NaN    0.284541    0.154062   \n",
       "cg00000363    0.334843         NaN         NaN    0.146192    0.088791   \n",
       "cg00000622   -0.034423         NaN         NaN    0.047209   -0.076652   \n",
       "\n",
       "CpG         cg00000289  cg00000292  cg00000321  cg00000363  cg00000622  \n",
       "CpG                                                                     \n",
       "cg00000029    0.117378    0.222834    0.201040    0.334843   -0.034423  \n",
       "cg00000108         NaN         NaN         NaN         NaN         NaN  \n",
       "cg00000109         NaN         NaN         NaN         NaN         NaN  \n",
       "cg00000165   -0.048773   -0.002710    0.284541    0.146192    0.047209  \n",
       "cg00000236    0.336753    0.192695    0.154062    0.088791   -0.076652  \n",
       "cg00000289    1.000000    0.163385    0.113369    0.014826   -0.092143  \n",
       "cg00000292    0.163385    1.000000    0.173535    0.283027    0.024667  \n",
       "cg00000321    0.113369    0.173535    1.000000    0.192734   -0.014441  \n",
       "cg00000363    0.014826    0.283027    0.192734    1.000000    0.030966  \n",
       "cg00000622   -0.092143    0.024667   -0.014441    0.030966    1.000000  "
      ]
     },
     "execution_count": 17,
     "metadata": {},
     "output_type": "execute_result"
    }
   ],
   "source": [
    "corr_mat = dfDataBeta[columns].corr()\n",
    "corr_mat"
   ]
  },
  {
   "cell_type": "code",
   "execution_count": 20,
   "metadata": {},
   "outputs": [
    {
     "data": {
      "text/plain": [
       "<matplotlib.axes._subplots.AxesSubplot at 0x2f3b2bfa808>"
      ]
     },
     "execution_count": 20,
     "metadata": {},
     "output_type": "execute_result"
    },
    {
     "data": {
      "image/png": "[encoded data removed]",
      "text/plain": [
       "<Figure size 432x288 with 2 Axes>"
      ]
     },
     "metadata": {
      "needs_background": "light"
     },
     "output_type": "display_data"
    }
   ],
   "source": [
    "sns.heatmap(corr_mat, square = True, cmap = 'Blues')"
   ]
  },
  {
   "cell_type": "markdown",
   "metadata": {},
   "source": [
    "Как можно увидеть, кореляция в CpG сайтах не наблюдается."
   ]
  },
  {
   "cell_type": "markdown",
   "metadata": {},
   "source": [
    "Сделаем тоже самое для клинических данных."
   ]
  },
  {
   "cell_type": "code",
   "execution_count": 21,
   "metadata": {},
   "outputs": [
    {
     "data": {
      "text/html": [
       "<div>\n",
       "<style scoped>\n",
       "    .dataframe tbody tr th:only-of-type {\n",
       "        vertical-align: middle;\n",
       "    }\n",
       "\n",
       "    .dataframe tbody tr th {\n",
       "        vertical-align: top;\n",
       "    }\n",
       "\n",
       "    .dataframe thead th {\n",
       "        text-align: right;\n",
       "    }\n",
       "</style>\n",
       "<table border=\"1\" class=\"dataframe\">\n",
       "  <thead>\n",
       "    <tr style=\"text-align: right;\">\n",
       "      <th></th>\n",
       "      <th>days_to_birth</th>\n",
       "      <th>days_to_last_followup</th>\n",
       "      <th>day_of_form_completion</th>\n",
       "      <th>days_to_death</th>\n",
       "      <th>month_of_form_completion</th>\n",
       "      <th>year_of_form_completion</th>\n",
       "    </tr>\n",
       "  </thead>\n",
       "  <tbody>\n",
       "    <tr>\n",
       "      <td>count</td>\n",
       "      <td>9644.000000</td>\n",
       "      <td>7724.000000</td>\n",
       "      <td>9694.000000</td>\n",
       "      <td>2113.000000</td>\n",
       "      <td>9748.000000</td>\n",
       "      <td>9748.000000</td>\n",
       "    </tr>\n",
       "    <tr>\n",
       "      <td>mean</td>\n",
       "      <td>-21656.138013</td>\n",
       "      <td>688.611082</td>\n",
       "      <td>15.374768</td>\n",
       "      <td>849.779934</td>\n",
       "      <td>6.060936</td>\n",
       "      <td>2012.283135</td>\n",
       "    </tr>\n",
       "    <tr>\n",
       "      <td>std</td>\n",
       "      <td>5358.419826</td>\n",
       "      <td>954.419878</td>\n",
       "      <td>8.473379</td>\n",
       "      <td>979.943274</td>\n",
       "      <td>3.360184</td>\n",
       "      <td>1.311789</td>\n",
       "    </tr>\n",
       "    <tr>\n",
       "      <td>min</td>\n",
       "      <td>-32873.000000</td>\n",
       "      <td>-64.000000</td>\n",
       "      <td>1.000000</td>\n",
       "      <td>0.000000</td>\n",
       "      <td>1.000000</td>\n",
       "      <td>2008.000000</td>\n",
       "    </tr>\n",
       "    <tr>\n",
       "      <td>25%</td>\n",
       "      <td>-25582.000000</td>\n",
       "      <td>89.000000</td>\n",
       "      <td>8.000000</td>\n",
       "      <td>233.000000</td>\n",
       "      <td>3.000000</td>\n",
       "      <td>2011.000000</td>\n",
       "    </tr>\n",
       "    <tr>\n",
       "      <td>50%</td>\n",
       "      <td>-22203.500000</td>\n",
       "      <td>305.000000</td>\n",
       "      <td>14.000000</td>\n",
       "      <td>522.000000</td>\n",
       "      <td>6.000000</td>\n",
       "      <td>2012.000000</td>\n",
       "    </tr>\n",
       "    <tr>\n",
       "      <td>75%</td>\n",
       "      <td>-18363.750000</td>\n",
       "      <td>935.250000</td>\n",
       "      <td>22.000000</td>\n",
       "      <td>1111.000000</td>\n",
       "      <td>9.000000</td>\n",
       "      <td>2014.000000</td>\n",
       "    </tr>\n",
       "    <tr>\n",
       "      <td>max</td>\n",
       "      <td>-5267.000000</td>\n",
       "      <td>10860.000000</td>\n",
       "      <td>31.000000</td>\n",
       "      <td>10870.000000</td>\n",
       "      <td>12.000000</td>\n",
       "      <td>2015.000000</td>\n",
       "    </tr>\n",
       "  </tbody>\n",
       "</table>\n",
       "</div>"
      ],
      "text/plain": [
       "       days_to_birth  days_to_last_followup  day_of_form_completion  \\\n",
       "count    9644.000000            7724.000000             9694.000000   \n",
       "mean   -21656.138013             688.611082               15.374768   \n",
       "std      5358.419826             954.419878                8.473379   \n",
       "min    -32873.000000             -64.000000                1.000000   \n",
       "25%    -25582.000000              89.000000                8.000000   \n",
       "50%    -22203.500000             305.000000               14.000000   \n",
       "75%    -18363.750000             935.250000               22.000000   \n",
       "max     -5267.000000           10860.000000               31.000000   \n",
       "\n",
       "       days_to_death  month_of_form_completion  year_of_form_completion  \n",
       "count    2113.000000               9748.000000              9748.000000  \n",
       "mean      849.779934                  6.060936              2012.283135  \n",
       "std       979.943274                  3.360184                 1.311789  \n",
       "min         0.000000                  1.000000              2008.000000  \n",
       "25%       233.000000                  3.000000              2011.000000  \n",
       "50%       522.000000                  6.000000              2012.000000  \n",
       "75%      1111.000000                  9.000000              2014.000000  \n",
       "max     10870.000000                 12.000000              2015.000000  "
      ]
     },
     "execution_count": 21,
     "metadata": {},
     "output_type": "execute_result"
    }
   ],
   "source": [
    "dfDataClinic.describe()"
   ]
  },
  {
   "cell_type": "code",
   "execution_count": 22,
   "metadata": {},
   "outputs": [
    {
     "data": {
      "image/png": "[encoded data removed]",
      "text/plain": [
       "<Figure size 720x720 with 36 Axes>"
      ]
     },
     "metadata": {
      "needs_background": "light"
     },
     "output_type": "display_data"
    }
   ],
   "source": [
    "from pandas.plotting import scatter_matrix\n",
    "scatter_matrix(dfDataClinic, alpha = .01, figsize = (10, 10))\n",
    "pass"
   ]
  },
  {
   "cell_type": "markdown",
   "metadata": {},
   "source": [
    "Вычислим матрицу корреляции."
   ]
  },
  {
   "cell_type": "code",
   "execution_count": 23,
   "metadata": {
    "scrolled": true
   },
   "outputs": [
    {
     "data": {
      "text/html": [
       "<div>\n",
       "<style scoped>\n",
       "    .dataframe tbody tr th:only-of-type {\n",
       "        vertical-align: middle;\n",
       "    }\n",
       "\n",
       "    .dataframe tbody tr th {\n",
       "        vertical-align: top;\n",
       "    }\n",
       "\n",
       "    .dataframe thead th {\n",
       "        text-align: right;\n",
       "    }\n",
       "</style>\n",
       "<table border=\"1\" class=\"dataframe\">\n",
       "  <thead>\n",
       "    <tr style=\"text-align: right;\">\n",
       "      <th></th>\n",
       "      <th>days_to_birth</th>\n",
       "      <th>days_to_last_followup</th>\n",
       "      <th>day_of_form_completion</th>\n",
       "      <th>days_to_death</th>\n",
       "      <th>month_of_form_completion</th>\n",
       "      <th>year_of_form_completion</th>\n",
       "    </tr>\n",
       "  </thead>\n",
       "  <tbody>\n",
       "    <tr>\n",
       "      <th>days_to_birth</th>\n",
       "      <td>1.000000</td>\n",
       "      <td>0.139069</td>\n",
       "      <td>-0.022274</td>\n",
       "      <td>0.196043</td>\n",
       "      <td>0.033291</td>\n",
       "      <td>0.061897</td>\n",
       "    </tr>\n",
       "    <tr>\n",
       "      <th>days_to_last_followup</th>\n",
       "      <td>0.139069</td>\n",
       "      <td>1.000000</td>\n",
       "      <td>-0.023240</td>\n",
       "      <td>0.894456</td>\n",
       "      <td>0.037907</td>\n",
       "      <td>0.029254</td>\n",
       "    </tr>\n",
       "    <tr>\n",
       "      <th>day_of_form_completion</th>\n",
       "      <td>-0.022274</td>\n",
       "      <td>-0.023240</td>\n",
       "      <td>1.000000</td>\n",
       "      <td>-0.050192</td>\n",
       "      <td>-0.025716</td>\n",
       "      <td>0.022728</td>\n",
       "    </tr>\n",
       "    <tr>\n",
       "      <th>days_to_death</th>\n",
       "      <td>0.196043</td>\n",
       "      <td>0.894456</td>\n",
       "      <td>-0.050192</td>\n",
       "      <td>1.000000</td>\n",
       "      <td>0.029728</td>\n",
       "      <td>-0.027346</td>\n",
       "    </tr>\n",
       "    <tr>\n",
       "      <th>month_of_form_completion</th>\n",
       "      <td>0.033291</td>\n",
       "      <td>0.037907</td>\n",
       "      <td>-0.025716</td>\n",
       "      <td>0.029728</td>\n",
       "      <td>1.000000</td>\n",
       "      <td>-0.230340</td>\n",
       "    </tr>\n",
       "    <tr>\n",
       "      <th>year_of_form_completion</th>\n",
       "      <td>0.061897</td>\n",
       "      <td>0.029254</td>\n",
       "      <td>0.022728</td>\n",
       "      <td>-0.027346</td>\n",
       "      <td>-0.230340</td>\n",
       "      <td>1.000000</td>\n",
       "    </tr>\n",
       "  </tbody>\n",
       "</table>\n",
       "</div>"
      ],
      "text/plain": [
       "                          days_to_birth  days_to_last_followup  \\\n",
       "days_to_birth                  1.000000               0.139069   \n",
       "days_to_last_followup          0.139069               1.000000   \n",
       "day_of_form_completion        -0.022274              -0.023240   \n",
       "days_to_death                  0.196043               0.894456   \n",
       "month_of_form_completion       0.033291               0.037907   \n",
       "year_of_form_completion        0.061897               0.029254   \n",
       "\n",
       "                          day_of_form_completion  days_to_death  \\\n",
       "days_to_birth                          -0.022274       0.196043   \n",
       "days_to_last_followup                  -0.023240       0.894456   \n",
       "day_of_form_completion                  1.000000      -0.050192   \n",
       "days_to_death                          -0.050192       1.000000   \n",
       "month_of_form_completion               -0.025716       0.029728   \n",
       "year_of_form_completion                 0.022728      -0.027346   \n",
       "\n",
       "                          month_of_form_completion  year_of_form_completion  \n",
       "days_to_birth                             0.033291                 0.061897  \n",
       "days_to_last_followup                     0.037907                 0.029254  \n",
       "day_of_form_completion                   -0.025716                 0.022728  \n",
       "days_to_death                             0.029728                -0.027346  \n",
       "month_of_form_completion                  1.000000                -0.230340  \n",
       "year_of_form_completion                  -0.230340                 1.000000  "
      ]
     },
     "execution_count": 23,
     "metadata": {},
     "output_type": "execute_result"
    }
   ],
   "source": [
    "corr_mat = dfDataClinic.corr()\n",
    "corr_mat"
   ]
  },
  {
   "cell_type": "code",
   "execution_count": 24,
   "metadata": {},
   "outputs": [
    {
     "data": {
      "text/plain": [
       "<matplotlib.axes._subplots.AxesSubplot at 0x2f3b4ce5708>"
      ]
     },
     "execution_count": 24,
     "metadata": {},
     "output_type": "execute_result"
    },
    {
     "data": {
      "image/png": "[encoded data removed]",
      "text/plain": [
       "<Figure size 432x288 with 2 Axes>"
      ]
     },
     "metadata": {
      "needs_background": "light"
     },
     "output_type": "display_data"
    }
   ],
   "source": [
    "sns.heatmap(corr_mat, square = True, cmap = 'Blues')"
   ]
  },
  {
   "cell_type": "markdown",
   "metadata": {},
   "source": [
    "Можем заметить, что между признаками \"days_to_death\" (дней со смерти) и \"days_to_last_followup\" (дней с последнего осмотра) присутствует кореляция."
   ]
  },
  {
   "cell_type": "markdown",
   "metadata": {},
   "source": [
    "Построим диаграмму рассеивания для данных признаков:"
   ]
  },
  {
   "cell_type": "code",
   "execution_count": 25,
   "metadata": {},
   "outputs": [
    {
     "data": {
      "image/png": "[encoded data removed]",
      "text/plain": [
       "<Figure size 432x288 with 1 Axes>"
      ]
     },
     "metadata": {
      "needs_background": "light"
     },
     "output_type": "display_data"
    }
   ],
   "source": [
    "plt.scatter(dfDataClinic['days_to_death'], dfDataClinic['days_to_last_followup'], alpha = 0.5)\n",
    "pass"
   ]
  },
  {
   "cell_type": "markdown",
   "metadata": {},
   "source": [
    "Можно заметить, что точки выстроились вдоль прямой, идущей из нижнего левого угла в правый верхний. Таким образом, в некотором приближении зависимость задержки времени прибытия от задержки времени отправления линейная."
   ]
  },
  {
   "cell_type": "markdown",
   "metadata": {},
   "source": [
    " Это можно объяснить тем, у пациент наблюдался в клинике и последний осмотр был незадолго до его смерти."
   ]
  },
  {
   "cell_type": "markdown",
   "metadata": {},
   "source": [
    "Рассмотрим соотношение значений для каждого из категориальных признаков:"
   ]
  },
  {
   "cell_type": "code",
   "execution_count": 34,
   "metadata": {},
   "outputs": [
    {
     "data": {
      "text/plain": [
       "MALE      5028\n",
       "FEMALE    4720\n",
       "Name: gender, dtype: int64"
      ]
     },
     "execution_count": 34,
     "metadata": {},
     "output_type": "execute_result"
    }
   ],
   "source": [
    "dfDataClinic['gender'].value_counts()"
   ]
  },
  {
   "cell_type": "code",
   "execution_count": 31,
   "metadata": {},
   "outputs": [
    {
     "data": {
      "text/plain": [
       "array(['FEMALE', 'MALE', 'FEMALE', ..., 'MALE', 'FEMALE', 'MALE'],\n",
       "      dtype=object)"
      ]
     },
     "execution_count": 31,
     "metadata": {},
     "output_type": "execute_result"
    }
   ],
   "source": [
    "dfDataClinic['gender'].values"
   ]
  },
  {
   "cell_type": "code",
   "execution_count": 53,
   "metadata": {},
   "outputs": [
    {
     "data": {
      "image/png": "[encoded data removed]",
      "text/plain": [
       "<Figure size 432x288 with 1 Axes>"
      ]
     },
     "metadata": {},
     "output_type": "display_data"
    }
   ],
   "source": [
    "plt.pie(list(dfDataClinic['gender'].value_counts()), labels=['MALE','FEMALE'], colors=sns.color_palette(\"YlOrBr\"))\n",
    "plt.axis('equal')\n",
    "plt.show()"
   ]
  },
  {
   "cell_type": "code",
   "execution_count": 50,
   "metadata": {},
   "outputs": [
    {
     "data": {
      "text/plain": [
       "WHITE                                        7567\n",
       "BLACK OR AFRICAN AMERICAN                     930\n",
       "ASIAN                                         614\n",
       "AMERICAN INDIAN OR ALASKA NATIVE               23\n",
       "NATIVE HAWAIIAN OR OTHER PACIFIC ISLANDER      10\n",
       "Name: race_list, dtype: int64"
      ]
     },
     "execution_count": 50,
     "metadata": {},
     "output_type": "execute_result"
    }
   ],
   "source": [
    "dfDataClinic['race_list'].value_counts()"
   ]
  },
  {
   "cell_type": "code",
   "execution_count": 55,
   "metadata": {},
   "outputs": [
    {
     "data": {
      "image/png": "[encoded data removed]",
      "text/plain": [
       "<Figure size 432x288 with 1 Axes>"
      ]
     },
     "metadata": {},
     "output_type": "display_data"
    }
   ],
   "source": [
    "plt.pie(list(dfDataClinic['race_list'].value_counts()), labels=['WHITE', 'BLACK OR AFRICAN AMERICAN', 'ASIAN', \n",
    "                                                                'AMERICAN INDIAN OR ALASKA NATIVE', ''], colors=sns.color_palette(\"YlOrBr\"))\n",
    "plt.axis('equal')\n",
    "plt.show()"
   ]
  },
  {
   "cell_type": "code",
   "execution_count": 14,
   "metadata": {},
   "outputs": [
    {
     "data": {
      "text/plain": [
       "TCGA-BRCA    894\n",
       "TCGA-HNSC    580\n",
       "TCGA-THCA    571\n",
       "TCGA-PRAD    552\n",
       "TCGA-LGG     533\n",
       "TCGA-LUAD    507\n",
       "TCGA-KIRC    485\n",
       "TCGA-SKCM    475\n",
       "TCGA-UCEC    473\n",
       "TCGA-BLCA    440\n",
       "TCGA-LIHC    414\n",
       "TCGA-LUSC    412\n",
       "TCGA-STAD    397\n",
       "TCGA-COAD    351\n",
       "TCGA-KIRP    321\n",
       "TCGA-CESC    312\n",
       "TCGA-SARC    269\n",
       "TCGA-ESCA    202\n",
       "TCGA-PAAD    195\n",
       "TCGA-LAML    194\n",
       "TCGA-PCPG    187\n",
       "TCGA-GBM     152\n",
       "TCGA-TGCT    139\n",
       "TCGA-THYM    126\n",
       "TCGA-READ    105\n",
       "TCGA-MESO     87\n",
       "TCGA-UVM      80\n",
       "TCGA-ACC      80\n",
       "TCGA-KICH     66\n",
       "TCGA-UCS      57\n",
       "TCGA-DLBC     47\n",
       "TCGA-CHOL     45\n",
       "Name: project, dtype: int64"
      ]
     },
     "execution_count": 14,
     "metadata": {},
     "output_type": "execute_result"
    }
   ],
   "source": [
    "dfDataClinic['project'].value_counts()"
   ]
  },
  {
   "cell_type": "code",
   "execution_count": 61,
   "metadata": {},
   "outputs": [],
   "source": [
    "column_values = dfDataClinic['project'].value_counts()\n",
    "labels = column_values.index\n",
    "sizes = column_values.values"
   ]
  },
  {
   "cell_type": "code",
   "execution_count": 62,
   "metadata": {},
   "outputs": [
    {
     "data": {
      "image/png": "[encoded data removed]",
      "text/plain": [
       "<Figure size 432x288 with 1 Axes>"
      ]
     },
     "metadata": {},
     "output_type": "display_data"
    }
   ],
   "source": [
    "plt.pie(sizes, labels=labels, colors=sns.color_palette(\"YlOrBr\"))\n",
    "plt.axis('equal')\n",
    "plt.show()"
   ]
  },
  {
   "cell_type": "code",
   "execution_count": 13,
   "metadata": {},
   "outputs": [
    {
     "data": {
      "text/plain": [
       "Alive    7605\n",
       "Dead     2141\n",
       "Name: vital_status, dtype: int64"
      ]
     },
     "execution_count": 13,
     "metadata": {},
     "output_type": "execute_result"
    }
   ],
   "source": [
    "dfDataClinic['vital_status'].value_counts() "
   ]
  },
  {
   "cell_type": "code",
   "execution_count": 63,
   "metadata": {},
   "outputs": [
    {
     "data": {
      "image/png": "[encoded data removed]",
      "text/plain": [
       "<Figure size 432x288 with 1 Axes>"
      ]
     },
     "metadata": {},
     "output_type": "display_data"
    }
   ],
   "source": [
    "column_values = dfDataClinic['vital_status'].value_counts()\n",
    "labels = column_values.index\n",
    "sizes = column_values.values\n",
    "plt.pie(sizes, labels=labels, colors=sns.color_palette(\"YlOrBr\"))\n",
    "plt.axis('equal')\n",
    "plt.show()"
   ]
  },
  {
   "cell_type": "markdown",
   "metadata": {},
   "source": [
    "## 3. Обработка пропущенных значений"
   ]
  },
  {
   "cell_type": "markdown",
   "metadata": {},
   "source": [
    "Проверим, есть ли пропущенные значения в таблице с ___бета значениями___."
   ]
  },
  {
   "cell_type": "code",
   "execution_count": 3,
   "metadata": {},
   "outputs": [
    {
     "name": "stdout",
     "output_type": "stream",
     "text": [
      "CpG\n",
      "cg00000029       2\n",
      "cg00000108    9748\n",
      "cg00000109    9748\n",
      "cg00000165       0\n",
      "cg00000236       1\n",
      "              ... \n",
      "rs9363764        0\n",
      "rs939290         0\n",
      "rs951295         0\n",
      "rs966367         0\n",
      "rs9839873        0\n",
      "Length: 485577, dtype: int64\n"
     ]
    }
   ],
   "source": [
    "sumNan = dfDataBeta.isna().sum()\n",
    "print(sumNan)"
   ]
  },
  {
   "cell_type": "markdown",
   "metadata": {},
   "source": [
    "Пропущенные значения имеются, уберем их из рассмотрения все CpG сайты, имеющие хотя бы 1 Nan."
   ]
  },
  {
   "cell_type": "code",
   "execution_count": 5,
   "metadata": {},
   "outputs": [],
   "source": [
    "columns = dfDataBeta.columns"
   ]
  },
  {
   "cell_type": "code",
   "execution_count": 11,
   "metadata": {},
   "outputs": [
    {
     "name": "stdout",
     "output_type": "stream",
     "text": [
      "148888\n"
     ]
    }
   ],
   "source": [
    "num_bord = 1\n",
    "columnNan = []\n",
    "for column in columns:\n",
    "    if sumNan[column] > num_bord:\n",
    "        columnNan.append(column)\n",
    "        \n",
    "print(len(columnNan))"
   ]
  },
  {
   "cell_type": "code",
   "execution_count": 11,
   "metadata": {},
   "outputs": [
    {
     "data": {
      "text/plain": [
       "89512"
      ]
     },
     "execution_count": 11,
     "metadata": {},
     "output_type": "execute_result"
    }
   ],
   "source": [
    "len(columnNan)"
   ]
  },
  {
   "cell_type": "code",
   "execution_count": 7,
   "metadata": {
    "scrolled": true
   },
   "outputs": [],
   "source": [
    "dfDataBeta = dfDataBeta.drop(columnNan, axis = 1)"
   ]
  },
  {
   "cell_type": "code",
   "execution_count": 8,
   "metadata": {},
   "outputs": [],
   "source": [
    "dfDataBeta.fillna(dfDataBeta.median(axis = 0), axis=0 , inplace=True)"
   ]
  },
  {
   "cell_type": "code",
   "execution_count": 10,
   "metadata": {},
   "outputs": [
    {
     "data": {
      "text/plain": [
       "CpG\n",
       "cg00000029   NaN\n",
       "cg00000165   NaN\n",
       "cg00000236   NaN\n",
       "cg00000289   NaN\n",
       "cg00000292   NaN\n",
       "              ..\n",
       "rs9363764    NaN\n",
       "rs939290     NaN\n",
       "rs951295     NaN\n",
       "rs966367     NaN\n",
       "rs9839873    NaN\n",
       "Length: 396065, dtype: float64"
      ]
     },
     "execution_count": 10,
     "metadata": {},
     "output_type": "execute_result"
    }
   ],
   "source": [
    "dfDataBeta.isna().sum()"
   ]
  },
  {
   "cell_type": "markdown",
   "metadata": {},
   "source": [
    "После удаления осталось 269176 CpG-сайтов."
   ]
  },
  {
   "cell_type": "markdown",
   "metadata": {},
   "source": [
    "## 4. Предобработка данных "
   ]
  },
  {
   "cell_type": "markdown",
   "metadata": {},
   "source": [
    "Из клинических данным понадобится только один признак - тип рака пациента, остальные являются бесполезными (по крайней мере в рамках данной задачи) и не повлияют на классификацию, поэтому удалим остальные из рассмотрения."
   ]
  },
  {
   "cell_type": "markdown",
   "metadata": {},
   "source": [
    "Некоторые CpG сайты можно удалить из рассморения, т.к. не несут никакой полезной информации для нас. Это такие CpG, которые имеют ненадежные образцы, CpG сайты, лежащие на хромосомах X и Y, и имеющие общие SNP."
   ]
  },
  {
   "cell_type": "code",
   "execution_count": null,
   "metadata": {},
   "outputs": [],
   "source": [
    "import warnings\n",
    "path1 = \"D:/Nerobova_Anastasiya/RStudio/Bad_CpG/MultiHit.xlsx\"\n",
    "path2 = \"D:/Nerobova_Anastasiya/RStudio/Bad_CpG/NoCG.xlsx\"\n",
    "path3 = \"D:/Nerobova_Anastasiya/RStudio/Bad_CpG/SNP.xlsx\"\n",
    "path4 = \"D:/Nerobova_Anastasiya/RStudio/Bad_CpG/XY.xlsx\"\n",
    "\n",
    "with warnings.catch_warnings(record=True):\n",
    "    warnings.simplefilter(\"always\")\n",
    "    bad_cpg_1 = pd.read_excel(path1, engine=\"openpyxl\", header=None)\n",
    "    bad_cpg_2 = pd.read_excel(path2, engine=\"openpyxl\", header=None)\n",
    "    bad_cpg_3 = pd.read_excel(path3, engine=\"openpyxl\", header=None)\n",
    "    bad_cpg_4 = pd.read_excel(path4, engine=\"openpyxl\", header=None)\n",
    "\n",
    "list_all = list(bad_cpg_1[0]) + list(bad_cpg_2[0]) + list(bad_cpg_3[0]) + list(bad_cpg_4[0])"
   ]
  },
  {
   "cell_type": "code",
   "execution_count": null,
   "metadata": {},
   "outputs": [],
   "source": [
    "list_delete_cpg = []\n",
    "for cpg in list(columns):\n",
    "    if cpg in list_all:\n",
    "        list_delete_cpg.append(cpg)"
   ]
  },
  {
   "cell_type": "code",
   "execution_count": null,
   "metadata": {},
   "outputs": [],
   "source": [
    "dfDataBeta = dfDataBeta.drop(list_all, axis = 1)"
   ]
  },
  {
   "cell_type": "markdown",
   "metadata": {},
   "source": [
    "Таким образом из 485577 CpG сайтов осталось для рассмотрения 246607 CpG"
   ]
  },
  {
   "cell_type": "markdown",
   "metadata": {},
   "source": [
    "В рамках данной задачи исследуется зависимость бета-значений от типа рака. Остальные характеристики из таблицы с клиническими данными пока не требуется. Поэтому для дальнейшего анализа сделаем преобрабтку данных, а именно для каждого пациента совместим  последовательность бета-значений с его типом рака."
   ]
  },
  {
   "cell_type": "code",
   "execution_count": 2,
   "metadata": {},
   "outputs": [
    {
     "data": {
      "text/html": [
       "<div>\n",
       "<style scoped>\n",
       "    .dataframe tbody tr th:only-of-type {\n",
       "        vertical-align: middle;\n",
       "    }\n",
       "\n",
       "    .dataframe tbody tr th {\n",
       "        vertical-align: top;\n",
       "    }\n",
       "\n",
       "    .dataframe thead th {\n",
       "        text-align: right;\n",
       "    }\n",
       "</style>\n",
       "<table border=\"1\" class=\"dataframe\">\n",
       "  <thead>\n",
       "    <tr style=\"text-align: right;\">\n",
       "      <th>CpG</th>\n",
       "      <th>cg00000029</th>\n",
       "      <th>cg00000165</th>\n",
       "      <th>cg00000236</th>\n",
       "      <th>cg00000289</th>\n",
       "      <th>cg00000292</th>\n",
       "      <th>cg00000321</th>\n",
       "      <th>cg00000363</th>\n",
       "      <th>cg00000622</th>\n",
       "      <th>cg00000658</th>\n",
       "      <th>cg00000714</th>\n",
       "      <th>...</th>\n",
       "      <th>rs7746156</th>\n",
       "      <th>rs798149</th>\n",
       "      <th>rs845016</th>\n",
       "      <th>rs877309</th>\n",
       "      <th>rs9292570</th>\n",
       "      <th>rs9363764</th>\n",
       "      <th>rs939290</th>\n",
       "      <th>rs951295</th>\n",
       "      <th>rs966367</th>\n",
       "      <th>rs9839873</th>\n",
       "    </tr>\n",
       "  </thead>\n",
       "  <tbody>\n",
       "    <tr>\n",
       "      <th>TCGA-OR-A5LH-01A-11D-A29J-05</th>\n",
       "      <td>0.127235</td>\n",
       "      <td>0.798976</td>\n",
       "      <td>0.906222</td>\n",
       "      <td>0.724104</td>\n",
       "      <td>0.406815</td>\n",
       "      <td>0.202612</td>\n",
       "      <td>0.151666</td>\n",
       "      <td>0.013125</td>\n",
       "      <td>0.832441</td>\n",
       "      <td>0.140646</td>\n",
       "      <td>...</td>\n",
       "      <td>0.791231</td>\n",
       "      <td>0.014351</td>\n",
       "      <td>0.123524</td>\n",
       "      <td>0.971234</td>\n",
       "      <td>0.522766</td>\n",
       "      <td>0.051763</td>\n",
       "      <td>0.861380</td>\n",
       "      <td>0.307426</td>\n",
       "      <td>0.119247</td>\n",
       "      <td>0.941517</td>\n",
       "    </tr>\n",
       "    <tr>\n",
       "      <th>TCGA-OR-A5LG-01A-11D-A29J-05</th>\n",
       "      <td>0.046121</td>\n",
       "      <td>0.067993</td>\n",
       "      <td>0.893865</td>\n",
       "      <td>0.754962</td>\n",
       "      <td>0.857653</td>\n",
       "      <td>0.865786</td>\n",
       "      <td>0.560898</td>\n",
       "      <td>0.013004</td>\n",
       "      <td>0.809210</td>\n",
       "      <td>0.070986</td>\n",
       "      <td>...</td>\n",
       "      <td>0.461214</td>\n",
       "      <td>0.013948</td>\n",
       "      <td>0.900690</td>\n",
       "      <td>0.976762</td>\n",
       "      <td>0.017721</td>\n",
       "      <td>0.606996</td>\n",
       "      <td>0.972568</td>\n",
       "      <td>0.030855</td>\n",
       "      <td>0.072948</td>\n",
       "      <td>0.669205</td>\n",
       "    </tr>\n",
       "    <tr>\n",
       "      <th>TCGA-OR-A5JQ-01A-11D-A29J-05</th>\n",
       "      <td>0.602064</td>\n",
       "      <td>0.100943</td>\n",
       "      <td>0.897362</td>\n",
       "      <td>0.614677</td>\n",
       "      <td>0.877027</td>\n",
       "      <td>0.255339</td>\n",
       "      <td>0.714194</td>\n",
       "      <td>0.014641</td>\n",
       "      <td>0.814129</td>\n",
       "      <td>0.118062</td>\n",
       "      <td>...</td>\n",
       "      <td>0.020769</td>\n",
       "      <td>0.013826</td>\n",
       "      <td>0.909073</td>\n",
       "      <td>0.256746</td>\n",
       "      <td>0.969041</td>\n",
       "      <td>0.249980</td>\n",
       "      <td>0.512725</td>\n",
       "      <td>0.354050</td>\n",
       "      <td>0.152047</td>\n",
       "      <td>0.942741</td>\n",
       "    </tr>\n",
       "    <tr>\n",
       "      <th>TCGA-OR-A5J6-01A-31D-A29J-05</th>\n",
       "      <td>0.117144</td>\n",
       "      <td>0.115994</td>\n",
       "      <td>0.413085</td>\n",
       "      <td>0.584756</td>\n",
       "      <td>0.782867</td>\n",
       "      <td>0.825748</td>\n",
       "      <td>0.123553</td>\n",
       "      <td>0.013132</td>\n",
       "      <td>0.790851</td>\n",
       "      <td>0.060101</td>\n",
       "      <td>...</td>\n",
       "      <td>0.469062</td>\n",
       "      <td>0.973064</td>\n",
       "      <td>0.912584</td>\n",
       "      <td>0.436507</td>\n",
       "      <td>0.445958</td>\n",
       "      <td>0.546527</td>\n",
       "      <td>0.676457</td>\n",
       "      <td>0.040208</td>\n",
       "      <td>0.938875</td>\n",
       "      <td>0.137452</td>\n",
       "    </tr>\n",
       "    <tr>\n",
       "      <th>TCGA-OR-A5L6-01A-11D-A29J-05</th>\n",
       "      <td>0.264575</td>\n",
       "      <td>0.143594</td>\n",
       "      <td>0.892213</td>\n",
       "      <td>0.717910</td>\n",
       "      <td>0.834388</td>\n",
       "      <td>0.862202</td>\n",
       "      <td>0.881404</td>\n",
       "      <td>0.014424</td>\n",
       "      <td>0.812025</td>\n",
       "      <td>0.131322</td>\n",
       "      <td>...</td>\n",
       "      <td>0.968430</td>\n",
       "      <td>0.015532</td>\n",
       "      <td>0.896062</td>\n",
       "      <td>0.014142</td>\n",
       "      <td>0.459246</td>\n",
       "      <td>0.935251</td>\n",
       "      <td>0.030863</td>\n",
       "      <td>0.030264</td>\n",
       "      <td>0.056576</td>\n",
       "      <td>0.905967</td>\n",
       "    </tr>\n",
       "  </tbody>\n",
       "</table>\n",
       "<p>5 rows × 396065 columns</p>\n",
       "</div>"
      ],
      "text/plain": [
       "CpG                           cg00000029  cg00000165  cg00000236  cg00000289  \\\n",
       "TCGA-OR-A5LH-01A-11D-A29J-05    0.127235    0.798976    0.906222    0.724104   \n",
       "TCGA-OR-A5LG-01A-11D-A29J-05    0.046121    0.067993    0.893865    0.754962   \n",
       "TCGA-OR-A5JQ-01A-11D-A29J-05    0.602064    0.100943    0.897362    0.614677   \n",
       "TCGA-OR-A5J6-01A-31D-A29J-05    0.117144    0.115994    0.413085    0.584756   \n",
       "TCGA-OR-A5L6-01A-11D-A29J-05    0.264575    0.143594    0.892213    0.717910   \n",
       "\n",
       "CpG                           cg00000292  cg00000321  cg00000363  cg00000622  \\\n",
       "TCGA-OR-A5LH-01A-11D-A29J-05    0.406815    0.202612    0.151666    0.013125   \n",
       "TCGA-OR-A5LG-01A-11D-A29J-05    0.857653    0.865786    0.560898    0.013004   \n",
       "TCGA-OR-A5JQ-01A-11D-A29J-05    0.877027    0.255339    0.714194    0.014641   \n",
       "TCGA-OR-A5J6-01A-31D-A29J-05    0.782867    0.825748    0.123553    0.013132   \n",
       "TCGA-OR-A5L6-01A-11D-A29J-05    0.834388    0.862202    0.881404    0.014424   \n",
       "\n",
       "CpG                           cg00000658  cg00000714  ...  rs7746156  \\\n",
       "TCGA-OR-A5LH-01A-11D-A29J-05    0.832441    0.140646  ...   0.791231   \n",
       "TCGA-OR-A5LG-01A-11D-A29J-05    0.809210    0.070986  ...   0.461214   \n",
       "TCGA-OR-A5JQ-01A-11D-A29J-05    0.814129    0.118062  ...   0.020769   \n",
       "TCGA-OR-A5J6-01A-31D-A29J-05    0.790851    0.060101  ...   0.469062   \n",
       "TCGA-OR-A5L6-01A-11D-A29J-05    0.812025    0.131322  ...   0.968430   \n",
       "\n",
       "CpG                           rs798149  rs845016  rs877309  rs9292570  \\\n",
       "TCGA-OR-A5LH-01A-11D-A29J-05  0.014351  0.123524  0.971234   0.522766   \n",
       "TCGA-OR-A5LG-01A-11D-A29J-05  0.013948  0.900690  0.976762   0.017721   \n",
       "TCGA-OR-A5JQ-01A-11D-A29J-05  0.013826  0.909073  0.256746   0.969041   \n",
       "TCGA-OR-A5J6-01A-31D-A29J-05  0.973064  0.912584  0.436507   0.445958   \n",
       "TCGA-OR-A5L6-01A-11D-A29J-05  0.015532  0.896062  0.014142   0.459246   \n",
       "\n",
       "CpG                           rs9363764  rs939290  rs951295  rs966367  \\\n",
       "TCGA-OR-A5LH-01A-11D-A29J-05   0.051763  0.861380  0.307426  0.119247   \n",
       "TCGA-OR-A5LG-01A-11D-A29J-05   0.606996  0.972568  0.030855  0.072948   \n",
       "TCGA-OR-A5JQ-01A-11D-A29J-05   0.249980  0.512725  0.354050  0.152047   \n",
       "TCGA-OR-A5J6-01A-31D-A29J-05   0.546527  0.676457  0.040208  0.938875   \n",
       "TCGA-OR-A5L6-01A-11D-A29J-05   0.935251  0.030863  0.030264  0.056576   \n",
       "\n",
       "CpG                           rs9839873  \n",
       "TCGA-OR-A5LH-01A-11D-A29J-05   0.941517  \n",
       "TCGA-OR-A5LG-01A-11D-A29J-05   0.669205  \n",
       "TCGA-OR-A5JQ-01A-11D-A29J-05   0.942741  \n",
       "TCGA-OR-A5J6-01A-31D-A29J-05   0.137452  \n",
       "TCGA-OR-A5L6-01A-11D-A29J-05   0.905967  \n",
       "\n",
       "[5 rows x 396065 columns]"
      ]
     },
     "execution_count": 2,
     "metadata": {},
     "output_type": "execute_result"
    }
   ],
   "source": [
    "dfDataBeta = pd.read_pickle('D:/Nerobova_Anastasiya/RStudio/MatrixBetaNoNan.pkl')\n",
    "\n",
    "dfDataBeta.head()"
   ]
  },
  {
   "cell_type": "markdown",
   "metadata": {},
   "source": [
    "Перед слиянием проверим, совпадают ли строки таблицы бета-значений и клинических данных."
   ]
  },
  {
   "cell_type": "code",
   "execution_count": 14,
   "metadata": {},
   "outputs": [
    {
     "name": "stdout",
     "output_type": "stream",
     "text": [
      "True\n"
     ]
    }
   ],
   "source": [
    "print(list(dfDataBeta.index.values) == list(dfDataClinic['id_person']))"
   ]
  },
  {
   "cell_type": "code",
   "execution_count": 13,
   "metadata": {},
   "outputs": [],
   "source": [
    "pd.concat([dfDataBeta, dfDataClinic['project']], axis=1, copy=False).to_pickle('D:/Nerobova_Anastasiya/ML/Data.pkl')"
   ]
  },
  {
   "cell_type": "markdown",
   "metadata": {},
   "source": [
    "У некоторых типов рака людей слишком мало, чтобы хорошо обучить сеть. Поэтому оставим те типы рака, где количество человек болше 200."
   ]
  },
  {
   "cell_type": "markdown",
   "metadata": {},
   "source": [
    "Посмотрим, сколько людей болеют тем или иным типом рака:"
   ]
  },
  {
   "cell_type": "code",
   "execution_count": 6,
   "metadata": {},
   "outputs": [],
   "source": [
    "columns = dfData['project'].unique()\n",
    "\n",
    "num_bord = 200\n",
    "columnСancerBed = []\n",
    "columnСancerUp = []\n",
    "for column in columns:\n",
    "    if columnСancer[column] < num_bord:\n",
    "        columnСancerBed.append(column)\n",
    "    else:\n",
    "        columnСancerUp.append(column)\n"
   ]
  },
  {
   "cell_type": "code",
   "execution_count": 66,
   "metadata": {
    "scrolled": true
   },
   "outputs": [
    {
     "data": {
      "text/plain": [
       "TCGA-BRCA    894\n",
       "TCGA-HNSC    580\n",
       "TCGA-THCA    571\n",
       "TCGA-PRAD    552\n",
       "TCGA-LGG     533\n",
       "TCGA-LUAD    507\n",
       "TCGA-KIRC    485\n",
       "TCGA-SKCM    475\n",
       "TCGA-UCEC    473\n",
       "TCGA-BLCA    440\n",
       "TCGA-LIHC    414\n",
       "TCGA-LUSC    412\n",
       "TCGA-STAD    397\n",
       "TCGA-COAD    351\n",
       "TCGA-KIRP    321\n",
       "TCGA-CESC    312\n",
       "TCGA-SARC    269\n",
       "TCGA-ESCA    202\n",
       "TCGA-PAAD    195\n",
       "TCGA-LAML    194\n",
       "TCGA-PCPG    187\n",
       "TCGA-GBM     152\n",
       "TCGA-TGCT    139\n",
       "TCGA-THYM    126\n",
       "TCGA-READ    105\n",
       "TCGA-MESO     87\n",
       "TCGA-ACC      80\n",
       "TCGA-UVM      80\n",
       "TCGA-KICH     66\n",
       "TCGA-UCS      57\n",
       "TCGA-DLBC     47\n",
       "TCGA-CHOL     45\n",
       "Name: project, dtype: int64"
      ]
     },
     "execution_count": 66,
     "metadata": {},
     "output_type": "execute_result"
    }
   ],
   "source": [
    "columnСancer = dfDataClinic['project'].value_counts()\n",
    "columnСancer"
   ]
  },
  {
   "cell_type": "markdown",
   "metadata": {},
   "source": [
    "Оставшиеся типы рака:"
   ]
  },
  {
   "cell_type": "code",
   "execution_count": 7,
   "metadata": {
    "scrolled": true
   },
   "outputs": [
    {
     "data": {
      "text/plain": [
       "['TCGA-BLCA',\n",
       " 'TCGA-BRCA',\n",
       " 'TCGA-CESC',\n",
       " 'TCGA-COAD',\n",
       " 'TCGA-ESCA',\n",
       " 'TCGA-HNSC',\n",
       " 'TCGA-KIRC',\n",
       " 'TCGA-KIRP',\n",
       " 'TCGA-LGG',\n",
       " 'TCGA-LIHC',\n",
       " 'TCGA-LUAD',\n",
       " 'TCGA-LUSC',\n",
       " 'TCGA-PRAD',\n",
       " 'TCGA-SARC',\n",
       " 'TCGA-SKCM',\n",
       " 'TCGA-STAD',\n",
       " 'TCGA-THCA',\n",
       " 'TCGA-UCEC']"
      ]
     },
     "execution_count": 7,
     "metadata": {},
     "output_type": "execute_result"
    }
   ],
   "source": [
    "columnСancerUp"
   ]
  },
  {
   "cell_type": "markdown",
   "metadata": {},
   "source": [
    "Пациентов с удаленными типами рака удалим из рассмотрения из основной таблицы."
   ]
  },
  {
   "cell_type": "markdown",
   "metadata": {},
   "source": [
    "## 5. Обработка категориальных признаков"
   ]
  },
  {
   "cell_type": "markdown",
   "metadata": {},
   "source": [
    "Признаки в нашй задаче - последовательность бета-значений, которые могут принимать значения от 0 до 1 ( $\\beta$ ∈ [0, 1] ). Данные значения являются количественными."
   ]
  },
  {
   "cell_type": "code",
   "execution_count": 8,
   "metadata": {},
   "outputs": [
    {
     "data": {
      "text/plain": [
       "array(['TCGA-BLCA', 'TCGA-BRCA', 'TCGA-CESC', 'TCGA-COAD', 'TCGA-ESCA',\n",
       "       'TCGA-HNSC', 'TCGA-KIRC', 'TCGA-KIRP', 'TCGA-LGG', 'TCGA-LIHC',\n",
       "       'TCGA-LUAD', 'TCGA-LUSC', 'TCGA-PRAD', 'TCGA-SARC', 'TCGA-SKCM',\n",
       "       'TCGA-STAD', 'TCGA-THCA', 'TCGA-UCEC'], dtype=object)"
      ]
     },
     "execution_count": 8,
     "metadata": {},
     "output_type": "execute_result"
    }
   ],
   "source": [
    "dfData['project'].unique()"
   ]
  },
  {
   "cell_type": "markdown",
   "metadata": {},
   "source": [
    "Как видно выше, данные о типе рака являются категориальным небинарным признаком. Их необходимо преобразовать в метки. Каждый тип рака будет обозначаться целочисленным числом."
   ]
  },
  {
   "cell_type": "markdown",
   "metadata": {},
   "source": [
    "Применим метод векторизации "
   ]
  },
  {
   "cell_type": "code",
   "execution_count": 9,
   "metadata": {},
   "outputs": [],
   "source": [
    "columns = dfData['project'].unique()\n",
    "\n",
    "dicСancerNum = {}\n",
    "\n",
    "num = 0\n",
    "for column in columns:\n",
    "    dicСancerNum[column] = num\n",
    "    num += 1\n",
    "\n",
    "markerList = []\n",
    "for column in list(dfData['project']):\n",
    "    markerList.append(dicСancerNum[column])\n",
    "\n",
    "\n",
    "dfData['project'] = dfData['project'].map(dicСancerNum).astype(int)\n"
   ]
  },
  {
   "cell_type": "code",
   "execution_count": 10,
   "metadata": {},
   "outputs": [
    {
     "data": {
      "text/plain": [
       "{'TCGA-BLCA': 0,\n",
       " 'TCGA-BRCA': 1,\n",
       " 'TCGA-CESC': 2,\n",
       " 'TCGA-COAD': 3,\n",
       " 'TCGA-ESCA': 4,\n",
       " 'TCGA-HNSC': 5,\n",
       " 'TCGA-KIRC': 6,\n",
       " 'TCGA-KIRP': 7,\n",
       " 'TCGA-LGG': 8,\n",
       " 'TCGA-LIHC': 9,\n",
       " 'TCGA-LUAD': 10,\n",
       " 'TCGA-LUSC': 11,\n",
       " 'TCGA-PRAD': 12,\n",
       " 'TCGA-SARC': 13,\n",
       " 'TCGA-SKCM': 14,\n",
       " 'TCGA-STAD': 15,\n",
       " 'TCGA-THCA': 16,\n",
       " 'TCGA-UCEC': 17}"
      ]
     },
     "execution_count": 10,
     "metadata": {},
     "output_type": "execute_result"
    }
   ],
   "source": [
    "dicСancerNum"
   ]
  },
  {
   "cell_type": "code",
   "execution_count": 24,
   "metadata": {},
   "outputs": [
    {
     "data": {
      "text/plain": [
       "array([ 0,  1,  2,  3,  4,  5,  6,  7,  8,  9, 10, 11, 12, 13, 14, 15, 16,\n",
       "       17])"
      ]
     },
     "execution_count": 24,
     "metadata": {},
     "output_type": "execute_result"
    }
   ],
   "source": [
    "dfData['project'].unique()"
   ]
  },
  {
   "cell_type": "markdown",
   "metadata": {},
   "source": [
    "## 6. Нормализация количественных признаков"
   ]
  },
  {
   "cell_type": "markdown",
   "metadata": {},
   "source": [
    "Данные метилирования ДНК (бета-значения) для CpG-сайтов были предварительно обработаны. В предварительную обработку уже входила нормализация данных. "
   ]
  },
  {
   "cell_type": "markdown",
   "metadata": {},
   "source": [
    "Подробнее:"
   ]
  },
  {
   "cell_type": "markdown",
   "metadata": {},
   "source": [
    "Для получения и оценки возможных изменений уровня метилирования ДНК, были использованы чипы Illumina Infinium Human MethylationEPIC BeadChips 850K (EPIC), которые позволяют измерить уровень метилирования на более чем 850 тысячах (850K) CpG-сайтов. Illumina 850K сочетает в себе две разные технологии химического анализа. Infinium I использует два типа зондов (один для метилированного аллеля и один для неметилированного аллеля), но оба сигнала измеряются одним цветом (красным или зеленым). Infinium II использует один тип зонда для обоих аллелей, но метилированные и неметилированные сигналы измеряются зеленым и красным цветом соответственно. Для каждого локуса метилирования регистрируются два представляющих интерес сигнала. Один сигнал измеряет интенсивность метилированной ДНК (Meth), а другой сигнал измеряет интенсивность неметилированной ДНК (Unmeth). Эти значения интенсивности могут быть использованы для определения доли метилирования в каждом локусе CpG. \n",
    "Соотношение β=Meth / (Unmeth + Meth) — это коэффициент метилирования, называемый бета-значением в программном обеспечении Illumina, в популяции клеток, из которых извлекается ДНК\n"
   ]
  },
  {
   "cell_type": "markdown",
   "metadata": {},
   "source": [
    "Данные, полученные с помощью чипа Illumina Infinium Human MethylationEPIC BeadChips 850K, имеют очень высокое качество. Но из-за того, что два химического состава (Infinium I и Infinium II) имеют разное динамическое поведение в анализе, необходима некоторая обработка данных, чтобы сделать их сопоставимыми. Важнейшими шагами являются: контроль качества для оценки качества набора данных после извлечения; фильтрация зондов для устранения вариаций сигнала, не связанных с различиями в метилировании ДНК или не связанных с биологическим контекстом исследования; коррекция сигнала для настройки цветового баланса и коррекции уровня фона; а также коррекция сдвига Infinium I / Infinium II и нормализация между выборками."
   ]
  },
  {
   "cell_type": "markdown",
   "metadata": {},
   "source": [
    "## 7. Разбивка данных на обучающую и тестовую выборки"
   ]
  },
  {
   "cell_type": "code",
   "execution_count": 2,
   "metadata": {},
   "outputs": [],
   "source": [
    "dfDataBeta = pd.read_pickle('D:/Nerobova_Anastasiya/ML/DataBeta.pkl')\n",
    "dfTags = pd.read_pickle('D:/Nerobova_Anastasiya/ML/tags_cancer.pkl')"
   ]
  },
  {
   "cell_type": "code",
   "execution_count": 3,
   "metadata": {},
   "outputs": [],
   "source": [
    "X = dfDataBeta.values\n",
    "y = dfTags.values"
   ]
  },
  {
   "cell_type": "markdown",
   "metadata": {},
   "source": [
    "Удаление ненужных файлов."
   ]
  },
  {
   "cell_type": "code",
   "execution_count": 4,
   "metadata": {},
   "outputs": [],
   "source": [
    "del(dfDataBeta)\n"
   ]
  },
  {
   "cell_type": "code",
   "execution_count": 5,
   "metadata": {},
   "outputs": [
    {
     "name": "stdout",
     "output_type": "stream",
     "text": [
      "(8188, 269176)\n",
      "(8188,)\n"
     ]
    }
   ],
   "source": [
    "print(X.shape)\n",
    "print(y.shape)\n",
    "N, d = X.shape"
   ]
  },
  {
   "cell_type": "markdown",
   "metadata": {},
   "source": [
    "Разделим даннеы на обучающие и тестовые."
   ]
  },
  {
   "cell_type": "code",
   "execution_count": 7,
   "metadata": {},
   "outputs": [],
   "source": [
    "from sklearn.model_selection import train_test_split\n",
    "X_train, X_test, y_train, y_test = train_test_split(X, y, \n",
    "                                                    train_size=0.7, \n",
    "                                                    random_state=42,\n",
    "                                                    stratify=y)"
   ]
  },
  {
   "cell_type": "code",
   "execution_count": 13,
   "metadata": {},
   "outputs": [],
   "source": [
    "from sklearn.metrics import accuracy_score"
   ]
  },
  {
   "cell_type": "code",
   "execution_count": 7,
   "metadata": {},
   "outputs": [
    {
     "name": "stdout",
     "output_type": "stream",
     "text": [
      "Количество строк в y_train по классам: [308 626 218 246 141 406 339 225 373 290 355 288 386 188 333 278 400 331]\n",
      "Количество строк в y_test по классам: [132 268  94 105  61 174 146  96 160 124 152 124 166  81 142 119 171 142]\n"
     ]
    }
   ],
   "source": [
    "print(f\"Количество строк в y_train по классам: {np.bincount(y_train)}\")\n",
    "print(f\"Количество строк в y_test по классам: {np.bincount(y_test)}\")"
   ]
  },
  {
   "cell_type": "code",
   "execution_count": 7,
   "metadata": {},
   "outputs": [],
   "source": [
    "del(X)\n",
    "del(y)"
   ]
  },
  {
   "cell_type": "markdown",
   "metadata": {},
   "source": [
    "Обучим несколько моделей и сравним их эффективность."
   ]
  },
  {
   "cell_type": "markdown",
   "metadata": {},
   "source": [
    "### Метод k-ближайших соседей (kNN)"
   ]
  },
  {
   "cell_type": "markdown",
   "metadata": {},
   "source": [
    "Обучим и запустим kNN, подсчитаем метрики."
   ]
  },
  {
   "cell_type": "code",
   "execution_count": 64,
   "metadata": {},
   "outputs": [
    {
     "data": {
      "text/plain": [
       "KNeighborsClassifier(n_neighbors=40)"
      ]
     },
     "execution_count": 64,
     "metadata": {},
     "output_type": "execute_result"
    }
   ],
   "source": [
    "from sklearn.neighbors import KNeighborsClassifier\n",
    "\n",
    "knn = KNeighborsClassifier(n_neighbors = 40)\n",
    "knn.fit(X_train, y_train)"
   ]
  },
  {
   "cell_type": "code",
   "execution_count": 65,
   "metadata": {},
   "outputs": [],
   "source": [
    "y_train_pred = knn.predict(X_train)"
   ]
  },
  {
   "cell_type": "code",
   "execution_count": 66,
   "metadata": {},
   "outputs": [],
   "source": [
    "y_test_predict_knn = knn.predict(X_test)"
   ]
  },
  {
   "cell_type": "code",
   "execution_count": 67,
   "metadata": {},
   "outputs": [
    {
     "name": "stderr",
     "output_type": "stream",
     "text": [
      "C:\\Users\\aging\\Anaconda3\\lib\\site-packages\\sklearn\\metrics\\_classification.py:1308: UndefinedMetricWarning: Precision is ill-defined and being set to 0.0 in labels with no predicted samples. Use `zero_division` parameter to control this behavior.\n",
      "  _warn_prf(average, modifier, msg_start, len(result))\n"
     ]
    },
    {
     "data": {
      "text/plain": [
       "0.847577317015279"
      ]
     },
     "execution_count": 67,
     "metadata": {},
     "output_type": "execute_result"
    }
   ],
   "source": [
    "from sklearn.metrics import accuracy_score, f1_score, precision_score, recall_score, classification_report, confusion_matrix\n",
    "\n",
    "precision_score(y_test, y_test_predict_knn, average=\"macro\")"
   ]
  },
  {
   "cell_type": "code",
   "execution_count": 68,
   "metadata": {},
   "outputs": [
    {
     "data": {
      "text/plain": [
       "0.8111173492384157"
      ]
     },
     "execution_count": 68,
     "metadata": {},
     "output_type": "execute_result"
    }
   ],
   "source": [
    "recall_score(y_test, y_test_predict_knn, average=\"macro\")"
   ]
  },
  {
   "cell_type": "code",
   "execution_count": 69,
   "metadata": {},
   "outputs": [
    {
     "data": {
      "text/plain": [
       "0.813041480417565"
      ]
     },
     "execution_count": 69,
     "metadata": {},
     "output_type": "execute_result"
    }
   ],
   "source": [
    "f1_score(y_test, y_test_predict_knn, average=\"macro\")"
   ]
  },
  {
   "cell_type": "code",
   "execution_count": 71,
   "metadata": {},
   "outputs": [
    {
     "data": {
      "image/png": "[encoded data removed]",
      "text/plain": [
       "<Figure size 432x288 with 2 Axes>"
      ]
     },
     "metadata": {
      "needs_background": "light"
     },
     "output_type": "display_data"
    }
   ],
   "source": [
    "from sklearn.metrics import confusion_matrix, ConfusionMatrixDisplay\n",
    "import matplotlib.pyplot as plt\n",
    "cm = confusion_matrix(y_test, y_test_predict_knn, labels=knn.classes_)\n",
    "disp = ConfusionMatrixDisplay(confusion_matrix=cm,\n",
    "                               display_labels=knn.classes_)\n",
    "disp.plot()\n",
    "plt.show()"
   ]
  },
  {
   "cell_type": "markdown",
   "metadata": {},
   "source": [
    "Ошибка на обучающих данных:"
   ]
  },
  {
   "cell_type": "code",
   "execution_count": 72,
   "metadata": {},
   "outputs": [],
   "source": [
    "err_train = np.mean(y_train != y_train_pred)"
   ]
  },
  {
   "cell_type": "code",
   "execution_count": 73,
   "metadata": {},
   "outputs": [
    {
     "data": {
      "text/plain": [
       "0.12563252486477056"
      ]
     },
     "execution_count": 73,
     "metadata": {},
     "output_type": "execute_result"
    }
   ],
   "source": [
    "err_train"
   ]
  },
  {
   "cell_type": "markdown",
   "metadata": {},
   "source": [
    "Ошибка на тестовых данных:"
   ]
  },
  {
   "cell_type": "code",
   "execution_count": 74,
   "metadata": {},
   "outputs": [],
   "source": [
    "err_test  = np.mean(y_test != y_test_predict_knn)\n",
    "err_test"
   ]
  },
  {
   "cell_type": "code",
   "execution_count": 75,
   "metadata": {},
   "outputs": [
    {
     "data": {
      "text/plain": [
       "0.1326821326821327"
      ]
     },
     "execution_count": 75,
     "metadata": {},
     "output_type": "execute_result"
    }
   ],
   "source": [
    "err_test"
   ]
  },
  {
   "cell_type": "markdown",
   "metadata": {},
   "source": [
    "### Дерево решений (DecisionTreeClassifier)"
   ]
  },
  {
   "cell_type": "markdown",
   "metadata": {},
   "source": [
    "Обучим и запустим DecisionTreeClassifier, подсчитаем метрики."
   ]
  },
  {
   "cell_type": "code",
   "execution_count": 8,
   "metadata": {},
   "outputs": [
    {
     "data": {
      "text/plain": [
       "DecisionTreeClassifier()"
      ]
     },
     "execution_count": 8,
     "metadata": {},
     "output_type": "execute_result"
    }
   ],
   "source": [
    "from sklearn.tree import DecisionTreeClassifier\n",
    "\n",
    "logreg_clf = DecisionTreeClassifier()\n",
    "logreg_clf.fit(X_train, y_train)"
   ]
  },
  {
   "cell_type": "code",
   "execution_count": 12,
   "metadata": {},
   "outputs": [],
   "source": [
    "y_train_pred_clf = logreg_clf.predict(X_train)"
   ]
  },
  {
   "cell_type": "code",
   "execution_count": 13,
   "metadata": {},
   "outputs": [],
   "source": [
    "y_test_predict_clf = logreg_clf.predict(X_test)"
   ]
  },
  {
   "cell_type": "code",
   "execution_count": 14,
   "metadata": {},
   "outputs": [
    {
     "data": {
      "text/plain": [
       "0.8426412004894607"
      ]
     },
     "execution_count": 14,
     "metadata": {},
     "output_type": "execute_result"
    }
   ],
   "source": [
    "from sklearn.metrics import accuracy_score, f1_score, precision_score, recall_score, classification_report, confusion_matrix\n",
    "\n",
    "precision_score(y_test, y_test_predict_clf, average=\"macro\")"
   ]
  },
  {
   "cell_type": "code",
   "execution_count": 16,
   "metadata": {},
   "outputs": [
    {
     "data": {
      "text/plain": [
       "0.8439987513809712"
      ]
     },
     "execution_count": 16,
     "metadata": {},
     "output_type": "execute_result"
    }
   ],
   "source": [
    "recall_score(y_test, y_test_predict_clf, average=\"macro\")"
   ]
  },
  {
   "cell_type": "code",
   "execution_count": 15,
   "metadata": {},
   "outputs": [
    {
     "data": {
      "text/plain": [
       "0.8429245341162541"
      ]
     },
     "execution_count": 15,
     "metadata": {},
     "output_type": "execute_result"
    }
   ],
   "source": [
    "f1_score(y_test, y_test_predict_clf, average=\"macro\")"
   ]
  },
  {
   "cell_type": "code",
   "execution_count": 17,
   "metadata": {},
   "outputs": [
    {
     "data": {
      "image/png": "[encoded data removed]",
      "text/plain": [
       "<Figure size 432x288 with 2 Axes>"
      ]
     },
     "metadata": {
      "needs_background": "light"
     },
     "output_type": "display_data"
    }
   ],
   "source": [
    "from sklearn.metrics import confusion_matrix, ConfusionMatrixDisplay\n",
    "import matplotlib.pyplot as plt\n",
    "cm = confusion_matrix(y_test, y_test_predict_clf, labels=logreg_clf.classes_)\n",
    "disp = ConfusionMatrixDisplay(confusion_matrix=cm,\n",
    "                               display_labels=logreg_clf.classes_)\n",
    "disp.plot()\n",
    "plt.show()"
   ]
  },
  {
   "cell_type": "markdown",
   "metadata": {},
   "source": [
    "Ошибка на обучающих данных:"
   ]
  },
  {
   "cell_type": "code",
   "execution_count": 19,
   "metadata": {},
   "outputs": [
    {
     "data": {
      "text/plain": [
       "0.0"
      ]
     },
     "execution_count": 19,
     "metadata": {},
     "output_type": "execute_result"
    }
   ],
   "source": [
    "err_train = np.mean(y_train != y_train_pred_clf)\n",
    "err_train"
   ]
  },
  {
   "cell_type": "markdown",
   "metadata": {},
   "source": [
    "Ошибка на тестовых данных:"
   ]
  },
  {
   "cell_type": "code",
   "execution_count": 20,
   "metadata": {},
   "outputs": [
    {
     "data": {
      "text/plain": [
       "0.13471713471713473"
      ]
     },
     "execution_count": 20,
     "metadata": {},
     "output_type": "execute_result"
    }
   ],
   "source": [
    "err_test  = np.mean(y_test != y_test_predict_clf)\n",
    "err_test"
   ]
  },
  {
   "cell_type": "markdown",
   "metadata": {},
   "source": [
    "### Наивный метод Байеса (GaussianNB)"
   ]
  },
  {
   "cell_type": "markdown",
   "metadata": {},
   "source": [
    "Обучим и запустим GaussianNB, подсчитаем метрики."
   ]
  },
  {
   "cell_type": "code",
   "execution_count": 21,
   "metadata": {},
   "outputs": [
    {
     "data": {
      "text/plain": [
       "GaussianNB()"
      ]
     },
     "execution_count": 21,
     "metadata": {},
     "output_type": "execute_result"
    }
   ],
   "source": [
    "from sklearn.naive_bayes import GaussianNB\n",
    "\n",
    "gnb = GaussianNB()\n",
    "gnb.fit(X_train, y_train)"
   ]
  },
  {
   "cell_type": "code",
   "execution_count": 22,
   "metadata": {},
   "outputs": [],
   "source": [
    "y_train_pred_gnb = gnb.predict(X_train)"
   ]
  },
  {
   "cell_type": "code",
   "execution_count": 23,
   "metadata": {},
   "outputs": [],
   "source": [
    "y_test_predict_gnb = gnb.predict(X_test)"
   ]
  },
  {
   "cell_type": "code",
   "execution_count": 24,
   "metadata": {},
   "outputs": [
    {
     "data": {
      "text/plain": [
       "0.8659946965329923"
      ]
     },
     "execution_count": 24,
     "metadata": {},
     "output_type": "execute_result"
    }
   ],
   "source": [
    "from sklearn.metrics import accuracy_score, f1_score, precision_score, recall_score, classification_report, confusion_matrix\n",
    "\n",
    "precision_score(y_test, y_test_predict_gnb, average=\"macro\")"
   ]
  },
  {
   "cell_type": "code",
   "execution_count": 25,
   "metadata": {},
   "outputs": [
    {
     "data": {
      "text/plain": [
       "0.8537470785441287"
      ]
     },
     "execution_count": 25,
     "metadata": {},
     "output_type": "execute_result"
    }
   ],
   "source": [
    "recall_score(y_test, y_test_predict_gnb, average=\"macro\")"
   ]
  },
  {
   "cell_type": "code",
   "execution_count": 26,
   "metadata": {},
   "outputs": [
    {
     "data": {
      "text/plain": [
       "0.8549795648183429"
      ]
     },
     "execution_count": 26,
     "metadata": {},
     "output_type": "execute_result"
    }
   ],
   "source": [
    "f1_score(y_test, y_test_predict_gnb, average=\"macro\")"
   ]
  },
  {
   "cell_type": "code",
   "execution_count": 27,
   "metadata": {},
   "outputs": [
    {
     "data": {
      "image/png": "[encoded data removed]",
      "text/plain": [
       "<Figure size 432x288 with 2 Axes>"
      ]
     },
     "metadata": {
      "needs_background": "light"
     },
     "output_type": "display_data"
    }
   ],
   "source": [
    "from sklearn.metrics import confusion_matrix, ConfusionMatrixDisplay\n",
    "import matplotlib.pyplot as plt\n",
    "cm = confusion_matrix(y_test, y_test_predict_gnb, labels=gnb.classes_)\n",
    "disp = ConfusionMatrixDisplay(confusion_matrix=cm,\n",
    "                               display_labels=gnb.classes_)\n",
    "disp.plot()\n",
    "plt.show()"
   ]
  },
  {
   "cell_type": "markdown",
   "metadata": {},
   "source": [
    "Ошибка на обучающих данных:"
   ]
  },
  {
   "cell_type": "code",
   "execution_count": 28,
   "metadata": {},
   "outputs": [
    {
     "data": {
      "text/plain": [
       "0.07154074332577212"
      ]
     },
     "execution_count": 28,
     "metadata": {},
     "output_type": "execute_result"
    }
   ],
   "source": [
    "err_train = np.mean(y_train != y_train_pred_gnb)\n",
    "err_train"
   ]
  },
  {
   "cell_type": "markdown",
   "metadata": {},
   "source": [
    "Ошибка на тестовых данных:"
   ]
  },
  {
   "cell_type": "code",
   "execution_count": 29,
   "metadata": {},
   "outputs": [
    {
     "data": {
      "text/plain": [
       "0.11843711843711843"
      ]
     },
     "execution_count": 29,
     "metadata": {},
     "output_type": "execute_result"
    }
   ],
   "source": [
    "err_test  = np.mean(y_test != y_test_predict_gnb)\n",
    "err_test"
   ]
  },
  {
   "cell_type": "markdown",
   "metadata": {},
   "source": [
    "### Линейный дискриминантный анализ"
   ]
  },
  {
   "cell_type": "code",
   "execution_count": 8,
   "metadata": {},
   "outputs": [
    {
     "data": {
      "text/plain": [
       "LinearDiscriminantAnalysis()"
      ]
     },
     "execution_count": 8,
     "metadata": {},
     "output_type": "execute_result"
    }
   ],
   "source": [
    "from sklearn.discriminant_analysis import LinearDiscriminantAnalysis\n",
    "\n",
    "clf = LinearDiscriminantAnalysis()\n",
    "clf.fit(X_train, y_train)"
   ]
  },
  {
   "cell_type": "code",
   "execution_count": 9,
   "metadata": {},
   "outputs": [],
   "source": [
    "y_train_pred_clf = clf.predict(X_train)"
   ]
  },
  {
   "cell_type": "code",
   "execution_count": 10,
   "metadata": {},
   "outputs": [],
   "source": [
    "y_test_predict_clf = clf.predict(X_test)"
   ]
  },
  {
   "cell_type": "code",
   "execution_count": 11,
   "metadata": {},
   "outputs": [
    {
     "data": {
      "text/plain": [
       "0.9582730337489941"
      ]
     },
     "execution_count": 11,
     "metadata": {},
     "output_type": "execute_result"
    }
   ],
   "source": [
    "from sklearn.metrics import accuracy_score, f1_score, precision_score, recall_score, classification_report, confusion_matrix\n",
    "\n",
    "precision_score(y_test, y_test_predict_clf, average=\"macro\")"
   ]
  },
  {
   "cell_type": "code",
   "execution_count": 12,
   "metadata": {},
   "outputs": [
    {
     "data": {
      "text/plain": [
       "0.9429479675780501"
      ]
     },
     "execution_count": 12,
     "metadata": {},
     "output_type": "execute_result"
    }
   ],
   "source": [
    "recall_score(y_test, y_test_predict_clf, average=\"macro\")"
   ]
  },
  {
   "cell_type": "code",
   "execution_count": 13,
   "metadata": {},
   "outputs": [
    {
     "data": {
      "text/plain": [
       "0.9481427729966779"
      ]
     },
     "execution_count": 13,
     "metadata": {},
     "output_type": "execute_result"
    }
   ],
   "source": [
    "f1_score(y_test, y_test_predict_clf, average=\"macro\")"
   ]
  },
  {
   "cell_type": "code",
   "execution_count": 14,
   "metadata": {},
   "outputs": [
    {
     "data": {
      "image/png": "[encoded data removed]",
      "text/plain": [
       "<Figure size 432x288 with 2 Axes>"
      ]
     },
     "metadata": {
      "needs_background": "light"
     },
     "output_type": "display_data"
    }
   ],
   "source": [
    "from sklearn.metrics import confusion_matrix, ConfusionMatrixDisplay\n",
    "import matplotlib.pyplot as plt\n",
    "cm = confusion_matrix(y_test, y_test_predict_clf, labels=clf.classes_)\n",
    "disp = ConfusionMatrixDisplay(confusion_matrix=cm,\n",
    "                               display_labels=clf.classes_)\n",
    "disp.plot()\n",
    "plt.show()"
   ]
  },
  {
   "cell_type": "markdown",
   "metadata": {},
   "source": [
    "Ошибка на обучающих данных:"
   ]
  },
  {
   "cell_type": "code",
   "execution_count": 15,
   "metadata": {},
   "outputs": [
    {
     "data": {
      "text/plain": [
       "0.026696911533763742"
      ]
     },
     "execution_count": 15,
     "metadata": {},
     "output_type": "execute_result"
    }
   ],
   "source": [
    "err_train = np.mean(y_train != y_train_pred_clf)\n",
    "err_train"
   ]
  },
  {
   "cell_type": "markdown",
   "metadata": {},
   "source": [
    "Ошибка на тестовых данных:"
   ]
  },
  {
   "cell_type": "code",
   "execution_count": 16,
   "metadata": {},
   "outputs": [
    {
     "data": {
      "text/plain": [
       "0.03825803825803826"
      ]
     },
     "execution_count": 16,
     "metadata": {},
     "output_type": "execute_result"
    }
   ],
   "source": [
    "err_test  = np.mean(y_test != y_test_predict_clf)\n",
    "err_test"
   ]
  },
  {
   "cell_type": "markdown",
   "metadata": {},
   "source": [
    "## 8. Вывод"
   ]
  },
  {
   "cell_type": "markdown",
   "metadata": {},
   "source": [
    "Для метода k-ближайших соседей ошибка на обучающей выборке = 0.1256325248, на тестовой = 0.1326821326;  Точность (precision) метода = 0.8475773, полнота (recall) = 0.81111734"
   ]
  },
  {
   "cell_type": "markdown",
   "metadata": {},
   "source": [
    "Для дерева решений ошибка на обучающей выборке = 0.0, на тестовой = 0.13471713;  Точность (precision) метода = 0.84264120, полнота (recall) = 0.843998751"
   ]
  },
  {
   "cell_type": "markdown",
   "metadata": {},
   "source": [
    "Для наивного метода Байеса ошибка на обучающей выборке = 0.07154074, на тестовой = 0.11843711;  Точность (precision) метода = 0.86599469, полнота (recall) = 0.853747078"
   ]
  },
  {
   "cell_type": "markdown",
   "metadata": {},
   "source": [
    "Для линейного дискриминантного анализа ошибка на обучающей выборке = 0.026696911, на тестовой = 0.038258038;  Точность (precision) метода = 0.958273033, полнота (recall) = 0.94294796"
   ]
  },
  {
   "cell_type": "markdown",
   "metadata": {},
   "source": [
    "Лучший результат показали классификатор линейный дискриминантный анализ. Его ошибка на тестовой выборке = 0.038258038, а такие метрики как точность и полнота больше, чем у других классификаторов."
   ]
  },
  {
   "cell_type": "markdown",
   "metadata": {},
   "source": [
    "# Нейронная сеть"
   ]
  },
  {
   "cell_type": "markdown",
   "metadata": {},
   "source": [
    "## Обучаем классификатор"
   ]
  },
  {
   "cell_type": "code",
   "execution_count": 10,
   "metadata": {},
   "outputs": [],
   "source": [
    "from sklearn.neural_network import MLPClassifier\n",
    "mlp_model = MLPClassifier(alpha = 1, \n",
    "                              hidden_layer_sizes = (3,),\n",
    "                              solver = 'lbfgs', \n",
    "                              max_iter = 25, \n",
    "                              activation = 'logistic',\n",
    "                              random_state = 42)"
   ]
  },
  {
   "cell_type": "markdown",
   "metadata": {},
   "source": [
    "## Подбор гиперпараметров"
   ]
  },
  {
   "cell_type": "code",
   "execution_count": 63,
   "metadata": {},
   "outputs": [],
   "source": [
    "alpha_arr = np.logspace(-3, 2, 10)"
   ]
  },
  {
   "cell_type": "code",
   "execution_count": 37,
   "metadata": {},
   "outputs": [],
   "source": [
    "test_err = []\n",
    "train_err = []\n",
    "train_acc = []\n",
    "test_acc = []"
   ]
  },
  {
   "cell_type": "code",
   "execution_count": 70,
   "metadata": {},
   "outputs": [],
   "source": [
    "alpha_arr = alpha_arr[:5]"
   ]
  },
  {
   "cell_type": "code",
   "execution_count": 71,
   "metadata": {},
   "outputs": [
    {
     "data": {
      "text/plain": [
       "array([0.001     , 0.00359381, 0.0129155 , 0.04641589, 0.16681005])"
      ]
     },
     "execution_count": 71,
     "metadata": {},
     "output_type": "execute_result"
    }
   ],
   "source": [
    "alpha_arr"
   ]
  },
  {
   "cell_type": "code",
   "execution_count": 73,
   "metadata": {},
   "outputs": [
    {
     "name": "stdout",
     "output_type": "stream",
     "text": [
      "0.001\n",
      "0.003593813663804626\n",
      "0.01291549665014884\n",
      "0.046415888336127795\n",
      "0.1668100537200059\n",
      "Wall time: 23min 15s\n"
     ]
    }
   ],
   "source": [
    "%%time\n",
    "for alpha in alpha_arr:\n",
    "    print(alpha)\n",
    "    mlp_model = MLPClassifier(alpha = alpha, \n",
    "                              hidden_layer_sizes = (3,),\n",
    "                              solver = 'lbfgs', \n",
    "                              max_iter = , \n",
    "                              activation = 'logistic',\n",
    "                              random_state = 42)\n",
    "    \n",
    "    \n",
    "    mlp_model.fit(X_train, y_train)\n",
    "\n",
    "    y_train_pred = mlp_model.predict(X_train)\n",
    "    y_test_pred = mlp_model.predict(X_test)\n",
    "    \n",
    "    train_err.append(np.mean(y_train != y_train_pred))\n",
    "    test_err.append(np.mean(y_test != y_test_pred))\n",
    "    train_acc.append(accuracy_score(y_train, y_train_pred))\n",
    "    test_acc.append(accuracy_score(y_test, y_test_pred))"
   ]
  },
  {
   "cell_type": "code",
   "execution_count": 74,
   "metadata": {},
   "outputs": [
    {
     "data": {
      "text/plain": [
       "<matplotlib.legend.Legend at 0x19bcc286988>"
      ]
     },
     "execution_count": 74,
     "metadata": {},
     "output_type": "execute_result"
    },
    {
     "data": {
      "image/png": "[encoded data removed]",
      "text/plain": [
       "<Figure size 432x288 with 1 Axes>"
      ]
     },
     "metadata": {
      "needs_background": "light"
     },
     "output_type": "display_data"
    }
   ],
   "source": [
    "plt.semilogx(alpha_arr, train_err, 'b-o', label = 'train')\n",
    "plt.semilogx(alpha_arr, test_err, 'r-o', label = 'test')\n",
    "plt.xlim([np.min(alpha_arr), np.max(alpha_arr)])\n",
    "plt.title('Error vs. alpha')\n",
    "plt.xlabel('alpha')\n",
    "plt.ylabel('error')\n",
    "plt.legend()"
   ]
  },
  {
   "cell_type": "markdown",
   "metadata": {},
   "source": [
    "## Изменение метрики в зависимости от гиперпараметра:"
   ]
  },
  {
   "cell_type": "code",
   "execution_count": 75,
   "metadata": {},
   "outputs": [
    {
     "data": {
      "text/plain": [
       "<matplotlib.legend.Legend at 0x19bc1f8ec48>"
      ]
     },
     "execution_count": 75,
     "metadata": {},
     "output_type": "execute_result"
    },
    {
     "data": {
      "image/png": "[encoded data removed]",
      "text/plain": [
       "<Figure size 432x288 with 1 Axes>"
      ]
     },
     "metadata": {
      "needs_background": "light"
     },
     "output_type": "display_data"
    }
   ],
   "source": [
    "plt.semilogx(alpha_arr, train_acc, 'r-o', label = 'train')\n",
    "plt.semilogx(alpha_arr, test_acc, 'b-o', label = 'test')\n",
    "plt.xlim([np.min(alpha_arr), np.max(alpha_arr)])\n",
    "plt.title('Accuracy vs. alpha')\n",
    "plt.xlabel('alpha')\n",
    "plt.ylabel('Accuracy')\n",
    "plt.legend()"
   ]
  },
  {
   "cell_type": "markdown",
   "metadata": {},
   "source": [
    "Минимальное значение ошибки:"
   ]
  },
  {
   "cell_type": "code",
   "execution_count": 76,
   "metadata": {},
   "outputs": [
    {
     "name": "stdout",
     "output_type": "stream",
     "text": [
      "0.8907694992147968 0.8909238909238909\n"
     ]
    }
   ],
   "source": [
    "min_train_err = np.min(train_err)\n",
    "min_test_err = np.min(test_err)\n",
    "print(min_train_err, min_test_err)"
   ]
  },
  {
   "cell_type": "markdown",
   "metadata": {},
   "source": [
    "Оптимальное значение alpha:"
   ]
  },
  {
   "cell_type": "code",
   "execution_count": 77,
   "metadata": {},
   "outputs": [
    {
     "name": "stdout",
     "output_type": "stream",
     "text": [
      "[0.001      0.00359381 0.0129155  0.04641589 0.16681005]\n"
     ]
    }
   ],
   "source": [
    "alpha_opt = alpha_arr[test_err == min_test_err]\n",
    "print(alpha_opt)"
   ]
  },
  {
   "cell_type": "code",
   "execution_count": null,
   "metadata": {},
   "outputs": [],
   "source": [
    "alpha_opt = alpha_opt[0]\n",
    "alpha_opt"
   ]
  },
  {
   "cell_type": "markdown",
   "metadata": {},
   "source": [
    "Т.к. минимальное значение ошибки находитмя при alpha = 0.001, попробуем взять несколько точек слева."
   ]
  },
  {
   "cell_type": "code",
   "execution_count": 84,
   "metadata": {},
   "outputs": [],
   "source": [
    "alpha_arr = np.logspace(-4, -3, 5)"
   ]
  },
  {
   "cell_type": "code",
   "execution_count": 87,
   "metadata": {},
   "outputs": [
    {
     "data": {
      "text/plain": [
       "array([0.0001    , 0.00017783, 0.00031623, 0.00056234, 0.001     ])"
      ]
     },
     "execution_count": 87,
     "metadata": {},
     "output_type": "execute_result"
    }
   ],
   "source": [
    "alpha_arr"
   ]
  },
  {
   "cell_type": "code",
   "execution_count": 88,
   "metadata": {},
   "outputs": [],
   "source": [
    "test_err = []\n",
    "train_err = []\n",
    "train_acc = []\n",
    "test_acc = []"
   ]
  },
  {
   "cell_type": "code",
   "execution_count": 90,
   "metadata": {},
   "outputs": [
    {
     "name": "stdout",
     "output_type": "stream",
     "text": [
      "0.0001\n",
      "0.00017782794100389227\n",
      "0.00031622776601683794\n",
      "0.0005623413251903491\n",
      "0.001\n",
      "Wall time: 23min 37s\n"
     ]
    }
   ],
   "source": [
    "%%time\n",
    "for alpha in alpha_arr:\n",
    "    print(alpha)\n",
    "    mlp_model = MLPClassifier(alpha = alpha, \n",
    "                              hidden_layer_sizes = (3,),\n",
    "                              solver = 'lbfgs', \n",
    "                              max_iter = 25, \n",
    "                              activation = 'logistic',\n",
    "                              random_state = 42)\n",
    "    \n",
    "    \n",
    "    mlp_model.fit(X_train, y_train)\n",
    "\n",
    "    y_train_pred = mlp_model.predict(X_train)\n",
    "    y_test_pred = mlp_model.predict(X_test)\n",
    "    \n",
    "    train_err.append(np.mean(y_train != y_train_pred))\n",
    "    test_err.append(np.mean(y_test != y_test_pred))\n",
    "    train_acc.append(accuracy_score(y_train, y_train_pred))\n",
    "    test_acc.append(accuracy_score(y_test, y_test_pred))"
   ]
  },
  {
   "cell_type": "code",
   "execution_count": 91,
   "metadata": {},
   "outputs": [
    {
     "data": {
      "text/plain": [
       "<matplotlib.legend.Legend at 0x19bc2056ec8>"
      ]
     },
     "execution_count": 91,
     "metadata": {},
     "output_type": "execute_result"
    },
    {
     "data": {
      "image/png": "[encoded data removed]",
      "text/plain": [
       "<Figure size 432x288 with 1 Axes>"
      ]
     },
     "metadata": {
      "needs_background": "light"
     },
     "output_type": "display_data"
    }
   ],
   "source": [
    "plt.semilogx(alpha_arr, train_err, 'b-o', label = 'train')\n",
    "plt.semilogx(alpha_arr, test_err, 'r-o', label = 'test')\n",
    "plt.xlim([np.min(alpha_arr), np.max(alpha_arr)])\n",
    "plt.title('Error vs. alpha')\n",
    "plt.xlabel('alpha')\n",
    "plt.ylabel('error')\n",
    "plt.legend()"
   ]
  },
  {
   "cell_type": "code",
   "execution_count": 96,
   "metadata": {},
   "outputs": [
    {
     "data": {
      "text/plain": [
       "<matplotlib.legend.Legend at 0x19c0db838c8>"
      ]
     },
     "execution_count": 96,
     "metadata": {},
     "output_type": "execute_result"
    },
    {
     "data": {
      "image/png": "[encoded data removed]",
      "text/plain": [
       "<Figure size 432x288 with 1 Axes>"
      ]
     },
     "metadata": {
      "needs_background": "light"
     },
     "output_type": "display_data"
    }
   ],
   "source": [
    "plt.semilogx(alpha_arr, train_acc, 'r-o', label = 'train')\n",
    "plt.semilogx(alpha_arr, test_acc, 'b-o', label = 'test')\n",
    "plt.xlim([np.min(alpha_arr), np.max(alpha_arr)])\n",
    "plt.title('Accuracy vs. alpha')\n",
    "plt.xlabel('alpha')\n",
    "plt.ylabel('Accuracy')\n",
    "plt.legend()"
   ]
  },
  {
   "cell_type": "code",
   "execution_count": 97,
   "metadata": {},
   "outputs": [
    {
     "name": "stdout",
     "output_type": "stream",
     "text": [
      "0.8907694992147968 0.8909238909238909\n"
     ]
    }
   ],
   "source": [
    "min_train_err = np.min(train_err)\n",
    "min_test_err = np.min(test_err)\n",
    "print(min_train_err, min_test_err)"
   ]
  },
  {
   "cell_type": "code",
   "execution_count": 99,
   "metadata": {},
   "outputs": [
    {
     "data": {
      "text/plain": [
       "0.0001"
      ]
     },
     "execution_count": 99,
     "metadata": {},
     "output_type": "execute_result"
    }
   ],
   "source": [
    "alpha_opt = alpha_arr[test_err == min_test_err]\n",
    "alpha_opt = alpha_opt[0]\n",
    "alpha_opt"
   ]
  },
  {
   "cell_type": "markdown",
   "metadata": {},
   "source": [
    "Классификатор при найденном оптимальном значении alpha:"
   ]
  },
  {
   "cell_type": "code",
   "execution_count": null,
   "metadata": {},
   "outputs": [],
   "source": [
    "mlp_model = MLPClassifier(alpha = alpha_opt, hidden_layer_sizes = (100,),\n",
    "                          solver = 'lbfgs', activation = 'logistic', random_state = 42)\n",
    "mlp_model.fit(X_train, y_train)\n",
    "\n",
    "y_train_pred = mlp_model.predict(X_train)\n",
    "y_test_pred = mlp_model.predict(X_test)\n",
    "print(np.mean(y_train != y_train_pred))\n",
    "print(np.mean(y_test != y_test_pred))"
   ]
  },
  {
   "cell_type": "markdown",
   "metadata": {},
   "source": [
    "Матрица рассогласования:"
   ]
  },
  {
   "cell_type": "code",
   "execution_count": null,
   "metadata": {},
   "outputs": [],
   "source": [
    "plot_confusion_matrix(mlp_model, X_test, y_test) "
   ]
  },
  {
   "cell_type": "code",
   "execution_count": null,
   "metadata": {},
   "outputs": [],
   "source": []
  },
  {
   "cell_type": "code",
   "execution_count": 27,
   "metadata": {},
   "outputs": [
    {
     "data": {
      "image/png": "[encoded data removed]",
      "text/plain": [
       "<Figure size 432x288 with 2 Axes>"
      ]
     },
     "metadata": {
      "needs_background": "light"
     },
     "output_type": "display_data"
    }
   ],
   "source": [
    "from sklearn.metrics import confusion_matrix, ConfusionMatrixDisplay\n",
    "import matplotlib.pyplot as plt\n",
    "cm = confusion_matrix(y_test, y_test_pred, labels=mlp_model.classes_)\n",
    "disp = ConfusionMatrixDisplay(confusion_matrix=cm,\n",
    "                               display_labels=mlp_model.classes_)\n",
    "disp.plot()\n",
    "plt.show()"
   ]
  },
  {
   "cell_type": "code",
   "execution_count": 93,
   "metadata": {},
   "outputs": [],
   "source": [
    "from imblearn.under_sampling import NearMiss\n",
    "nm = NearMiss()\n",
    "X_train_miss, Y_train_miss = nm.fit_resample(X_train, y_train.ravel())\n"
   ]
  },
  {
   "cell_type": "code",
   "execution_count": 94,
   "metadata": {},
   "outputs": [
    {
     "data": {
      "text/plain": [
       "141"
      ]
     },
     "execution_count": 94,
     "metadata": {},
     "output_type": "execute_result"
    }
   ],
   "source": [
    "sum(Y_train_miss == 0)"
   ]
  },
  {
   "cell_type": "code",
   "execution_count": 95,
   "metadata": {},
   "outputs": [
    {
     "data": {
      "text/plain": [
       "141"
      ]
     },
     "execution_count": 95,
     "metadata": {},
     "output_type": "execute_result"
    }
   ],
   "source": [
    "sum(Y_train_miss == 12)"
   ]
  },
  {
   "cell_type": "code",
   "execution_count": 100,
   "metadata": {},
   "outputs": [],
   "source": [
    "mlp_model = MLPClassifier(hidden_layer_sizes = (10,),\n",
    "                          solver = 'lbfgs', \n",
    "                          activation = 'relu',\n",
    "                          random_state = 42)"
   ]
  },
  {
   "cell_type": "code",
   "execution_count": null,
   "metadata": {},
   "outputs": [],
   "source": [
    "%%time\n",
    "mlp_model.fit(X_train_miss, Y_train_miss)"
   ]
  },
  {
   "cell_type": "code",
   "execution_count": 52,
   "metadata": {},
   "outputs": [
    {
     "data": {
      "text/plain": [
       "array([12, 12, 12, ..., 12, 12, 12])"
      ]
     },
     "execution_count": 52,
     "metadata": {},
     "output_type": "execute_result"
    }
   ],
   "source": [
    "y_train_pred"
   ]
  },
  {
   "cell_type": "code",
   "execution_count": 50,
   "metadata": {},
   "outputs": [],
   "source": [
    "y_train_pred = mlp_model.predict(X_train_miss)\n",
    "y_test_pred = mlp_model.predict(X_test)"
   ]
  },
  {
   "cell_type": "code",
   "execution_count": 51,
   "metadata": {},
   "outputs": [
    {
     "name": "stdout",
     "output_type": "stream",
     "text": [
      "0.9444444444444444 0.9324379324379325\n"
     ]
    }
   ],
   "source": [
    "print(np.mean(Y_train_miss != y_train_pred), np.mean(y_test != y_test_pred))"
   ]
  },
  {
   "cell_type": "code",
   "execution_count": 53,
   "metadata": {},
   "outputs": [
    {
     "data": {
      "image/png": "[encoded data removed]",
      "text/plain": [
       "<Figure size 432x288 with 2 Axes>"
      ]
     },
     "metadata": {
      "needs_background": "light"
     },
     "output_type": "display_data"
    }
   ],
   "source": [
    "from sklearn.metrics import confusion_matrix, ConfusionMatrixDisplay\n",
    "import matplotlib.pyplot as plt\n",
    "cm = confusion_matrix(y_test, y_test_pred, labels=mlp_model.classes_)\n",
    "disp = ConfusionMatrixDisplay(confusion_matrix=cm,\n",
    "                               display_labels=mlp_model.classes_)\n",
    "disp.plot()\n",
    "plt.show()"
   ]
  },
  {
   "cell_type": "code",
   "execution_count": null,
   "metadata": {},
   "outputs": [],
   "source": []
  }
 ],
 "metadata": {
  "kernelspec": {
   "display_name": "Python 3",
   "language": "python",
   "name": "python3"
  },
  "language_info": {
   "codemirror_mode": {
    "name": "ipython",
    "version": 3
   },
   "file_extension": ".py",
   "mimetype": "text/x-python",
   "name": "python",
   "nbconvert_exporter": "python",
   "pygments_lexer": "ipython3",
   "version": "3.7.4"
  }
 },
 "nbformat": 4,
 "nbformat_minor": 2
}
