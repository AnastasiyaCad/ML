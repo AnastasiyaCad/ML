{
 "cells": [
  {
   "cell_type": "code",
   "execution_count": 1,
   "metadata": {},
   "outputs": [
    {
     "name": "stderr",
     "output_type": "stream",
     "text": [
      "C:\\Users\\aging\\Anaconda3\\lib\\site-packages\\ipykernel_launcher.py:5: FutureWarning: pandas.util.testing is deprecated. Use the functions in the public API at pandas.testing instead.\n",
      "  \"\"\"\n"
     ]
    }
   ],
   "source": [
    "import numpy as np             \n",
    "import matplotlib.pyplot as plt \n",
    "%matplotlib inline \n",
    "import pandas as pd\n",
    "import pandas.util.testing as tm\n",
    "import seaborn as sns          \n",
    "import sklearn  \n",
    "import pickle"
   ]
  },
  {
   "cell_type": "markdown",
   "metadata": {},
   "source": [
    "# Классификация рака"
   ]
  },
  {
   "cell_type": "markdown",
   "metadata": {},
   "source": [
    "Проведение классификации пациентов по типу рака на основе уровня метилирования ДНК (бета-значений)."
   ]
  },
  {
   "cell_type": "markdown",
   "metadata": {},
   "source": [
    "## 1. Загрузка данных"
   ]
  },
  {
   "cell_type": "markdown",
   "metadata": {},
   "source": [
    "Загрузим два файла. Первый файл содержит информацию о клинических данных пациентов. Второй файл содежит в себе данные бета-значений CpG сайтов каждого пациента.  "
   ]
  },
  {
   "cell_type": "markdown",
   "metadata": {},
   "source": [
    "### Загрузка клинических данных\n",
    "\n",
    "Таблица содержит клинические данные 9748 пациентов. Для каждого пациента есть информация о возрасте, расе, гендере, статусе, тип рака и др. "
   ]
  },
  {
   "cell_type": "code",
   "execution_count": 51,
   "metadata": {},
   "outputs": [
    {
     "data": {
      "text/html": [
       "<div>\n",
       "<style scoped>\n",
       "    .dataframe tbody tr th:only-of-type {\n",
       "        vertical-align: middle;\n",
       "    }\n",
       "\n",
       "    .dataframe tbody tr th {\n",
       "        vertical-align: top;\n",
       "    }\n",
       "\n",
       "    .dataframe thead th {\n",
       "        text-align: right;\n",
       "    }\n",
       "</style>\n",
       "<table border=\"1\" class=\"dataframe\">\n",
       "  <thead>\n",
       "    <tr style=\"text-align: right;\">\n",
       "      <th></th>\n",
       "      <th>id_person</th>\n",
       "      <th>days_to_birth</th>\n",
       "      <th>days_to_last_followup</th>\n",
       "      <th>race_list</th>\n",
       "      <th>icd_10</th>\n",
       "      <th>other_dx</th>\n",
       "      <th>icd_o_3_site</th>\n",
       "      <th>icd_o_3_histology</th>\n",
       "      <th>vital_status</th>\n",
       "      <th>project</th>\n",
       "      <th>...</th>\n",
       "      <th>bcr_patient_barcode</th>\n",
       "      <th>additional_studies</th>\n",
       "      <th>year_of_form_completion</th>\n",
       "      <th>history_of_neoadjuvant_treatment</th>\n",
       "      <th>tissue_source_site</th>\n",
       "      <th>has_drugs_information</th>\n",
       "      <th>has_follow_ups_information</th>\n",
       "      <th>ethnicity</th>\n",
       "      <th>bcr_patient_uuid</th>\n",
       "      <th>patient_id</th>\n",
       "    </tr>\n",
       "  </thead>\n",
       "  <tbody>\n",
       "    <tr>\n",
       "      <th>0</th>\n",
       "      <td>TCGA-OR-A5LH-01A-11D-A29J-05</td>\n",
       "      <td>-13182.0</td>\n",
       "      <td>NaN</td>\n",
       "      <td>WHITE</td>\n",
       "      <td>C74.0</td>\n",
       "      <td>No</td>\n",
       "      <td>C74.0</td>\n",
       "      <td>8370/3</td>\n",
       "      <td>Dead</td>\n",
       "      <td>TCGA-ACC</td>\n",
       "      <td>...</td>\n",
       "      <td>TCGA-OR-A5LH</td>\n",
       "      <td>NaN</td>\n",
       "      <td>2013</td>\n",
       "      <td>No</td>\n",
       "      <td>OR</td>\n",
       "      <td>NO</td>\n",
       "      <td>NO</td>\n",
       "      <td>NOT HISPANIC OR LATINO</td>\n",
       "      <td>CF327482-199B-4604-AC19-C8B68D91C5D9</td>\n",
       "      <td>A5LH</td>\n",
       "    </tr>\n",
       "    <tr>\n",
       "      <th>1</th>\n",
       "      <td>TCGA-OR-A5LG-01A-11D-A29J-05</td>\n",
       "      <td>-16875.0</td>\n",
       "      <td>1589.0</td>\n",
       "      <td>WHITE</td>\n",
       "      <td>C74.0</td>\n",
       "      <td>No</td>\n",
       "      <td>C74.0</td>\n",
       "      <td>8370/3</td>\n",
       "      <td>Alive</td>\n",
       "      <td>TCGA-ACC</td>\n",
       "      <td>...</td>\n",
       "      <td>TCGA-OR-A5LG</td>\n",
       "      <td>NaN</td>\n",
       "      <td>2013</td>\n",
       "      <td>No</td>\n",
       "      <td>OR</td>\n",
       "      <td>NO</td>\n",
       "      <td>NO</td>\n",
       "      <td>NOT HISPANIC OR LATINO</td>\n",
       "      <td>FAD4B7E6-510C-4968-83DF-3140ED5A0549</td>\n",
       "      <td>A5LG</td>\n",
       "    </tr>\n",
       "    <tr>\n",
       "      <th>2</th>\n",
       "      <td>TCGA-OR-A5JQ-01A-11D-A29J-05</td>\n",
       "      <td>-9667.0</td>\n",
       "      <td>674.0</td>\n",
       "      <td>WHITE</td>\n",
       "      <td>C74.0</td>\n",
       "      <td>No</td>\n",
       "      <td>C74.0</td>\n",
       "      <td>8370/3</td>\n",
       "      <td>Alive</td>\n",
       "      <td>TCGA-ACC</td>\n",
       "      <td>...</td>\n",
       "      <td>TCGA-OR-A5JQ</td>\n",
       "      <td>NaN</td>\n",
       "      <td>2013</td>\n",
       "      <td>No</td>\n",
       "      <td>OR</td>\n",
       "      <td>NO</td>\n",
       "      <td>YES</td>\n",
       "      <td>NaN</td>\n",
       "      <td>199560CB-15E5-4276-865A-7D44D47C856C</td>\n",
       "      <td>A5JQ</td>\n",
       "    </tr>\n",
       "    <tr>\n",
       "      <th>3</th>\n",
       "      <td>TCGA-OR-A5J6-01A-31D-A29J-05</td>\n",
       "      <td>-10839.0</td>\n",
       "      <td>2428.0</td>\n",
       "      <td>BLACK OR AFRICAN AMERICAN</td>\n",
       "      <td>C74.0</td>\n",
       "      <td>No</td>\n",
       "      <td>C74.0</td>\n",
       "      <td>8370/3</td>\n",
       "      <td>Alive</td>\n",
       "      <td>TCGA-ACC</td>\n",
       "      <td>...</td>\n",
       "      <td>TCGA-OR-A5J6</td>\n",
       "      <td>NaN</td>\n",
       "      <td>2013</td>\n",
       "      <td>No</td>\n",
       "      <td>OR</td>\n",
       "      <td>NO</td>\n",
       "      <td>YES</td>\n",
       "      <td>HISPANIC OR LATINO</td>\n",
       "      <td>C8898B42-B704-45A0-9829-144B98F416E0</td>\n",
       "      <td>A5J6</td>\n",
       "    </tr>\n",
       "    <tr>\n",
       "      <th>4</th>\n",
       "      <td>TCGA-OR-A5L6-01A-11D-A29J-05</td>\n",
       "      <td>-22057.0</td>\n",
       "      <td>628.0</td>\n",
       "      <td>WHITE</td>\n",
       "      <td>C74.0</td>\n",
       "      <td>No</td>\n",
       "      <td>C74.0</td>\n",
       "      <td>8370/3</td>\n",
       "      <td>Alive</td>\n",
       "      <td>TCGA-ACC</td>\n",
       "      <td>...</td>\n",
       "      <td>TCGA-OR-A5L6</td>\n",
       "      <td>NaN</td>\n",
       "      <td>2013</td>\n",
       "      <td>No</td>\n",
       "      <td>OR</td>\n",
       "      <td>NO</td>\n",
       "      <td>YES</td>\n",
       "      <td>NOT HISPANIC OR LATINO</td>\n",
       "      <td>F13A3D5E-7F8E-4ACB-AD46-F6380A9443E8</td>\n",
       "      <td>A5L6</td>\n",
       "    </tr>\n",
       "  </tbody>\n",
       "</table>\n",
       "<p>5 rows × 26 columns</p>\n",
       "</div>"
      ],
      "text/plain": [
       "                      id_person  days_to_birth  days_to_last_followup  \\\n",
       "0  TCGA-OR-A5LH-01A-11D-A29J-05       -13182.0                    NaN   \n",
       "1  TCGA-OR-A5LG-01A-11D-A29J-05       -16875.0                 1589.0   \n",
       "2  TCGA-OR-A5JQ-01A-11D-A29J-05        -9667.0                  674.0   \n",
       "3  TCGA-OR-A5J6-01A-31D-A29J-05       -10839.0                 2428.0   \n",
       "4  TCGA-OR-A5L6-01A-11D-A29J-05       -22057.0                  628.0   \n",
       "\n",
       "                   race_list icd_10 other_dx icd_o_3_site icd_o_3_histology  \\\n",
       "0                      WHITE  C74.0       No        C74.0            8370/3   \n",
       "1                      WHITE  C74.0       No        C74.0            8370/3   \n",
       "2                      WHITE  C74.0       No        C74.0            8370/3   \n",
       "3  BLACK OR AFRICAN AMERICAN  C74.0       No        C74.0            8370/3   \n",
       "4                      WHITE  C74.0       No        C74.0            8370/3   \n",
       "\n",
       "  vital_status   project  ...  bcr_patient_barcode additional_studies  \\\n",
       "0         Dead  TCGA-ACC  ...         TCGA-OR-A5LH                NaN   \n",
       "1        Alive  TCGA-ACC  ...         TCGA-OR-A5LG                NaN   \n",
       "2        Alive  TCGA-ACC  ...         TCGA-OR-A5JQ                NaN   \n",
       "3        Alive  TCGA-ACC  ...         TCGA-OR-A5J6                NaN   \n",
       "4        Alive  TCGA-ACC  ...         TCGA-OR-A5L6                NaN   \n",
       "\n",
       "  year_of_form_completion  history_of_neoadjuvant_treatment  \\\n",
       "0                    2013                                No   \n",
       "1                    2013                                No   \n",
       "2                    2013                                No   \n",
       "3                    2013                                No   \n",
       "4                    2013                                No   \n",
       "\n",
       "  tissue_source_site  has_drugs_information has_follow_ups_information  \\\n",
       "0                 OR                     NO                         NO   \n",
       "1                 OR                     NO                         NO   \n",
       "2                 OR                     NO                        YES   \n",
       "3                 OR                     NO                        YES   \n",
       "4                 OR                     NO                        YES   \n",
       "\n",
       "                ethnicity                      bcr_patient_uuid patient_id  \n",
       "0  NOT HISPANIC OR LATINO  CF327482-199B-4604-AC19-C8B68D91C5D9       A5LH  \n",
       "1  NOT HISPANIC OR LATINO  FAD4B7E6-510C-4968-83DF-3140ED5A0549       A5LG  \n",
       "2                     NaN  199560CB-15E5-4276-865A-7D44D47C856C       A5JQ  \n",
       "3      HISPANIC OR LATINO  C8898B42-B704-45A0-9829-144B98F416E0       A5J6  \n",
       "4  NOT HISPANIC OR LATINO  F13A3D5E-7F8E-4ACB-AD46-F6380A9443E8       A5L6  \n",
       "\n",
       "[5 rows x 26 columns]"
      ]
     },
     "execution_count": 51,
     "metadata": {},
     "output_type": "execute_result"
    }
   ],
   "source": [
    "dfDataClinic = pd.DataFrame()\n",
    "fnameDataClinic = 'D:/Nerobova_Anastasiya/ML/InfoClinicData.pkl'\n",
    "\n",
    "with open(fnameDataClinic, 'rb') as handle:\n",
    "    dfDataClinic = pickle.load(handle)\n",
    "\n",
    "dfDataClinic.head()"
   ]
  },
  {
   "cell_type": "markdown",
   "metadata": {},
   "source": [
    "Каждая строка соответствует пациенту, а каждый столбец соответствует конкретной характеристике:"
   ]
  },
  {
   "cell_type": "code",
   "execution_count": 4,
   "metadata": {},
   "outputs": [
    {
     "data": {
      "text/plain": [
       "(9748, 26)"
      ]
     },
     "execution_count": 4,
     "metadata": {},
     "output_type": "execute_result"
    }
   ],
   "source": [
    "dfDataClinic.shape"
   ]
  },
  {
   "cell_type": "code",
   "execution_count": 5,
   "metadata": {},
   "outputs": [
    {
     "data": {
      "text/plain": [
       "Index(['id_person', 'days_to_birth', 'days_to_last_followup', 'race_list',\n",
       "       'icd_10', 'other_dx', 'icd_o_3_site', 'icd_o_3_histology',\n",
       "       'vital_status', 'project', 'day_of_form_completion', 'gender',\n",
       "       'has_radiations_information', 'days_to_death',\n",
       "       'informed_consent_verified', 'month_of_form_completion',\n",
       "       'bcr_patient_barcode', 'additional_studies', 'year_of_form_completion',\n",
       "       'history_of_neoadjuvant_treatment', 'tissue_source_site',\n",
       "       'has_drugs_information', 'has_follow_ups_information', 'ethnicity',\n",
       "       'bcr_patient_uuid', 'patient_id'],\n",
       "      dtype='object')"
      ]
     },
     "execution_count": 5,
     "metadata": {},
     "output_type": "execute_result"
    }
   ],
   "source": [
    "dfDataClinic.columns"
   ]
  },
  {
   "cell_type": "markdown",
   "metadata": {},
   "source": [
    "Характеристики: \n",
    "\n",
    " - id_person - id пациента в таблице\n",
    " - days_to_birth - дней до дня рождения\n",
    " - days_to_last_followup - дней до последнего наблюдения\n",
    " - race_list - раса пациента\n",
    " - icd_10 - международная статистическая классификация болезней\n",
    " - other_dx - иная информация\n",
    " - icd_o_3_site - Международная классификация онкологических заболеваний (ICD-O) (сайт)\n",
    " - icd_o_3_histolog - Международная классификация онкологических заболеваний (ICD-O) (гистология)\n",
    " - vital_status - жизненный статус\n",
    " - project - тип рака пациента\n",
    " - gender - гендер\n",
    " - has_radiations_information - была ли лучевая (радио-) терапия\n",
    " - days_to_death - дней до смерти\n",
    " - informed_consent_verified - согласие подтверждено \n",
    " - day_of_form_completion - день заполнения формы\n",
    " - month_of_form_completion - месяц заполнения формы\n",
    " - year_of_form_completion - год заполнения формы\n",
    " - bcr_patient_barcode - сокращенный id пациента\n",
    " - additional_studies - дополнительные исследования\n",
    " - history_of_neoadjuvant_treatment - история неоадъювантного лечения (хим терапия)\n",
    " - tissue_source_site - сайт источника ткани\n",
    " - has_drugs_information - есть ли информация о принимаемых лекарственных средств\n",
    " - has_follow_ups_information - есть последующая информация (о пациенте)\n",
    " - ethnicity - этническая принадлежность\n",
    " - patient_id - id пацента внутри типа рака\n",
    " "
   ]
  },
  {
   "cell_type": "markdown",
   "metadata": {},
   "source": [
    "Посмотрим, какой тип данных имеет каждая характеристика."
   ]
  },
  {
   "cell_type": "code",
   "execution_count": 9,
   "metadata": {
    "scrolled": true
   },
   "outputs": [
    {
     "data": {
      "text/plain": [
       "id_person                            object\n",
       "days_to_birth                       float64\n",
       "days_to_last_followup               float64\n",
       "race_list                            object\n",
       "icd_10                               object\n",
       "other_dx                             object\n",
       "icd_o_3_site                         object\n",
       "icd_o_3_histology                    object\n",
       "vital_status                         object\n",
       "project                              object\n",
       "day_of_form_completion              float64\n",
       "gender                               object\n",
       "has_radiations_information           object\n",
       "days_to_death                       float64\n",
       "informed_consent_verified            object\n",
       "month_of_form_completion              int64\n",
       "bcr_patient_barcode                  object\n",
       "additional_studies                   object\n",
       "year_of_form_completion               int64\n",
       "history_of_neoadjuvant_treatment     object\n",
       "tissue_source_site                   object\n",
       "has_drugs_information                object\n",
       "has_follow_ups_information           object\n",
       "ethnicity                            object\n",
       "bcr_patient_uuid                     object\n",
       "patient_id                           object\n",
       "dtype: object"
      ]
     },
     "execution_count": 9,
     "metadata": {},
     "output_type": "execute_result"
    }
   ],
   "source": [
    "dfDataClinic.dtypes"
   ]
  },
  {
   "cell_type": "markdown",
   "metadata": {},
   "source": [
    "### Загрузка данных бета-значений \n",
    "\n",
    "Бета-значения - доля метилированных сайтов. Метилирование ДНК заключается в присоединении метильной группы к цитозину в составе CpG-динуклеотида в позиции С5 цитозинового кольца."
   ]
  },
  {
   "cell_type": "code",
   "execution_count": 4,
   "metadata": {},
   "outputs": [
    {
     "data": {
      "text/html": [
       "<div>\n",
       "<style scoped>\n",
       "    .dataframe tbody tr th:only-of-type {\n",
       "        vertical-align: middle;\n",
       "    }\n",
       "\n",
       "    .dataframe tbody tr th {\n",
       "        vertical-align: top;\n",
       "    }\n",
       "\n",
       "    .dataframe thead th {\n",
       "        text-align: right;\n",
       "    }\n",
       "</style>\n",
       "<table border=\"1\" class=\"dataframe\">\n",
       "  <thead>\n",
       "    <tr style=\"text-align: right;\">\n",
       "      <th>CpG</th>\n",
       "      <th>cg00000029</th>\n",
       "      <th>cg00000108</th>\n",
       "      <th>cg00000109</th>\n",
       "      <th>cg00000165</th>\n",
       "      <th>cg00000236</th>\n",
       "      <th>cg00000289</th>\n",
       "      <th>cg00000292</th>\n",
       "      <th>cg00000321</th>\n",
       "      <th>cg00000363</th>\n",
       "      <th>cg00000622</th>\n",
       "      <th>...</th>\n",
       "      <th>rs7746156</th>\n",
       "      <th>rs798149</th>\n",
       "      <th>rs845016</th>\n",
       "      <th>rs877309</th>\n",
       "      <th>rs9292570</th>\n",
       "      <th>rs9363764</th>\n",
       "      <th>rs939290</th>\n",
       "      <th>rs951295</th>\n",
       "      <th>rs966367</th>\n",
       "      <th>rs9839873</th>\n",
       "    </tr>\n",
       "  </thead>\n",
       "  <tbody>\n",
       "    <tr>\n",
       "      <th>TCGA-OR-A5LH-01A-11D-A29J-05</th>\n",
       "      <td>0.127235</td>\n",
       "      <td>NaN</td>\n",
       "      <td>NaN</td>\n",
       "      <td>0.798976</td>\n",
       "      <td>0.906222</td>\n",
       "      <td>0.724104</td>\n",
       "      <td>0.406815</td>\n",
       "      <td>0.202612</td>\n",
       "      <td>0.151666</td>\n",
       "      <td>0.013125</td>\n",
       "      <td>...</td>\n",
       "      <td>0.791231</td>\n",
       "      <td>0.014351</td>\n",
       "      <td>0.123524</td>\n",
       "      <td>0.971234</td>\n",
       "      <td>0.522766</td>\n",
       "      <td>0.051763</td>\n",
       "      <td>0.861380</td>\n",
       "      <td>0.307426</td>\n",
       "      <td>0.119247</td>\n",
       "      <td>0.941517</td>\n",
       "    </tr>\n",
       "    <tr>\n",
       "      <th>TCGA-OR-A5LG-01A-11D-A29J-05</th>\n",
       "      <td>0.046121</td>\n",
       "      <td>NaN</td>\n",
       "      <td>NaN</td>\n",
       "      <td>0.067993</td>\n",
       "      <td>0.893865</td>\n",
       "      <td>0.754962</td>\n",
       "      <td>0.857653</td>\n",
       "      <td>0.865786</td>\n",
       "      <td>0.560898</td>\n",
       "      <td>0.013004</td>\n",
       "      <td>...</td>\n",
       "      <td>0.461214</td>\n",
       "      <td>0.013948</td>\n",
       "      <td>0.900690</td>\n",
       "      <td>0.976762</td>\n",
       "      <td>0.017721</td>\n",
       "      <td>0.606996</td>\n",
       "      <td>0.972568</td>\n",
       "      <td>0.030855</td>\n",
       "      <td>0.072948</td>\n",
       "      <td>0.669205</td>\n",
       "    </tr>\n",
       "    <tr>\n",
       "      <th>TCGA-OR-A5JQ-01A-11D-A29J-05</th>\n",
       "      <td>0.602064</td>\n",
       "      <td>NaN</td>\n",
       "      <td>NaN</td>\n",
       "      <td>0.100943</td>\n",
       "      <td>0.897362</td>\n",
       "      <td>0.614677</td>\n",
       "      <td>0.877027</td>\n",
       "      <td>0.255339</td>\n",
       "      <td>0.714194</td>\n",
       "      <td>0.014641</td>\n",
       "      <td>...</td>\n",
       "      <td>0.020769</td>\n",
       "      <td>0.013826</td>\n",
       "      <td>0.909073</td>\n",
       "      <td>0.256746</td>\n",
       "      <td>0.969041</td>\n",
       "      <td>0.249980</td>\n",
       "      <td>0.512725</td>\n",
       "      <td>0.354050</td>\n",
       "      <td>0.152047</td>\n",
       "      <td>0.942741</td>\n",
       "    </tr>\n",
       "    <tr>\n",
       "      <th>TCGA-OR-A5J6-01A-31D-A29J-05</th>\n",
       "      <td>0.117144</td>\n",
       "      <td>NaN</td>\n",
       "      <td>NaN</td>\n",
       "      <td>0.115994</td>\n",
       "      <td>0.413085</td>\n",
       "      <td>0.584756</td>\n",
       "      <td>0.782867</td>\n",
       "      <td>0.825748</td>\n",
       "      <td>0.123553</td>\n",
       "      <td>0.013132</td>\n",
       "      <td>...</td>\n",
       "      <td>0.469062</td>\n",
       "      <td>0.973064</td>\n",
       "      <td>0.912584</td>\n",
       "      <td>0.436507</td>\n",
       "      <td>0.445958</td>\n",
       "      <td>0.546527</td>\n",
       "      <td>0.676457</td>\n",
       "      <td>0.040208</td>\n",
       "      <td>0.938875</td>\n",
       "      <td>0.137452</td>\n",
       "    </tr>\n",
       "    <tr>\n",
       "      <th>TCGA-OR-A5L6-01A-11D-A29J-05</th>\n",
       "      <td>0.264575</td>\n",
       "      <td>NaN</td>\n",
       "      <td>NaN</td>\n",
       "      <td>0.143594</td>\n",
       "      <td>0.892213</td>\n",
       "      <td>0.717910</td>\n",
       "      <td>0.834388</td>\n",
       "      <td>0.862202</td>\n",
       "      <td>0.881404</td>\n",
       "      <td>0.014424</td>\n",
       "      <td>...</td>\n",
       "      <td>0.968430</td>\n",
       "      <td>0.015532</td>\n",
       "      <td>0.896062</td>\n",
       "      <td>0.014142</td>\n",
       "      <td>0.459246</td>\n",
       "      <td>0.935251</td>\n",
       "      <td>0.030863</td>\n",
       "      <td>0.030264</td>\n",
       "      <td>0.056576</td>\n",
       "      <td>0.905967</td>\n",
       "    </tr>\n",
       "  </tbody>\n",
       "</table>\n",
       "<p>5 rows × 485577 columns</p>\n",
       "</div>"
      ],
      "text/plain": [
       "CpG                           cg00000029  cg00000108  cg00000109  cg00000165  \\\n",
       "TCGA-OR-A5LH-01A-11D-A29J-05    0.127235         NaN         NaN    0.798976   \n",
       "TCGA-OR-A5LG-01A-11D-A29J-05    0.046121         NaN         NaN    0.067993   \n",
       "TCGA-OR-A5JQ-01A-11D-A29J-05    0.602064         NaN         NaN    0.100943   \n",
       "TCGA-OR-A5J6-01A-31D-A29J-05    0.117144         NaN         NaN    0.115994   \n",
       "TCGA-OR-A5L6-01A-11D-A29J-05    0.264575         NaN         NaN    0.143594   \n",
       "\n",
       "CpG                           cg00000236  cg00000289  cg00000292  cg00000321  \\\n",
       "TCGA-OR-A5LH-01A-11D-A29J-05    0.906222    0.724104    0.406815    0.202612   \n",
       "TCGA-OR-A5LG-01A-11D-A29J-05    0.893865    0.754962    0.857653    0.865786   \n",
       "TCGA-OR-A5JQ-01A-11D-A29J-05    0.897362    0.614677    0.877027    0.255339   \n",
       "TCGA-OR-A5J6-01A-31D-A29J-05    0.413085    0.584756    0.782867    0.825748   \n",
       "TCGA-OR-A5L6-01A-11D-A29J-05    0.892213    0.717910    0.834388    0.862202   \n",
       "\n",
       "CpG                           cg00000363  cg00000622  ...  rs7746156  \\\n",
       "TCGA-OR-A5LH-01A-11D-A29J-05    0.151666    0.013125  ...   0.791231   \n",
       "TCGA-OR-A5LG-01A-11D-A29J-05    0.560898    0.013004  ...   0.461214   \n",
       "TCGA-OR-A5JQ-01A-11D-A29J-05    0.714194    0.014641  ...   0.020769   \n",
       "TCGA-OR-A5J6-01A-31D-A29J-05    0.123553    0.013132  ...   0.469062   \n",
       "TCGA-OR-A5L6-01A-11D-A29J-05    0.881404    0.014424  ...   0.968430   \n",
       "\n",
       "CpG                           rs798149  rs845016  rs877309  rs9292570  \\\n",
       "TCGA-OR-A5LH-01A-11D-A29J-05  0.014351  0.123524  0.971234   0.522766   \n",
       "TCGA-OR-A5LG-01A-11D-A29J-05  0.013948  0.900690  0.976762   0.017721   \n",
       "TCGA-OR-A5JQ-01A-11D-A29J-05  0.013826  0.909073  0.256746   0.969041   \n",
       "TCGA-OR-A5J6-01A-31D-A29J-05  0.973064  0.912584  0.436507   0.445958   \n",
       "TCGA-OR-A5L6-01A-11D-A29J-05  0.015532  0.896062  0.014142   0.459246   \n",
       "\n",
       "CpG                           rs9363764  rs939290  rs951295  rs966367  \\\n",
       "TCGA-OR-A5LH-01A-11D-A29J-05   0.051763  0.861380  0.307426  0.119247   \n",
       "TCGA-OR-A5LG-01A-11D-A29J-05   0.606996  0.972568  0.030855  0.072948   \n",
       "TCGA-OR-A5JQ-01A-11D-A29J-05   0.249980  0.512725  0.354050  0.152047   \n",
       "TCGA-OR-A5J6-01A-31D-A29J-05   0.546527  0.676457  0.040208  0.938875   \n",
       "TCGA-OR-A5L6-01A-11D-A29J-05   0.935251  0.030863  0.030264  0.056576   \n",
       "\n",
       "CpG                           rs9839873  \n",
       "TCGA-OR-A5LH-01A-11D-A29J-05   0.941517  \n",
       "TCGA-OR-A5LG-01A-11D-A29J-05   0.669205  \n",
       "TCGA-OR-A5JQ-01A-11D-A29J-05   0.942741  \n",
       "TCGA-OR-A5J6-01A-31D-A29J-05   0.137452  \n",
       "TCGA-OR-A5L6-01A-11D-A29J-05   0.905967  \n",
       "\n",
       "[5 rows x 485577 columns]"
      ]
     },
     "execution_count": 4,
     "metadata": {},
     "output_type": "execute_result"
    }
   ],
   "source": [
    "dfDataBeta = pd.DataFrame()\n",
    "fnameDataBeta = 'D:/Nerobova_Anastasiya/RStudio/MatrixCpGAllCancer.pkl'\n",
    "\n",
    "with open(fnameDataBeta, 'rb') as handle:\n",
    "    dfDataBeta = pickle.load(handle)\n",
    "\n",
    "dfDataBeta.head()"
   ]
  },
  {
   "cell_type": "markdown",
   "metadata": {},
   "source": [
    "Каждая строка в таблице соответствует пациенту, а каждый столбец соответствует конкретному CpG сайту"
   ]
  },
  {
   "cell_type": "code",
   "execution_count": 8,
   "metadata": {},
   "outputs": [
    {
     "data": {
      "text/plain": [
       "(9748, 485577)"
      ]
     },
     "execution_count": 8,
     "metadata": {},
     "output_type": "execute_result"
    }
   ],
   "source": [
    "dfDataBeta.shape"
   ]
  },
  {
   "cell_type": "markdown",
   "metadata": {},
   "source": [
    "Т.к. признаков очень много (485577), необходимо сделать уменьшение размерности (или редукцию размерности)"
   ]
  },
  {
   "cell_type": "markdown",
   "metadata": {},
   "source": [
    "## 2. Визуализация данных и вычисление основых характеристик"
   ]
  },
  {
   "cell_type": "code",
   "execution_count": 21,
   "metadata": {},
   "outputs": [
    {
     "data": {
      "text/html": [
       "<div>\n",
       "<style scoped>\n",
       "    .dataframe tbody tr th:only-of-type {\n",
       "        vertical-align: middle;\n",
       "    }\n",
       "\n",
       "    .dataframe tbody tr th {\n",
       "        vertical-align: top;\n",
       "    }\n",
       "\n",
       "    .dataframe thead th {\n",
       "        text-align: right;\n",
       "    }\n",
       "</style>\n",
       "<table border=\"1\" class=\"dataframe\">\n",
       "  <thead>\n",
       "    <tr style=\"text-align: right;\">\n",
       "      <th></th>\n",
       "      <th>days_to_birth</th>\n",
       "      <th>days_to_last_followup</th>\n",
       "      <th>day_of_form_completion</th>\n",
       "      <th>days_to_death</th>\n",
       "      <th>month_of_form_completion</th>\n",
       "      <th>year_of_form_completion</th>\n",
       "    </tr>\n",
       "  </thead>\n",
       "  <tbody>\n",
       "    <tr>\n",
       "      <td>count</td>\n",
       "      <td>9644.000000</td>\n",
       "      <td>7724.000000</td>\n",
       "      <td>9694.000000</td>\n",
       "      <td>2113.000000</td>\n",
       "      <td>9748.000000</td>\n",
       "      <td>9748.000000</td>\n",
       "    </tr>\n",
       "    <tr>\n",
       "      <td>mean</td>\n",
       "      <td>-21656.138013</td>\n",
       "      <td>688.611082</td>\n",
       "      <td>15.374768</td>\n",
       "      <td>849.779934</td>\n",
       "      <td>6.060936</td>\n",
       "      <td>2012.283135</td>\n",
       "    </tr>\n",
       "    <tr>\n",
       "      <td>std</td>\n",
       "      <td>5358.419826</td>\n",
       "      <td>954.419878</td>\n",
       "      <td>8.473379</td>\n",
       "      <td>979.943274</td>\n",
       "      <td>3.360184</td>\n",
       "      <td>1.311789</td>\n",
       "    </tr>\n",
       "    <tr>\n",
       "      <td>min</td>\n",
       "      <td>-32873.000000</td>\n",
       "      <td>-64.000000</td>\n",
       "      <td>1.000000</td>\n",
       "      <td>0.000000</td>\n",
       "      <td>1.000000</td>\n",
       "      <td>2008.000000</td>\n",
       "    </tr>\n",
       "    <tr>\n",
       "      <td>25%</td>\n",
       "      <td>-25582.000000</td>\n",
       "      <td>89.000000</td>\n",
       "      <td>8.000000</td>\n",
       "      <td>233.000000</td>\n",
       "      <td>3.000000</td>\n",
       "      <td>2011.000000</td>\n",
       "    </tr>\n",
       "    <tr>\n",
       "      <td>50%</td>\n",
       "      <td>-22203.500000</td>\n",
       "      <td>305.000000</td>\n",
       "      <td>14.000000</td>\n",
       "      <td>522.000000</td>\n",
       "      <td>6.000000</td>\n",
       "      <td>2012.000000</td>\n",
       "    </tr>\n",
       "    <tr>\n",
       "      <td>75%</td>\n",
       "      <td>-18363.750000</td>\n",
       "      <td>935.250000</td>\n",
       "      <td>22.000000</td>\n",
       "      <td>1111.000000</td>\n",
       "      <td>9.000000</td>\n",
       "      <td>2014.000000</td>\n",
       "    </tr>\n",
       "    <tr>\n",
       "      <td>max</td>\n",
       "      <td>-5267.000000</td>\n",
       "      <td>10860.000000</td>\n",
       "      <td>31.000000</td>\n",
       "      <td>10870.000000</td>\n",
       "      <td>12.000000</td>\n",
       "      <td>2015.000000</td>\n",
       "    </tr>\n",
       "  </tbody>\n",
       "</table>\n",
       "</div>"
      ],
      "text/plain": [
       "       days_to_birth  days_to_last_followup  day_of_form_completion  \\\n",
       "count    9644.000000            7724.000000             9694.000000   \n",
       "mean   -21656.138013             688.611082               15.374768   \n",
       "std      5358.419826             954.419878                8.473379   \n",
       "min    -32873.000000             -64.000000                1.000000   \n",
       "25%    -25582.000000              89.000000                8.000000   \n",
       "50%    -22203.500000             305.000000               14.000000   \n",
       "75%    -18363.750000             935.250000               22.000000   \n",
       "max     -5267.000000           10860.000000               31.000000   \n",
       "\n",
       "       days_to_death  month_of_form_completion  year_of_form_completion  \n",
       "count    2113.000000               9748.000000              9748.000000  \n",
       "mean      849.779934                  6.060936              2012.283135  \n",
       "std       979.943274                  3.360184                 1.311789  \n",
       "min         0.000000                  1.000000              2008.000000  \n",
       "25%       233.000000                  3.000000              2011.000000  \n",
       "50%       522.000000                  6.000000              2012.000000  \n",
       "75%      1111.000000                  9.000000              2014.000000  \n",
       "max     10870.000000                 12.000000              2015.000000  "
      ]
     },
     "execution_count": 21,
     "metadata": {},
     "output_type": "execute_result"
    }
   ],
   "source": [
    "dfDataClinic.describe()"
   ]
  },
  {
   "cell_type": "code",
   "execution_count": null,
   "metadata": {},
   "outputs": [],
   "source": []
  },
  {
   "cell_type": "code",
   "execution_count": 22,
   "metadata": {},
   "outputs": [
    {
     "data": {
      "image/png": "[encoded data removed]",
      "text/plain": [
       "<Figure size 720x720 with 36 Axes>"
      ]
     },
     "metadata": {
      "needs_background": "light"
     },
     "output_type": "display_data"
    }
   ],
   "source": [
    "from pandas.plotting import scatter_matrix\n",
    "scatter_matrix(dfDataClinic, alpha = .01, figsize = (10, 10))\n",
    "pass"
   ]
  },
  {
   "cell_type": "code",
   "execution_count": 23,
   "metadata": {
    "scrolled": true
   },
   "outputs": [
    {
     "data": {
      "text/html": [
       "<div>\n",
       "<style scoped>\n",
       "    .dataframe tbody tr th:only-of-type {\n",
       "        vertical-align: middle;\n",
       "    }\n",
       "\n",
       "    .dataframe tbody tr th {\n",
       "        vertical-align: top;\n",
       "    }\n",
       "\n",
       "    .dataframe thead th {\n",
       "        text-align: right;\n",
       "    }\n",
       "</style>\n",
       "<table border=\"1\" class=\"dataframe\">\n",
       "  <thead>\n",
       "    <tr style=\"text-align: right;\">\n",
       "      <th></th>\n",
       "      <th>days_to_birth</th>\n",
       "      <th>days_to_last_followup</th>\n",
       "      <th>day_of_form_completion</th>\n",
       "      <th>days_to_death</th>\n",
       "      <th>month_of_form_completion</th>\n",
       "      <th>year_of_form_completion</th>\n",
       "    </tr>\n",
       "  </thead>\n",
       "  <tbody>\n",
       "    <tr>\n",
       "      <td>days_to_birth</td>\n",
       "      <td>1.000000</td>\n",
       "      <td>0.139069</td>\n",
       "      <td>-0.022274</td>\n",
       "      <td>0.196043</td>\n",
       "      <td>0.033291</td>\n",
       "      <td>0.061897</td>\n",
       "    </tr>\n",
       "    <tr>\n",
       "      <td>days_to_last_followup</td>\n",
       "      <td>0.139069</td>\n",
       "      <td>1.000000</td>\n",
       "      <td>-0.023240</td>\n",
       "      <td>0.894456</td>\n",
       "      <td>0.037907</td>\n",
       "      <td>0.029254</td>\n",
       "    </tr>\n",
       "    <tr>\n",
       "      <td>day_of_form_completion</td>\n",
       "      <td>-0.022274</td>\n",
       "      <td>-0.023240</td>\n",
       "      <td>1.000000</td>\n",
       "      <td>-0.050192</td>\n",
       "      <td>-0.025716</td>\n",
       "      <td>0.022728</td>\n",
       "    </tr>\n",
       "    <tr>\n",
       "      <td>days_to_death</td>\n",
       "      <td>0.196043</td>\n",
       "      <td>0.894456</td>\n",
       "      <td>-0.050192</td>\n",
       "      <td>1.000000</td>\n",
       "      <td>0.029728</td>\n",
       "      <td>-0.027346</td>\n",
       "    </tr>\n",
       "    <tr>\n",
       "      <td>month_of_form_completion</td>\n",
       "      <td>0.033291</td>\n",
       "      <td>0.037907</td>\n",
       "      <td>-0.025716</td>\n",
       "      <td>0.029728</td>\n",
       "      <td>1.000000</td>\n",
       "      <td>-0.230340</td>\n",
       "    </tr>\n",
       "    <tr>\n",
       "      <td>year_of_form_completion</td>\n",
       "      <td>0.061897</td>\n",
       "      <td>0.029254</td>\n",
       "      <td>0.022728</td>\n",
       "      <td>-0.027346</td>\n",
       "      <td>-0.230340</td>\n",
       "      <td>1.000000</td>\n",
       "    </tr>\n",
       "  </tbody>\n",
       "</table>\n",
       "</div>"
      ],
      "text/plain": [
       "                          days_to_birth  days_to_last_followup  \\\n",
       "days_to_birth                  1.000000               0.139069   \n",
       "days_to_last_followup          0.139069               1.000000   \n",
       "day_of_form_completion        -0.022274              -0.023240   \n",
       "days_to_death                  0.196043               0.894456   \n",
       "month_of_form_completion       0.033291               0.037907   \n",
       "year_of_form_completion        0.061897               0.029254   \n",
       "\n",
       "                          day_of_form_completion  days_to_death  \\\n",
       "days_to_birth                          -0.022274       0.196043   \n",
       "days_to_last_followup                  -0.023240       0.894456   \n",
       "day_of_form_completion                  1.000000      -0.050192   \n",
       "days_to_death                          -0.050192       1.000000   \n",
       "month_of_form_completion               -0.025716       0.029728   \n",
       "year_of_form_completion                 0.022728      -0.027346   \n",
       "\n",
       "                          month_of_form_completion  year_of_form_completion  \n",
       "days_to_birth                             0.033291                 0.061897  \n",
       "days_to_last_followup                     0.037907                 0.029254  \n",
       "day_of_form_completion                   -0.025716                 0.022728  \n",
       "days_to_death                             0.029728                -0.027346  \n",
       "month_of_form_completion                  1.000000                -0.230340  \n",
       "year_of_form_completion                  -0.230340                 1.000000  "
      ]
     },
     "execution_count": 23,
     "metadata": {},
     "output_type": "execute_result"
    }
   ],
   "source": [
    "dfDataClinic.corr()"
   ]
  },
  {
   "cell_type": "code",
   "execution_count": null,
   "metadata": {},
   "outputs": [],
   "source": [
    "Как можно увидеть, корреляция "
   ]
  },
  {
   "cell_type": "code",
   "execution_count": 10,
   "metadata": {},
   "outputs": [
    {
     "data": {
      "text/html": [
       "<div>\n",
       "<style scoped>\n",
       "    .dataframe tbody tr th:only-of-type {\n",
       "        vertical-align: middle;\n",
       "    }\n",
       "\n",
       "    .dataframe tbody tr th {\n",
       "        vertical-align: top;\n",
       "    }\n",
       "\n",
       "    .dataframe thead th {\n",
       "        text-align: right;\n",
       "    }\n",
       "</style>\n",
       "<table border=\"1\" class=\"dataframe\">\n",
       "  <thead>\n",
       "    <tr style=\"text-align: right;\">\n",
       "      <th></th>\n",
       "      <th>id_person</th>\n",
       "      <th>race_list</th>\n",
       "      <th>icd_10</th>\n",
       "      <th>other_dx</th>\n",
       "      <th>icd_o_3_site</th>\n",
       "      <th>icd_o_3_histology</th>\n",
       "      <th>vital_status</th>\n",
       "      <th>project</th>\n",
       "      <th>gender</th>\n",
       "      <th>has_radiations_information</th>\n",
       "      <th>informed_consent_verified</th>\n",
       "      <th>bcr_patient_barcode</th>\n",
       "      <th>additional_studies</th>\n",
       "      <th>history_of_neoadjuvant_treatment</th>\n",
       "      <th>tissue_source_site</th>\n",
       "      <th>has_drugs_information</th>\n",
       "      <th>has_follow_ups_information</th>\n",
       "      <th>ethnicity</th>\n",
       "      <th>bcr_patient_uuid</th>\n",
       "      <th>patient_id</th>\n",
       "    </tr>\n",
       "  </thead>\n",
       "  <tbody>\n",
       "    <tr>\n",
       "      <td>count</td>\n",
       "      <td>9748</td>\n",
       "      <td>9144</td>\n",
       "      <td>9554</td>\n",
       "      <td>9615</td>\n",
       "      <td>9554</td>\n",
       "      <td>9554</td>\n",
       "      <td>9746</td>\n",
       "      <td>9748</td>\n",
       "      <td>9748</td>\n",
       "      <td>9748</td>\n",
       "      <td>9748</td>\n",
       "      <td>9748</td>\n",
       "      <td>63</td>\n",
       "      <td>9745</td>\n",
       "      <td>9741</td>\n",
       "      <td>9748</td>\n",
       "      <td>9748</td>\n",
       "      <td>8067</td>\n",
       "      <td>9748</td>\n",
       "      <td>9748</td>\n",
       "    </tr>\n",
       "    <tr>\n",
       "      <td>unique</td>\n",
       "      <td>9748</td>\n",
       "      <td>5</td>\n",
       "      <td>163</td>\n",
       "      <td>4</td>\n",
       "      <td>152</td>\n",
       "      <td>136</td>\n",
       "      <td>2</td>\n",
       "      <td>32</td>\n",
       "      <td>2</td>\n",
       "      <td>2</td>\n",
       "      <td>1</td>\n",
       "      <td>8888</td>\n",
       "      <td>1</td>\n",
       "      <td>4</td>\n",
       "      <td>692</td>\n",
       "      <td>2</td>\n",
       "      <td>2</td>\n",
       "      <td>2</td>\n",
       "      <td>8888</td>\n",
       "      <td>8888</td>\n",
       "    </tr>\n",
       "    <tr>\n",
       "      <td>top</td>\n",
       "      <td>TCGA-FK-A3SD-01A-11D-A22G-05</td>\n",
       "      <td>WHITE</td>\n",
       "      <td>C50.9</td>\n",
       "      <td>No</td>\n",
       "      <td>C50.9</td>\n",
       "      <td>8140/3</td>\n",
       "      <td>Alive</td>\n",
       "      <td>TCGA-BRCA</td>\n",
       "      <td>MALE</td>\n",
       "      <td>NO</td>\n",
       "      <td>YES</td>\n",
       "      <td>TCGA-BK-A139</td>\n",
       "      <td>TCGAFPPP</td>\n",
       "      <td>No</td>\n",
       "      <td>AB</td>\n",
       "      <td>NO</td>\n",
       "      <td>YES</td>\n",
       "      <td>NOT HISPANIC OR LATINO</td>\n",
       "      <td>49929108-023e-4d35-b26d-50ab4d3ae581</td>\n",
       "      <td>5645</td>\n",
       "    </tr>\n",
       "    <tr>\n",
       "      <td>freq</td>\n",
       "      <td>1</td>\n",
       "      <td>7567</td>\n",
       "      <td>893</td>\n",
       "      <td>8714</td>\n",
       "      <td>893</td>\n",
       "      <td>1255</td>\n",
       "      <td>7605</td>\n",
       "      <td>894</td>\n",
       "      <td>5028</td>\n",
       "      <td>6901</td>\n",
       "      <td>9748</td>\n",
       "      <td>4</td>\n",
       "      <td>63</td>\n",
       "      <td>9605</td>\n",
       "      <td>194</td>\n",
       "      <td>6430</td>\n",
       "      <td>8293</td>\n",
       "      <td>7707</td>\n",
       "      <td>4</td>\n",
       "      <td>4</td>\n",
       "    </tr>\n",
       "  </tbody>\n",
       "</table>\n",
       "</div>"
      ],
      "text/plain": [
       "                           id_person race_list icd_10 other_dx icd_o_3_site  \\\n",
       "count                           9748      9144   9554     9615         9554   \n",
       "unique                          9748         5    163        4          152   \n",
       "top     TCGA-FK-A3SD-01A-11D-A22G-05     WHITE  C50.9       No        C50.9   \n",
       "freq                               1      7567    893     8714          893   \n",
       "\n",
       "       icd_o_3_histology vital_status    project gender  \\\n",
       "count               9554         9746       9748   9748   \n",
       "unique               136            2         32      2   \n",
       "top               8140/3        Alive  TCGA-BRCA   MALE   \n",
       "freq                1255         7605        894   5028   \n",
       "\n",
       "       has_radiations_information informed_consent_verified  \\\n",
       "count                        9748                      9748   \n",
       "unique                          2                         1   \n",
       "top                            NO                       YES   \n",
       "freq                         6901                      9748   \n",
       "\n",
       "       bcr_patient_barcode additional_studies  \\\n",
       "count                 9748                 63   \n",
       "unique                8888                  1   \n",
       "top           TCGA-BK-A139           TCGAFPPP   \n",
       "freq                     4                 63   \n",
       "\n",
       "       history_of_neoadjuvant_treatment tissue_source_site  \\\n",
       "count                              9745               9741   \n",
       "unique                                4                692   \n",
       "top                                  No                 AB   \n",
       "freq                               9605                194   \n",
       "\n",
       "       has_drugs_information has_follow_ups_information  \\\n",
       "count                   9748                       9748   \n",
       "unique                     2                          2   \n",
       "top                       NO                        YES   \n",
       "freq                    6430                       8293   \n",
       "\n",
       "                     ethnicity                      bcr_patient_uuid  \\\n",
       "count                     8067                                  9748   \n",
       "unique                       2                                  8888   \n",
       "top     NOT HISPANIC OR LATINO  49929108-023e-4d35-b26d-50ab4d3ae581   \n",
       "freq                      7707                                     4   \n",
       "\n",
       "       patient_id  \n",
       "count        9748  \n",
       "unique       8888  \n",
       "top          5645  \n",
       "freq            4  "
      ]
     },
     "execution_count": 10,
     "metadata": {},
     "output_type": "execute_result"
    }
   ],
   "source": [
    "dfDataClinic.describe(include = ['object'])"
   ]
  },
  {
   "cell_type": "code",
   "execution_count": 11,
   "metadata": {
    "scrolled": true
   },
   "outputs": [
    {
     "data": {
      "text/html": [
       "<div>\n",
       "<style scoped>\n",
       "    .dataframe tbody tr th:only-of-type {\n",
       "        vertical-align: middle;\n",
       "    }\n",
       "\n",
       "    .dataframe tbody tr th {\n",
       "        vertical-align: top;\n",
       "    }\n",
       "\n",
       "    .dataframe thead th {\n",
       "        text-align: right;\n",
       "    }\n",
       "</style>\n",
       "<table border=\"1\" class=\"dataframe\">\n",
       "  <thead>\n",
       "    <tr style=\"text-align: right;\">\n",
       "      <th></th>\n",
       "      <th>id_person</th>\n",
       "      <th>days_to_birth</th>\n",
       "      <th>days_to_last_followup</th>\n",
       "      <th>race_list</th>\n",
       "      <th>icd_10</th>\n",
       "      <th>other_dx</th>\n",
       "      <th>icd_o_3_site</th>\n",
       "      <th>icd_o_3_histology</th>\n",
       "      <th>vital_status</th>\n",
       "      <th>project</th>\n",
       "      <th>...</th>\n",
       "      <th>bcr_patient_barcode</th>\n",
       "      <th>additional_studies</th>\n",
       "      <th>year_of_form_completion</th>\n",
       "      <th>history_of_neoadjuvant_treatment</th>\n",
       "      <th>tissue_source_site</th>\n",
       "      <th>has_drugs_information</th>\n",
       "      <th>has_follow_ups_information</th>\n",
       "      <th>ethnicity</th>\n",
       "      <th>bcr_patient_uuid</th>\n",
       "      <th>patient_id</th>\n",
       "    </tr>\n",
       "  </thead>\n",
       "  <tbody>\n",
       "    <tr>\n",
       "      <td>count</td>\n",
       "      <td>9748</td>\n",
       "      <td>9644.000000</td>\n",
       "      <td>7724.000000</td>\n",
       "      <td>9144</td>\n",
       "      <td>9554</td>\n",
       "      <td>9615</td>\n",
       "      <td>9554</td>\n",
       "      <td>9554</td>\n",
       "      <td>9746</td>\n",
       "      <td>9748</td>\n",
       "      <td>...</td>\n",
       "      <td>9748</td>\n",
       "      <td>63</td>\n",
       "      <td>9748.000000</td>\n",
       "      <td>9745</td>\n",
       "      <td>9741</td>\n",
       "      <td>9748</td>\n",
       "      <td>9748</td>\n",
       "      <td>8067</td>\n",
       "      <td>9748</td>\n",
       "      <td>9748</td>\n",
       "    </tr>\n",
       "    <tr>\n",
       "      <td>unique</td>\n",
       "      <td>9748</td>\n",
       "      <td>NaN</td>\n",
       "      <td>NaN</td>\n",
       "      <td>5</td>\n",
       "      <td>163</td>\n",
       "      <td>4</td>\n",
       "      <td>152</td>\n",
       "      <td>136</td>\n",
       "      <td>2</td>\n",
       "      <td>32</td>\n",
       "      <td>...</td>\n",
       "      <td>8888</td>\n",
       "      <td>1</td>\n",
       "      <td>NaN</td>\n",
       "      <td>4</td>\n",
       "      <td>692</td>\n",
       "      <td>2</td>\n",
       "      <td>2</td>\n",
       "      <td>2</td>\n",
       "      <td>8888</td>\n",
       "      <td>8888</td>\n",
       "    </tr>\n",
       "    <tr>\n",
       "      <td>top</td>\n",
       "      <td>TCGA-FK-A3SD-01A-11D-A22G-05</td>\n",
       "      <td>NaN</td>\n",
       "      <td>NaN</td>\n",
       "      <td>WHITE</td>\n",
       "      <td>C50.9</td>\n",
       "      <td>No</td>\n",
       "      <td>C50.9</td>\n",
       "      <td>8140/3</td>\n",
       "      <td>Alive</td>\n",
       "      <td>TCGA-BRCA</td>\n",
       "      <td>...</td>\n",
       "      <td>TCGA-BK-A139</td>\n",
       "      <td>TCGAFPPP</td>\n",
       "      <td>NaN</td>\n",
       "      <td>No</td>\n",
       "      <td>AB</td>\n",
       "      <td>NO</td>\n",
       "      <td>YES</td>\n",
       "      <td>NOT HISPANIC OR LATINO</td>\n",
       "      <td>49929108-023e-4d35-b26d-50ab4d3ae581</td>\n",
       "      <td>5645</td>\n",
       "    </tr>\n",
       "    <tr>\n",
       "      <td>freq</td>\n",
       "      <td>1</td>\n",
       "      <td>NaN</td>\n",
       "      <td>NaN</td>\n",
       "      <td>7567</td>\n",
       "      <td>893</td>\n",
       "      <td>8714</td>\n",
       "      <td>893</td>\n",
       "      <td>1255</td>\n",
       "      <td>7605</td>\n",
       "      <td>894</td>\n",
       "      <td>...</td>\n",
       "      <td>4</td>\n",
       "      <td>63</td>\n",
       "      <td>NaN</td>\n",
       "      <td>9605</td>\n",
       "      <td>194</td>\n",
       "      <td>6430</td>\n",
       "      <td>8293</td>\n",
       "      <td>7707</td>\n",
       "      <td>4</td>\n",
       "      <td>4</td>\n",
       "    </tr>\n",
       "    <tr>\n",
       "      <td>mean</td>\n",
       "      <td>NaN</td>\n",
       "      <td>-21656.138013</td>\n",
       "      <td>688.611082</td>\n",
       "      <td>NaN</td>\n",
       "      <td>NaN</td>\n",
       "      <td>NaN</td>\n",
       "      <td>NaN</td>\n",
       "      <td>NaN</td>\n",
       "      <td>NaN</td>\n",
       "      <td>NaN</td>\n",
       "      <td>...</td>\n",
       "      <td>NaN</td>\n",
       "      <td>NaN</td>\n",
       "      <td>2012.283135</td>\n",
       "      <td>NaN</td>\n",
       "      <td>NaN</td>\n",
       "      <td>NaN</td>\n",
       "      <td>NaN</td>\n",
       "      <td>NaN</td>\n",
       "      <td>NaN</td>\n",
       "      <td>NaN</td>\n",
       "    </tr>\n",
       "    <tr>\n",
       "      <td>std</td>\n",
       "      <td>NaN</td>\n",
       "      <td>5358.419826</td>\n",
       "      <td>954.419878</td>\n",
       "      <td>NaN</td>\n",
       "      <td>NaN</td>\n",
       "      <td>NaN</td>\n",
       "      <td>NaN</td>\n",
       "      <td>NaN</td>\n",
       "      <td>NaN</td>\n",
       "      <td>NaN</td>\n",
       "      <td>...</td>\n",
       "      <td>NaN</td>\n",
       "      <td>NaN</td>\n",
       "      <td>1.311789</td>\n",
       "      <td>NaN</td>\n",
       "      <td>NaN</td>\n",
       "      <td>NaN</td>\n",
       "      <td>NaN</td>\n",
       "      <td>NaN</td>\n",
       "      <td>NaN</td>\n",
       "      <td>NaN</td>\n",
       "    </tr>\n",
       "    <tr>\n",
       "      <td>min</td>\n",
       "      <td>NaN</td>\n",
       "      <td>-32873.000000</td>\n",
       "      <td>-64.000000</td>\n",
       "      <td>NaN</td>\n",
       "      <td>NaN</td>\n",
       "      <td>NaN</td>\n",
       "      <td>NaN</td>\n",
       "      <td>NaN</td>\n",
       "      <td>NaN</td>\n",
       "      <td>NaN</td>\n",
       "      <td>...</td>\n",
       "      <td>NaN</td>\n",
       "      <td>NaN</td>\n",
       "      <td>2008.000000</td>\n",
       "      <td>NaN</td>\n",
       "      <td>NaN</td>\n",
       "      <td>NaN</td>\n",
       "      <td>NaN</td>\n",
       "      <td>NaN</td>\n",
       "      <td>NaN</td>\n",
       "      <td>NaN</td>\n",
       "    </tr>\n",
       "    <tr>\n",
       "      <td>25%</td>\n",
       "      <td>NaN</td>\n",
       "      <td>-25582.000000</td>\n",
       "      <td>89.000000</td>\n",
       "      <td>NaN</td>\n",
       "      <td>NaN</td>\n",
       "      <td>NaN</td>\n",
       "      <td>NaN</td>\n",
       "      <td>NaN</td>\n",
       "      <td>NaN</td>\n",
       "      <td>NaN</td>\n",
       "      <td>...</td>\n",
       "      <td>NaN</td>\n",
       "      <td>NaN</td>\n",
       "      <td>2011.000000</td>\n",
       "      <td>NaN</td>\n",
       "      <td>NaN</td>\n",
       "      <td>NaN</td>\n",
       "      <td>NaN</td>\n",
       "      <td>NaN</td>\n",
       "      <td>NaN</td>\n",
       "      <td>NaN</td>\n",
       "    </tr>\n",
       "    <tr>\n",
       "      <td>50%</td>\n",
       "      <td>NaN</td>\n",
       "      <td>-22203.500000</td>\n",
       "      <td>305.000000</td>\n",
       "      <td>NaN</td>\n",
       "      <td>NaN</td>\n",
       "      <td>NaN</td>\n",
       "      <td>NaN</td>\n",
       "      <td>NaN</td>\n",
       "      <td>NaN</td>\n",
       "      <td>NaN</td>\n",
       "      <td>...</td>\n",
       "      <td>NaN</td>\n",
       "      <td>NaN</td>\n",
       "      <td>2012.000000</td>\n",
       "      <td>NaN</td>\n",
       "      <td>NaN</td>\n",
       "      <td>NaN</td>\n",
       "      <td>NaN</td>\n",
       "      <td>NaN</td>\n",
       "      <td>NaN</td>\n",
       "      <td>NaN</td>\n",
       "    </tr>\n",
       "    <tr>\n",
       "      <td>75%</td>\n",
       "      <td>NaN</td>\n",
       "      <td>-18363.750000</td>\n",
       "      <td>935.250000</td>\n",
       "      <td>NaN</td>\n",
       "      <td>NaN</td>\n",
       "      <td>NaN</td>\n",
       "      <td>NaN</td>\n",
       "      <td>NaN</td>\n",
       "      <td>NaN</td>\n",
       "      <td>NaN</td>\n",
       "      <td>...</td>\n",
       "      <td>NaN</td>\n",
       "      <td>NaN</td>\n",
       "      <td>2014.000000</td>\n",
       "      <td>NaN</td>\n",
       "      <td>NaN</td>\n",
       "      <td>NaN</td>\n",
       "      <td>NaN</td>\n",
       "      <td>NaN</td>\n",
       "      <td>NaN</td>\n",
       "      <td>NaN</td>\n",
       "    </tr>\n",
       "    <tr>\n",
       "      <td>max</td>\n",
       "      <td>NaN</td>\n",
       "      <td>-5267.000000</td>\n",
       "      <td>10860.000000</td>\n",
       "      <td>NaN</td>\n",
       "      <td>NaN</td>\n",
       "      <td>NaN</td>\n",
       "      <td>NaN</td>\n",
       "      <td>NaN</td>\n",
       "      <td>NaN</td>\n",
       "      <td>NaN</td>\n",
       "      <td>...</td>\n",
       "      <td>NaN</td>\n",
       "      <td>NaN</td>\n",
       "      <td>2015.000000</td>\n",
       "      <td>NaN</td>\n",
       "      <td>NaN</td>\n",
       "      <td>NaN</td>\n",
       "      <td>NaN</td>\n",
       "      <td>NaN</td>\n",
       "      <td>NaN</td>\n",
       "      <td>NaN</td>\n",
       "    </tr>\n",
       "  </tbody>\n",
       "</table>\n",
       "<p>11 rows × 26 columns</p>\n",
       "</div>"
      ],
      "text/plain": [
       "                           id_person  days_to_birth  days_to_last_followup  \\\n",
       "count                           9748    9644.000000            7724.000000   \n",
       "unique                          9748            NaN                    NaN   \n",
       "top     TCGA-FK-A3SD-01A-11D-A22G-05            NaN                    NaN   \n",
       "freq                               1            NaN                    NaN   \n",
       "mean                             NaN  -21656.138013             688.611082   \n",
       "std                              NaN    5358.419826             954.419878   \n",
       "min                              NaN  -32873.000000             -64.000000   \n",
       "25%                              NaN  -25582.000000              89.000000   \n",
       "50%                              NaN  -22203.500000             305.000000   \n",
       "75%                              NaN  -18363.750000             935.250000   \n",
       "max                              NaN   -5267.000000           10860.000000   \n",
       "\n",
       "       race_list icd_10 other_dx icd_o_3_site icd_o_3_histology vital_status  \\\n",
       "count       9144   9554     9615         9554              9554         9746   \n",
       "unique         5    163        4          152               136            2   \n",
       "top        WHITE  C50.9       No        C50.9            8140/3        Alive   \n",
       "freq        7567    893     8714          893              1255         7605   \n",
       "mean         NaN    NaN      NaN          NaN               NaN          NaN   \n",
       "std          NaN    NaN      NaN          NaN               NaN          NaN   \n",
       "min          NaN    NaN      NaN          NaN               NaN          NaN   \n",
       "25%          NaN    NaN      NaN          NaN               NaN          NaN   \n",
       "50%          NaN    NaN      NaN          NaN               NaN          NaN   \n",
       "75%          NaN    NaN      NaN          NaN               NaN          NaN   \n",
       "max          NaN    NaN      NaN          NaN               NaN          NaN   \n",
       "\n",
       "          project  ...  bcr_patient_barcode additional_studies  \\\n",
       "count        9748  ...                 9748                 63   \n",
       "unique         32  ...                 8888                  1   \n",
       "top     TCGA-BRCA  ...         TCGA-BK-A139           TCGAFPPP   \n",
       "freq          894  ...                    4                 63   \n",
       "mean          NaN  ...                  NaN                NaN   \n",
       "std           NaN  ...                  NaN                NaN   \n",
       "min           NaN  ...                  NaN                NaN   \n",
       "25%           NaN  ...                  NaN                NaN   \n",
       "50%           NaN  ...                  NaN                NaN   \n",
       "75%           NaN  ...                  NaN                NaN   \n",
       "max           NaN  ...                  NaN                NaN   \n",
       "\n",
       "       year_of_form_completion  history_of_neoadjuvant_treatment  \\\n",
       "count              9748.000000                              9745   \n",
       "unique                     NaN                                 4   \n",
       "top                        NaN                                No   \n",
       "freq                       NaN                              9605   \n",
       "mean               2012.283135                               NaN   \n",
       "std                   1.311789                               NaN   \n",
       "min                2008.000000                               NaN   \n",
       "25%                2011.000000                               NaN   \n",
       "50%                2012.000000                               NaN   \n",
       "75%                2014.000000                               NaN   \n",
       "max                2015.000000                               NaN   \n",
       "\n",
       "       tissue_source_site  has_drugs_information has_follow_ups_information  \\\n",
       "count                9741                   9748                       9748   \n",
       "unique                692                      2                          2   \n",
       "top                    AB                     NO                        YES   \n",
       "freq                  194                   6430                       8293   \n",
       "mean                  NaN                    NaN                        NaN   \n",
       "std                   NaN                    NaN                        NaN   \n",
       "min                   NaN                    NaN                        NaN   \n",
       "25%                   NaN                    NaN                        NaN   \n",
       "50%                   NaN                    NaN                        NaN   \n",
       "75%                   NaN                    NaN                        NaN   \n",
       "max                   NaN                    NaN                        NaN   \n",
       "\n",
       "                     ethnicity                      bcr_patient_uuid  \\\n",
       "count                     8067                                  9748   \n",
       "unique                       2                                  8888   \n",
       "top     NOT HISPANIC OR LATINO  49929108-023e-4d35-b26d-50ab4d3ae581   \n",
       "freq                      7707                                     4   \n",
       "mean                       NaN                                   NaN   \n",
       "std                        NaN                                   NaN   \n",
       "min                        NaN                                   NaN   \n",
       "25%                        NaN                                   NaN   \n",
       "50%                        NaN                                   NaN   \n",
       "75%                        NaN                                   NaN   \n",
       "max                        NaN                                   NaN   \n",
       "\n",
       "       patient_id  \n",
       "count        9748  \n",
       "unique       8888  \n",
       "top          5645  \n",
       "freq            4  \n",
       "mean          NaN  \n",
       "std           NaN  \n",
       "min           NaN  \n",
       "25%           NaN  \n",
       "50%           NaN  \n",
       "75%           NaN  \n",
       "max           NaN  \n",
       "\n",
       "[11 rows x 26 columns]"
      ]
     },
     "execution_count": 11,
     "metadata": {},
     "output_type": "execute_result"
    }
   ],
   "source": [
    "dfDataClinic.describe(include = 'all')"
   ]
  },
  {
   "cell_type": "code",
   "execution_count": 12,
   "metadata": {},
   "outputs": [
    {
     "data": {
      "text/plain": [
       "MALE      5028\n",
       "FEMALE    4720\n",
       "Name: gender, dtype: int64"
      ]
     },
     "execution_count": 12,
     "metadata": {},
     "output_type": "execute_result"
    }
   ],
   "source": [
    "dfDataClinic['gender'].value_counts()"
   ]
  },
  {
   "cell_type": "code",
   "execution_count": 13,
   "metadata": {},
   "outputs": [
    {
     "data": {
      "text/plain": [
       "WHITE                                        7567\n",
       "BLACK OR AFRICAN AMERICAN                     930\n",
       "ASIAN                                         614\n",
       "AMERICAN INDIAN OR ALASKA NATIVE               23\n",
       "NATIVE HAWAIIAN OR OTHER PACIFIC ISLANDER      10\n",
       "Name: race_list, dtype: int64"
      ]
     },
     "execution_count": 13,
     "metadata": {},
     "output_type": "execute_result"
    }
   ],
   "source": [
    "dfDataClinic['race_list'].value_counts()"
   ]
  },
  {
   "cell_type": "code",
   "execution_count": 14,
   "metadata": {},
   "outputs": [
    {
     "data": {
      "text/plain": [
       "TCGA-BRCA    894\n",
       "TCGA-HNSC    580\n",
       "TCGA-THCA    571\n",
       "TCGA-PRAD    552\n",
       "TCGA-LGG     533\n",
       "TCGA-LUAD    507\n",
       "TCGA-KIRC    485\n",
       "TCGA-SKCM    475\n",
       "TCGA-UCEC    473\n",
       "TCGA-BLCA    440\n",
       "TCGA-LIHC    414\n",
       "TCGA-LUSC    412\n",
       "TCGA-STAD    397\n",
       "TCGA-COAD    351\n",
       "TCGA-KIRP    321\n",
       "TCGA-CESC    312\n",
       "TCGA-SARC    269\n",
       "TCGA-ESCA    202\n",
       "TCGA-PAAD    195\n",
       "TCGA-LAML    194\n",
       "TCGA-PCPG    187\n",
       "TCGA-GBM     152\n",
       "TCGA-TGCT    139\n",
       "TCGA-THYM    126\n",
       "TCGA-READ    105\n",
       "TCGA-MESO     87\n",
       "TCGA-UVM      80\n",
       "TCGA-ACC      80\n",
       "TCGA-KICH     66\n",
       "TCGA-UCS      57\n",
       "TCGA-DLBC     47\n",
       "TCGA-CHOL     45\n",
       "Name: project, dtype: int64"
      ]
     },
     "execution_count": 14,
     "metadata": {},
     "output_type": "execute_result"
    }
   ],
   "source": [
    "dfDataClinic['project'].value_counts()"
   ]
  },
  {
   "cell_type": "code",
   "execution_count": 13,
   "metadata": {},
   "outputs": [
    {
     "data": {
      "text/plain": [
       "Alive    7605\n",
       "Dead     2141\n",
       "Name: vital_status, dtype: int64"
      ]
     },
     "execution_count": 13,
     "metadata": {},
     "output_type": "execute_result"
    }
   ],
   "source": [
    "dfDataClinic['vital_status'].value_counts() "
   ]
  },
  {
   "cell_type": "markdown",
   "metadata": {},
   "source": [
    "## 3. Обработка пропущенных значений"
   ]
  },
  {
   "cell_type": "markdown",
   "metadata": {},
   "source": [
    "Проверим, есть ли пропущенные значения в таблице с ___клиническими данными___."
   ]
  },
  {
   "cell_type": "code",
   "execution_count": 24,
   "metadata": {},
   "outputs": [
    {
     "data": {
      "text/plain": [
       "days_to_birth              -22203.5\n",
       "days_to_last_followup         305.0\n",
       "day_of_form_completion         14.0\n",
       "days_to_death                 522.0\n",
       "month_of_form_completion        6.0\n",
       "year_of_form_completion      2012.0\n",
       "dtype: float64"
      ]
     },
     "execution_count": 24,
     "metadata": {},
     "output_type": "execute_result"
    }
   ],
   "source": [
    "dfDataClinic.median(axis = 0)"
   ]
  },
  {
   "cell_type": "code",
   "execution_count": 25,
   "metadata": {},
   "outputs": [
    {
     "data": {
      "text/plain": [
       "id_person                              0\n",
       "days_to_birth                        104\n",
       "days_to_last_followup               2024\n",
       "race_list                            604\n",
       "icd_10                               194\n",
       "other_dx                             133\n",
       "icd_o_3_site                         194\n",
       "icd_o_3_histology                    194\n",
       "vital_status                           2\n",
       "project                                0\n",
       "day_of_form_completion                54\n",
       "gender                                 0\n",
       "has_radiations_information             0\n",
       "days_to_death                       7635\n",
       "informed_consent_verified              0\n",
       "month_of_form_completion               0\n",
       "bcr_patient_barcode                    0\n",
       "additional_studies                  9685\n",
       "year_of_form_completion                0\n",
       "history_of_neoadjuvant_treatment       3\n",
       "tissue_source_site                     7\n",
       "has_drugs_information                  0\n",
       "has_follow_ups_information             0\n",
       "ethnicity                           1681\n",
       "bcr_patient_uuid                       0\n",
       "patient_id                             0\n",
       "dtype: int64"
      ]
     },
     "execution_count": 25,
     "metadata": {},
     "output_type": "execute_result"
    }
   ],
   "source": [
    "dfDataClinic.isna().sum()  "
   ]
  },
  {
   "cell_type": "code",
   "execution_count": 27,
   "metadata": {},
   "outputs": [
    {
     "data": {
      "text/plain": [
       "id_person                              0\n",
       "days_to_birth                          0\n",
       "days_to_last_followup                  0\n",
       "race_list                            604\n",
       "icd_10                               194\n",
       "other_dx                             133\n",
       "icd_o_3_site                         194\n",
       "icd_o_3_histology                    194\n",
       "vital_status                           2\n",
       "project                                0\n",
       "day_of_form_completion                 0\n",
       "gender                                 0\n",
       "has_radiations_information             0\n",
       "days_to_death                          0\n",
       "informed_consent_verified              0\n",
       "month_of_form_completion               0\n",
       "bcr_patient_barcode                    0\n",
       "additional_studies                  9685\n",
       "year_of_form_completion                0\n",
       "history_of_neoadjuvant_treatment       3\n",
       "tissue_source_site                     7\n",
       "has_drugs_information                  0\n",
       "has_follow_ups_information             0\n",
       "ethnicity                           1681\n",
       "bcr_patient_uuid                       0\n",
       "patient_id                             0\n",
       "dtype: int64"
      ]
     },
     "execution_count": 27,
     "metadata": {},
     "output_type": "execute_result"
    }
   ],
   "source": [
    "dfDataClinic.fillna(dfDataClinic.median(axis = 0), axis=0 , inplace=True)\n",
    "dfDataClinic.isna().sum()  "
   ]
  },
  {
   "cell_type": "markdown",
   "metadata": {},
   "source": [
    "Т.к. такие характеристики как ... не имеют еще .... Заполнять медианой не имеет смысла. Да и в дальнейшем изучении пока не требуются, оставим значения пустыми."
   ]
  },
  {
   "cell_type": "markdown",
   "metadata": {},
   "source": [
    "Теперь проверим, есть ли пропущенные значения в таблице с ___бета-значениями___."
   ]
  },
  {
   "cell_type": "code",
   "execution_count": 4,
   "metadata": {},
   "outputs": [
    {
     "name": "stdout",
     "output_type": "stream",
     "text": [
      "CpG\n",
      "cg00000029       2\n",
      "cg00000108    9748\n",
      "cg00000109    9748\n",
      "cg00000165       0\n",
      "cg00000236       1\n",
      "              ... \n",
      "rs9363764        0\n",
      "rs939290         0\n",
      "rs951295         0\n",
      "rs966367         0\n",
      "rs9839873        0\n",
      "Length: 485577, dtype: int64\n"
     ]
    }
   ],
   "source": [
    "sumNan = dfDataBeta.isna().sum()\n",
    "print(sumNan)"
   ]
  },
  {
   "cell_type": "markdown",
   "metadata": {},
   "source": [
    "Видим, что такие CpG сайты как cg00000108, cg00000109 у всех пациентов пустые. Найдем все такие CpG сайты и уберем их из рассмотрения."
   ]
  },
  {
   "cell_type": "code",
   "execution_count": 5,
   "metadata": {},
   "outputs": [],
   "source": [
    "columns = dfDataBeta.columns"
   ]
  },
  {
   "cell_type": "code",
   "execution_count": 6,
   "metadata": {},
   "outputs": [],
   "source": [
    "num_bord = 7311\n",
    "columnNan = []\n",
    "for column in columns:\n",
    "    if sumNan[column] > num_bord:\n",
    "        columnNan.append(column)\n",
    "        \n",
    "#print(columnNan)"
   ]
  },
  {
   "cell_type": "code",
   "execution_count": 11,
   "metadata": {},
   "outputs": [
    {
     "data": {
      "text/plain": [
       "89512"
      ]
     },
     "execution_count": 11,
     "metadata": {},
     "output_type": "execute_result"
    }
   ],
   "source": [
    "len(columnNan)"
   ]
  },
  {
   "cell_type": "code",
   "execution_count": 7,
   "metadata": {
    "scrolled": true
   },
   "outputs": [],
   "source": [
    "dfDataBeta = dfDataBeta.drop(columnNan, axis = 1)"
   ]
  },
  {
   "cell_type": "code",
   "execution_count": 8,
   "metadata": {},
   "outputs": [],
   "source": [
    "dfDataBeta.fillna(dfDataBeta.median(axis = 0), axis=0 , inplace=True)"
   ]
  },
  {
   "cell_type": "code",
   "execution_count": 10,
   "metadata": {},
   "outputs": [
    {
     "data": {
      "text/plain": [
       "CpG\n",
       "cg00000029   NaN\n",
       "cg00000165   NaN\n",
       "cg00000236   NaN\n",
       "cg00000289   NaN\n",
       "cg00000292   NaN\n",
       "              ..\n",
       "rs9363764    NaN\n",
       "rs939290     NaN\n",
       "rs951295     NaN\n",
       "rs966367     NaN\n",
       "rs9839873    NaN\n",
       "Length: 396065, dtype: float64"
      ]
     },
     "execution_count": 10,
     "metadata": {},
     "output_type": "execute_result"
    }
   ],
   "source": [
    "dfDataBeta.isna().sum()"
   ]
  },
  {
   "cell_type": "markdown",
   "metadata": {},
   "source": [
    "## 4. Предобработка данных "
   ]
  },
  {
   "cell_type": "markdown",
   "metadata": {},
   "source": [
    "В рамках данной задачи исследуется зависимость бета-значений от типа рака. Остальные характеристики из таблицы с клиническими данными пока не требуется. Поэтому для дальнейшего анализа сделаем преобрабтку данных, а именно для каждого пациента совместим  последовательность бета-значений с его типом рака."
   ]
  },
  {
   "cell_type": "code",
   "execution_count": 2,
   "metadata": {},
   "outputs": [
    {
     "data": {
      "text/html": [
       "<div>\n",
       "<style scoped>\n",
       "    .dataframe tbody tr th:only-of-type {\n",
       "        vertical-align: middle;\n",
       "    }\n",
       "\n",
       "    .dataframe tbody tr th {\n",
       "        vertical-align: top;\n",
       "    }\n",
       "\n",
       "    .dataframe thead th {\n",
       "        text-align: right;\n",
       "    }\n",
       "</style>\n",
       "<table border=\"1\" class=\"dataframe\">\n",
       "  <thead>\n",
       "    <tr style=\"text-align: right;\">\n",
       "      <th>CpG</th>\n",
       "      <th>cg00000029</th>\n",
       "      <th>cg00000165</th>\n",
       "      <th>cg00000236</th>\n",
       "      <th>cg00000289</th>\n",
       "      <th>cg00000292</th>\n",
       "      <th>cg00000321</th>\n",
       "      <th>cg00000363</th>\n",
       "      <th>cg00000622</th>\n",
       "      <th>cg00000658</th>\n",
       "      <th>cg00000714</th>\n",
       "      <th>...</th>\n",
       "      <th>rs7746156</th>\n",
       "      <th>rs798149</th>\n",
       "      <th>rs845016</th>\n",
       "      <th>rs877309</th>\n",
       "      <th>rs9292570</th>\n",
       "      <th>rs9363764</th>\n",
       "      <th>rs939290</th>\n",
       "      <th>rs951295</th>\n",
       "      <th>rs966367</th>\n",
       "      <th>rs9839873</th>\n",
       "    </tr>\n",
       "  </thead>\n",
       "  <tbody>\n",
       "    <tr>\n",
       "      <th>TCGA-OR-A5LH-01A-11D-A29J-05</th>\n",
       "      <td>0.127235</td>\n",
       "      <td>0.798976</td>\n",
       "      <td>0.906222</td>\n",
       "      <td>0.724104</td>\n",
       "      <td>0.406815</td>\n",
       "      <td>0.202612</td>\n",
       "      <td>0.151666</td>\n",
       "      <td>0.013125</td>\n",
       "      <td>0.832441</td>\n",
       "      <td>0.140646</td>\n",
       "      <td>...</td>\n",
       "      <td>0.791231</td>\n",
       "      <td>0.014351</td>\n",
       "      <td>0.123524</td>\n",
       "      <td>0.971234</td>\n",
       "      <td>0.522766</td>\n",
       "      <td>0.051763</td>\n",
       "      <td>0.861380</td>\n",
       "      <td>0.307426</td>\n",
       "      <td>0.119247</td>\n",
       "      <td>0.941517</td>\n",
       "    </tr>\n",
       "    <tr>\n",
       "      <th>TCGA-OR-A5LG-01A-11D-A29J-05</th>\n",
       "      <td>0.046121</td>\n",
       "      <td>0.067993</td>\n",
       "      <td>0.893865</td>\n",
       "      <td>0.754962</td>\n",
       "      <td>0.857653</td>\n",
       "      <td>0.865786</td>\n",
       "      <td>0.560898</td>\n",
       "      <td>0.013004</td>\n",
       "      <td>0.809210</td>\n",
       "      <td>0.070986</td>\n",
       "      <td>...</td>\n",
       "      <td>0.461214</td>\n",
       "      <td>0.013948</td>\n",
       "      <td>0.900690</td>\n",
       "      <td>0.976762</td>\n",
       "      <td>0.017721</td>\n",
       "      <td>0.606996</td>\n",
       "      <td>0.972568</td>\n",
       "      <td>0.030855</td>\n",
       "      <td>0.072948</td>\n",
       "      <td>0.669205</td>\n",
       "    </tr>\n",
       "    <tr>\n",
       "      <th>TCGA-OR-A5JQ-01A-11D-A29J-05</th>\n",
       "      <td>0.602064</td>\n",
       "      <td>0.100943</td>\n",
       "      <td>0.897362</td>\n",
       "      <td>0.614677</td>\n",
       "      <td>0.877027</td>\n",
       "      <td>0.255339</td>\n",
       "      <td>0.714194</td>\n",
       "      <td>0.014641</td>\n",
       "      <td>0.814129</td>\n",
       "      <td>0.118062</td>\n",
       "      <td>...</td>\n",
       "      <td>0.020769</td>\n",
       "      <td>0.013826</td>\n",
       "      <td>0.909073</td>\n",
       "      <td>0.256746</td>\n",
       "      <td>0.969041</td>\n",
       "      <td>0.249980</td>\n",
       "      <td>0.512725</td>\n",
       "      <td>0.354050</td>\n",
       "      <td>0.152047</td>\n",
       "      <td>0.942741</td>\n",
       "    </tr>\n",
       "    <tr>\n",
       "      <th>TCGA-OR-A5J6-01A-31D-A29J-05</th>\n",
       "      <td>0.117144</td>\n",
       "      <td>0.115994</td>\n",
       "      <td>0.413085</td>\n",
       "      <td>0.584756</td>\n",
       "      <td>0.782867</td>\n",
       "      <td>0.825748</td>\n",
       "      <td>0.123553</td>\n",
       "      <td>0.013132</td>\n",
       "      <td>0.790851</td>\n",
       "      <td>0.060101</td>\n",
       "      <td>...</td>\n",
       "      <td>0.469062</td>\n",
       "      <td>0.973064</td>\n",
       "      <td>0.912584</td>\n",
       "      <td>0.436507</td>\n",
       "      <td>0.445958</td>\n",
       "      <td>0.546527</td>\n",
       "      <td>0.676457</td>\n",
       "      <td>0.040208</td>\n",
       "      <td>0.938875</td>\n",
       "      <td>0.137452</td>\n",
       "    </tr>\n",
       "    <tr>\n",
       "      <th>TCGA-OR-A5L6-01A-11D-A29J-05</th>\n",
       "      <td>0.264575</td>\n",
       "      <td>0.143594</td>\n",
       "      <td>0.892213</td>\n",
       "      <td>0.717910</td>\n",
       "      <td>0.834388</td>\n",
       "      <td>0.862202</td>\n",
       "      <td>0.881404</td>\n",
       "      <td>0.014424</td>\n",
       "      <td>0.812025</td>\n",
       "      <td>0.131322</td>\n",
       "      <td>...</td>\n",
       "      <td>0.968430</td>\n",
       "      <td>0.015532</td>\n",
       "      <td>0.896062</td>\n",
       "      <td>0.014142</td>\n",
       "      <td>0.459246</td>\n",
       "      <td>0.935251</td>\n",
       "      <td>0.030863</td>\n",
       "      <td>0.030264</td>\n",
       "      <td>0.056576</td>\n",
       "      <td>0.905967</td>\n",
       "    </tr>\n",
       "  </tbody>\n",
       "</table>\n",
       "<p>5 rows × 396065 columns</p>\n",
       "</div>"
      ],
      "text/plain": [
       "CpG                           cg00000029  cg00000165  cg00000236  cg00000289  \\\n",
       "TCGA-OR-A5LH-01A-11D-A29J-05    0.127235    0.798976    0.906222    0.724104   \n",
       "TCGA-OR-A5LG-01A-11D-A29J-05    0.046121    0.067993    0.893865    0.754962   \n",
       "TCGA-OR-A5JQ-01A-11D-A29J-05    0.602064    0.100943    0.897362    0.614677   \n",
       "TCGA-OR-A5J6-01A-31D-A29J-05    0.117144    0.115994    0.413085    0.584756   \n",
       "TCGA-OR-A5L6-01A-11D-A29J-05    0.264575    0.143594    0.892213    0.717910   \n",
       "\n",
       "CpG                           cg00000292  cg00000321  cg00000363  cg00000622  \\\n",
       "TCGA-OR-A5LH-01A-11D-A29J-05    0.406815    0.202612    0.151666    0.013125   \n",
       "TCGA-OR-A5LG-01A-11D-A29J-05    0.857653    0.865786    0.560898    0.013004   \n",
       "TCGA-OR-A5JQ-01A-11D-A29J-05    0.877027    0.255339    0.714194    0.014641   \n",
       "TCGA-OR-A5J6-01A-31D-A29J-05    0.782867    0.825748    0.123553    0.013132   \n",
       "TCGA-OR-A5L6-01A-11D-A29J-05    0.834388    0.862202    0.881404    0.014424   \n",
       "\n",
       "CpG                           cg00000658  cg00000714  ...  rs7746156  \\\n",
       "TCGA-OR-A5LH-01A-11D-A29J-05    0.832441    0.140646  ...   0.791231   \n",
       "TCGA-OR-A5LG-01A-11D-A29J-05    0.809210    0.070986  ...   0.461214   \n",
       "TCGA-OR-A5JQ-01A-11D-A29J-05    0.814129    0.118062  ...   0.020769   \n",
       "TCGA-OR-A5J6-01A-31D-A29J-05    0.790851    0.060101  ...   0.469062   \n",
       "TCGA-OR-A5L6-01A-11D-A29J-05    0.812025    0.131322  ...   0.968430   \n",
       "\n",
       "CpG                           rs798149  rs845016  rs877309  rs9292570  \\\n",
       "TCGA-OR-A5LH-01A-11D-A29J-05  0.014351  0.123524  0.971234   0.522766   \n",
       "TCGA-OR-A5LG-01A-11D-A29J-05  0.013948  0.900690  0.976762   0.017721   \n",
       "TCGA-OR-A5JQ-01A-11D-A29J-05  0.013826  0.909073  0.256746   0.969041   \n",
       "TCGA-OR-A5J6-01A-31D-A29J-05  0.973064  0.912584  0.436507   0.445958   \n",
       "TCGA-OR-A5L6-01A-11D-A29J-05  0.015532  0.896062  0.014142   0.459246   \n",
       "\n",
       "CpG                           rs9363764  rs939290  rs951295  rs966367  \\\n",
       "TCGA-OR-A5LH-01A-11D-A29J-05   0.051763  0.861380  0.307426  0.119247   \n",
       "TCGA-OR-A5LG-01A-11D-A29J-05   0.606996  0.972568  0.030855  0.072948   \n",
       "TCGA-OR-A5JQ-01A-11D-A29J-05   0.249980  0.512725  0.354050  0.152047   \n",
       "TCGA-OR-A5J6-01A-31D-A29J-05   0.546527  0.676457  0.040208  0.938875   \n",
       "TCGA-OR-A5L6-01A-11D-A29J-05   0.935251  0.030863  0.030264  0.056576   \n",
       "\n",
       "CpG                           rs9839873  \n",
       "TCGA-OR-A5LH-01A-11D-A29J-05   0.941517  \n",
       "TCGA-OR-A5LG-01A-11D-A29J-05   0.669205  \n",
       "TCGA-OR-A5JQ-01A-11D-A29J-05   0.942741  \n",
       "TCGA-OR-A5J6-01A-31D-A29J-05   0.137452  \n",
       "TCGA-OR-A5L6-01A-11D-A29J-05   0.905967  \n",
       "\n",
       "[5 rows x 396065 columns]"
      ]
     },
     "execution_count": 2,
     "metadata": {},
     "output_type": "execute_result"
    }
   ],
   "source": [
    "dfDataBeta = pd.read_pickle('D:/Nerobova_Anastasiya/RStudio/MatrixBetaNoNan.pkl')\n",
    "\n",
    "dfDataBeta.head()"
   ]
  },
  {
   "cell_type": "markdown",
   "metadata": {},
   "source": [
    "Перед слиянием проверим, совпадают ли строки таблицы бета-значений и клинических данных."
   ]
  },
  {
   "cell_type": "code",
   "execution_count": 14,
   "metadata": {},
   "outputs": [
    {
     "name": "stdout",
     "output_type": "stream",
     "text": [
      "True\n"
     ]
    }
   ],
   "source": [
    "print(list(dfDataBeta.index.values) == list(dfDataClinic['id_person']))"
   ]
  },
  {
   "cell_type": "code",
   "execution_count": 13,
   "metadata": {},
   "outputs": [],
   "source": [
    "pd.concat([dfDataBeta, dfDataClinic['project']], axis=1, copy=False).to_pickle('D:/Nerobova_Anastasiya/ML/Data.pkl')"
   ]
  },
  {
   "cell_type": "code",
   "execution_count": 2,
   "metadata": {},
   "outputs": [],
   "source": [
    "dfData = pd.read_pickle('D:/Nerobova_Anastasiya/ML/Data.pkl')"
   ]
  },
  {
   "cell_type": "markdown",
   "metadata": {},
   "source": [
    "У некоторых типов рака людей слишком мало, чтобы хорошо обучить сеть. Поэтому оставим те типы рака, где количество человек болше 200."
   ]
  },
  {
   "cell_type": "markdown",
   "metadata": {},
   "source": [
    "Посмотрим, сколько людей болеют тем или иным типом рака:"
   ]
  },
  {
   "cell_type": "code",
   "execution_count": 5,
   "metadata": {
    "scrolled": true
   },
   "outputs": [
    {
     "name": "stdout",
     "output_type": "stream",
     "text": [
      "TCGA-BRCA    894\n",
      "TCGA-HNSC    580\n",
      "TCGA-THCA    571\n",
      "TCGA-PRAD    552\n",
      "TCGA-LGG     533\n",
      "TCGA-LUAD    507\n",
      "TCGA-KIRC    485\n",
      "TCGA-SKCM    475\n",
      "TCGA-UCEC    473\n",
      "TCGA-BLCA    440\n",
      "TCGA-LIHC    414\n",
      "TCGA-LUSC    412\n",
      "TCGA-STAD    397\n",
      "TCGA-COAD    351\n",
      "TCGA-KIRP    321\n",
      "TCGA-CESC    312\n",
      "TCGA-SARC    269\n",
      "TCGA-ESCA    202\n",
      "Name: project, dtype: int64\n"
     ]
    }
   ],
   "source": [
    "columnСancer = dfData['project'].value_counts()\n",
    "print(columnСancer)"
   ]
  },
  {
   "cell_type": "code",
   "execution_count": 6,
   "metadata": {},
   "outputs": [],
   "source": [
    "columns = dfData['project'].unique()\n",
    "\n",
    "num_bord = 200\n",
    "columnСancerBed = []\n",
    "columnСancerUp = []\n",
    "for column in columns:\n",
    "    if columnСancer[column] < num_bord:\n",
    "        columnСancerBed.append(column)\n",
    "    else:\n",
    "        columnСancerUp.append(column)\n"
   ]
  },
  {
   "cell_type": "markdown",
   "metadata": {},
   "source": [
    "Оставшиеся типы рака:"
   ]
  },
  {
   "cell_type": "code",
   "execution_count": 7,
   "metadata": {
    "scrolled": true
   },
   "outputs": [
    {
     "data": {
      "text/plain": [
       "['TCGA-BLCA',\n",
       " 'TCGA-BRCA',\n",
       " 'TCGA-CESC',\n",
       " 'TCGA-COAD',\n",
       " 'TCGA-ESCA',\n",
       " 'TCGA-HNSC',\n",
       " 'TCGA-KIRC',\n",
       " 'TCGA-KIRP',\n",
       " 'TCGA-LGG',\n",
       " 'TCGA-LIHC',\n",
       " 'TCGA-LUAD',\n",
       " 'TCGA-LUSC',\n",
       " 'TCGA-PRAD',\n",
       " 'TCGA-SARC',\n",
       " 'TCGA-SKCM',\n",
       " 'TCGA-STAD',\n",
       " 'TCGA-THCA',\n",
       " 'TCGA-UCEC']"
      ]
     },
     "execution_count": 7,
     "metadata": {},
     "output_type": "execute_result"
    }
   ],
   "source": [
    "columnСancerUp"
   ]
  },
  {
   "cell_type": "markdown",
   "metadata": {},
   "source": [
    "Удалим людей, чей тип рака не принадлежит списку выше."
   ]
  },
  {
   "cell_type": "code",
   "execution_count": 8,
   "metadata": {},
   "outputs": [],
   "source": [
    "list_index_delete = []\n",
    "for index in dfData.index:\n",
    "    if dfData['project'][index] in columnСancerBed:\n",
    "        list_index_delete.append(index)\n",
    "dfData.drop(list_index_delete, inplace = True)"
   ]
  },
  {
   "cell_type": "code",
   "execution_count": 9,
   "metadata": {},
   "outputs": [
    {
     "data": {
      "text/plain": [
       "(8188, 396066)"
      ]
     },
     "execution_count": 9,
     "metadata": {},
     "output_type": "execute_result"
    }
   ],
   "source": [
    "dfData.shape"
   ]
  },
  {
   "cell_type": "code",
   "execution_count": 11,
   "metadata": {},
   "outputs": [],
   "source": [
    "dfData.to_pickle('D:/Nerobova_Anastasiya/ML/DataBetaColumn.pkl')"
   ]
  },
  {
   "cell_type": "markdown",
   "metadata": {},
   "source": [
    "## 5. Обработка категориальных признаков"
   ]
  },
  {
   "cell_type": "markdown",
   "metadata": {},
   "source": [
    "Признаки в нашй задаче - последовательность бета-значений, которые могут принимать значения от 0 до 1 ( $\\beta$ ∈ [0, 1] ), т.е. категориальных признаков нет."
   ]
  },
  {
   "cell_type": "markdown",
   "metadata": {},
   "source": [
    "Однако в таблице теперь присутсвует столбец project, который необхоимо преобразовать в метки. Каждый тип рака будет обозначаться целочисленным числом."
   ]
  },
  {
   "cell_type": "code",
   "execution_count": 8,
   "metadata": {},
   "outputs": [
    {
     "data": {
      "text/plain": [
       "array(['TCGA-BLCA', 'TCGA-BRCA', 'TCGA-CESC', 'TCGA-COAD', 'TCGA-ESCA',\n",
       "       'TCGA-HNSC', 'TCGA-KIRC', 'TCGA-KIRP', 'TCGA-LGG', 'TCGA-LIHC',\n",
       "       'TCGA-LUAD', 'TCGA-LUSC', 'TCGA-PRAD', 'TCGA-SARC', 'TCGA-SKCM',\n",
       "       'TCGA-STAD', 'TCGA-THCA', 'TCGA-UCEC'], dtype=object)"
      ]
     },
     "execution_count": 8,
     "metadata": {},
     "output_type": "execute_result"
    }
   ],
   "source": [
    "dfData['project'].unique()"
   ]
  },
  {
   "cell_type": "code",
   "execution_count": 9,
   "metadata": {},
   "outputs": [],
   "source": [
    "columns = dfData['project'].unique()\n",
    "\n",
    "dicСancerNum = {}\n",
    "\n",
    "num = 0\n",
    "for column in columns:\n",
    "    dicСancerNum[column] = num\n",
    "    num += 1\n",
    "\n",
    "markerList = []\n",
    "for column in list(dfData['project']):\n",
    "    markerList.append(dicСancerNum[column])\n",
    "\n",
    "\n",
    "dfData['project'] = dfData['project'].map(dicСancerNum).astype(int)\n"
   ]
  },
  {
   "cell_type": "code",
   "execution_count": 10,
   "metadata": {},
   "outputs": [
    {
     "data": {
      "text/plain": [
       "{'TCGA-BLCA': 0,\n",
       " 'TCGA-BRCA': 1,\n",
       " 'TCGA-CESC': 2,\n",
       " 'TCGA-COAD': 3,\n",
       " 'TCGA-ESCA': 4,\n",
       " 'TCGA-HNSC': 5,\n",
       " 'TCGA-KIRC': 6,\n",
       " 'TCGA-KIRP': 7,\n",
       " 'TCGA-LGG': 8,\n",
       " 'TCGA-LIHC': 9,\n",
       " 'TCGA-LUAD': 10,\n",
       " 'TCGA-LUSC': 11,\n",
       " 'TCGA-PRAD': 12,\n",
       " 'TCGA-SARC': 13,\n",
       " 'TCGA-SKCM': 14,\n",
       " 'TCGA-STAD': 15,\n",
       " 'TCGA-THCA': 16,\n",
       " 'TCGA-UCEC': 17}"
      ]
     },
     "execution_count": 10,
     "metadata": {},
     "output_type": "execute_result"
    }
   ],
   "source": [
    "dicСancerNum"
   ]
  },
  {
   "cell_type": "code",
   "execution_count": 24,
   "metadata": {},
   "outputs": [
    {
     "data": {
      "text/plain": [
       "array([ 0,  1,  2,  3,  4,  5,  6,  7,  8,  9, 10, 11, 12, 13, 14, 15, 16,\n",
       "       17])"
      ]
     },
     "execution_count": 24,
     "metadata": {},
     "output_type": "execute_result"
    }
   ],
   "source": [
    "dfData['project'].unique()"
   ]
  },
  {
   "cell_type": "markdown",
   "metadata": {},
   "source": [
    "## 6. Нормализация данных"
   ]
  },
  {
   "cell_type": "markdown",
   "metadata": {},
   "source": [
    "Данные метилирования ДНК (бета-значения) для CpG-сайтов были предварительно обработаны. В предварительную обработку уже входила нормализация данных. "
   ]
  },
  {
   "cell_type": "markdown",
   "metadata": {},
   "source": [
    "Подробнее:"
   ]
  },
  {
   "cell_type": "markdown",
   "metadata": {},
   "source": [
    "Для получения и оценки возможных изменений уровня метилирования ДНК, были использованы чипы Illumina Infinium Human MethylationEPIC BeadChips 850K (EPIC), которые позволяют измерить уровень метилирования на более чем 850 тысячах (850K) CpG-сайтов. Illumina 850K сочетает в себе две разные технологии химического анализа. Infinium I использует два типа зондов (один для метилированного аллеля и один для неметилированного аллеля), но оба сигнала измеряются одним цветом (красным или зеленым). Infinium II использует один тип зонда для обоих аллелей, но метилированные и неметилированные сигналы измеряются зеленым и красным цветом соответственно. Для каждого локуса метилирования регистрируются два представляющих интерес сигнала. Один сигнал измеряет интенсивность метилированной ДНК (Meth), а другой сигнал измеряет интенсивность неметилированной ДНК (Unmeth). Эти значения интенсивности могут быть использованы для определения доли метилирования в каждом локусе CpG. \n",
    "Соотношение β=Meth / (Unmeth + Meth) — это коэффициент метилирования, называемый бета-значением в программном обеспечении Illumina, в популяции клеток, из которых извлекается ДНК\n"
   ]
  },
  {
   "cell_type": "markdown",
   "metadata": {},
   "source": [
    "Данные, полученные с помощью чипа Illumina Infinium Human MethylationEPIC BeadChips 850K, имеют очень высокое качество. Но из-за того, что два химического состава (Infinium I и Infinium II) имеют разное динамическое поведение в анализе, необходима некоторая обработка данных, чтобы сделать их сопоставимыми. Важнейшими шагами являются: контроль качества для оценки качества набора данных после извлечения; фильтрация зондов для устранения вариаций сигнала, не связанных с различиями в метилировании ДНК или не связанных с биологическим контекстом исследования; коррекция сигнала для настройки цветового баланса и коррекции уровня фона; а также коррекция сдвига Infinium I / Infinium II и нормализация между выборками."
   ]
  },
  {
   "cell_type": "markdown",
   "metadata": {},
   "source": [
    "## 7. Разбивка данных на обучающую и тестовую выборки"
   ]
  },
  {
   "cell_type": "code",
   "execution_count": 2,
   "metadata": {},
   "outputs": [],
   "source": [
    "dfData = pd.read_pickle('D:/Nerobova_Anastasiya/ML/DataBetaColumn.pkl')"
   ]
  },
  {
   "cell_type": "code",
   "execution_count": 3,
   "metadata": {},
   "outputs": [],
   "source": [
    "X = dfData.drop('project', axis = 1)\n",
    "y = dfData['project']"
   ]
  },
  {
   "cell_type": "code",
   "execution_count": 14,
   "metadata": {},
   "outputs": [
    {
     "data": {
      "text/plain": [
       "TCGA-2F-A9KO-01A-11D-A38H-05     0\n",
       "TCGA-KQ-A41R-01A-21D-A34V-05     0\n",
       "TCGA-UY-A9PA-01A-11D-A38H-05     0\n",
       "TCGA-CF-A5UA-01A-11D-A28N-05     0\n",
       "TCGA-E7-A7XN-01A-11D-A34V-05     0\n",
       "                                ..\n",
       "TCGA-B5-A11I-01A-11D-A10N-05    17\n",
       "TCGA-QF-A5YT-01A-11D-A31V-05    17\n",
       "TCGA-B5-A11S-01A-11D-A123-05    17\n",
       "TCGA-B5-A0JX-01A-21D-A14N-05    17\n",
       "TCGA-AX-A3FT-01A-11D-A22B-05    17\n",
       "Name: project, Length: 8188, dtype: int32"
      ]
     },
     "execution_count": 14,
     "metadata": {},
     "output_type": "execute_result"
    }
   ],
   "source": [
    "y"
   ]
  },
  {
   "cell_type": "code",
   "execution_count": 15,
   "metadata": {},
   "outputs": [],
   "source": [
    "X = X.to_numpy(dtype='float32')\n",
    "y = np.array(y, dtype='int')"
   ]
  },
  {
   "cell_type": "markdown",
   "metadata": {},
   "source": [
    "Удаление ненужных файлов."
   ]
  },
  {
   "cell_type": "code",
   "execution_count": 4,
   "metadata": {},
   "outputs": [],
   "source": [
    "del(dfData)"
   ]
  },
  {
   "cell_type": "code",
   "execution_count": 5,
   "metadata": {},
   "outputs": [
    {
     "name": "stdout",
     "output_type": "stream",
     "text": [
      "(8188, 396065)\n",
      "(8188,)\n"
     ]
    }
   ],
   "source": [
    "print(X.shape)\n",
    "print(y.shape)\n",
    "N, d = X.shape"
   ]
  },
  {
   "cell_type": "markdown",
   "metadata": {},
   "source": [
    "Разделим даннеы на обучающие и тестовые."
   ]
  },
  {
   "cell_type": "code",
   "execution_count": 6,
   "metadata": {},
   "outputs": [
    {
     "name": "stderr",
     "output_type": "stream",
     "text": [
      "C:\\Users\\aging\\Anaconda3\\lib\\site-packages\\sklearn\\utils\\__init__.py:806: DeprecationWarning: `np.int` is a deprecated alias for the builtin `int`. To silence this warning, use `int` by itself. Doing this will not modify any behavior and is safe. When replacing `np.int`, you may wish to use e.g. `np.int64` or `np.int32` to specify the precision. If you wish to review your current use, check the release note link for additional information.\n",
      "Deprecated in NumPy 1.20; for more details and guidance: https://numpy.org/devdocs/release/1.20.0-notes.html#deprecations\n",
      "  return floored.astype(np.int)\n",
      "C:\\Users\\aging\\Anaconda3\\lib\\site-packages\\sklearn\\utils\\__init__.py:806: DeprecationWarning: `np.int` is a deprecated alias for the builtin `int`. To silence this warning, use `int` by itself. Doing this will not modify any behavior and is safe. When replacing `np.int`, you may wish to use e.g. `np.int64` or `np.int32` to specify the precision. If you wish to review your current use, check the release note link for additional information.\n",
      "Deprecated in NumPy 1.20; for more details and guidance: https://numpy.org/devdocs/release/1.20.0-notes.html#deprecations\n",
      "  return floored.astype(np.int)\n"
     ]
    }
   ],
   "source": [
    "from sklearn.model_selection import train_test_split\n",
    "X_train, X_test, y_train, y_test = train_test_split(X, y, \n",
    "                                                    train_size=0.7, \n",
    "                                                    random_state=42,\n",
    "                                                    stratify=y)"
   ]
  },
  {
   "cell_type": "code",
   "execution_count": 40,
   "metadata": {},
   "outputs": [
    {
     "name": "stdout",
     "output_type": "stream",
     "text": [
      "Количество строк в y_train по классам: [308 626 218 246 141 406 339 225 373 290 355 288 386 188 333 278 400 331]\n",
      "Количество строк в y_test по классам: [132 268  94 105  61 174 146  96 160 124 152 124 166  81 142 119 171 142]\n"
     ]
    }
   ],
   "source": [
    "print(f\"Количество строк в y_train по классам: {np.bincount(y_train)}\")\n",
    "print(f\"Количество строк в y_test по классам: {np.bincount(y_test)}\")"
   ]
  },
  {
   "cell_type": "code",
   "execution_count": 7,
   "metadata": {},
   "outputs": [],
   "source": [
    "del(X)\n",
    "del(y)"
   ]
  },
  {
   "cell_type": "markdown",
   "metadata": {},
   "source": [
    "Обучим несколько моделей и сравним их эффективность."
   ]
  },
  {
   "cell_type": "code",
   "execution_count": null,
   "metadata": {},
   "outputs": [],
   "source": []
  },
  {
   "cell_type": "code",
   "execution_count": 9,
   "metadata": {},
   "outputs": [
    {
     "name": "stderr",
     "output_type": "stream",
     "text": [
      "C:\\Users\\aging\\Anaconda3\\lib\\site-packages\\sklearn\\tree\\tree.py:163: DeprecationWarning: `np.int` is a deprecated alias for the builtin `int`. To silence this warning, use `int` by itself. Doing this will not modify any behavior and is safe. When replacing `np.int`, you may wish to use e.g. `np.int64` or `np.int32` to specify the precision. If you wish to review your current use, check the release note link for additional information.\n",
      "Deprecated in NumPy 1.20; for more details and guidance: https://numpy.org/devdocs/release/1.20.0-notes.html#deprecations\n",
      "  y_encoded = np.zeros(y.shape, dtype=np.int)\n"
     ]
    },
    {
     "data": {
      "text/plain": [
       "DecisionTreeClassifier(class_weight=None, criterion='gini', max_depth=None,\n",
       "                       max_features=None, max_leaf_nodes=None,\n",
       "                       min_impurity_decrease=0.0, min_impurity_split=None,\n",
       "                       min_samples_leaf=1, min_samples_split=2,\n",
       "                       min_weight_fraction_leaf=0.0, presort=False,\n",
       "                       random_state=None, splitter='best')"
      ]
     },
     "execution_count": 9,
     "metadata": {},
     "output_type": "execute_result"
    }
   ],
   "source": [
    "from sklearn.tree import DecisionTreeClassifier\n",
    "\n",
    "logreg_clf = DecisionTreeClassifier()\n",
    "logreg_clf.fit(X_train, y_train)"
   ]
  },
  {
   "cell_type": "code",
   "execution_count": 11,
   "metadata": {},
   "outputs": [],
   "source": [
    "y_test_predict = logreg_clf.predict(X_test)\n",
    "err_test = np.mean(y_test != y_test_predict)"
   ]
  },
  {
   "cell_type": "code",
   "execution_count": 12,
   "metadata": {},
   "outputs": [
    {
     "name": "stdout",
     "output_type": "stream",
     "text": [
      "0.1461131461131461\n"
     ]
    }
   ],
   "source": [
    "print(err_test)"
   ]
  },
  {
   "cell_type": "code",
   "execution_count": 15,
   "metadata": {},
   "outputs": [
    {
     "data": {
      "text/plain": [
       "0.8538868538868539"
      ]
     },
     "execution_count": 15,
     "metadata": {},
     "output_type": "execute_result"
    }
   ],
   "source": [
    "from sklearn.metrics import f1_score\n",
    "\n",
    "f1_score(y_test, y_test_predict, average='micro')"
   ]
  },
  {
   "cell_type": "code",
   "execution_count": 16,
   "metadata": {},
   "outputs": [
    {
     "data": {
      "text/plain": [
       "0.8311226997195111"
      ]
     },
     "execution_count": 16,
     "metadata": {},
     "output_type": "execute_result"
    }
   ],
   "source": [
    "f1_score(y_test, y_test_predict, average='macro')"
   ]
  },
  {
   "cell_type": "code",
   "execution_count": 18,
   "metadata": {},
   "outputs": [
    {
     "data": {
      "text/plain": [
       "GaussianNB(priors=None, var_smoothing=1e-09)"
      ]
     },
     "execution_count": 18,
     "metadata": {},
     "output_type": "execute_result"
    }
   ],
   "source": [
    "from sklearn.naive_bayes import GaussianNB\n",
    "\n",
    "gnb = GaussianNB()\n",
    "gnb.fit(X_train, y_train)"
   ]
  },
  {
   "cell_type": "code",
   "execution_count": 19,
   "metadata": {},
   "outputs": [],
   "source": [
    "y_test_predict_gnb = gnb.predict(X_test)\n",
    "err_test_gnb = np.mean(y_test != y_test_predict_gnb)"
   ]
  },
  {
   "cell_type": "code",
   "execution_count": 20,
   "metadata": {},
   "outputs": [
    {
     "name": "stdout",
     "output_type": "stream",
     "text": [
      "0.11925111925111925\n"
     ]
    }
   ],
   "source": [
    "print(err_test_gnb)"
   ]
  },
  {
   "cell_type": "code",
   "execution_count": 21,
   "metadata": {},
   "outputs": [
    {
     "data": {
      "text/plain": [
       "0.8807488807488808"
      ]
     },
     "execution_count": 21,
     "metadata": {},
     "output_type": "execute_result"
    }
   ],
   "source": [
    "f1_score(y_test, y_test_predict_gnb, average='micro')"
   ]
  },
  {
   "cell_type": "markdown",
   "metadata": {},
   "source": [
    "Используя метод опорных векторов Jupyter несправлялся и вылетал."
   ]
  },
  {
   "cell_type": "code",
   "execution_count": null,
   "metadata": {},
   "outputs": [],
   "source": [
    "from sklearn.svm import SVC \n",
    "\n",
    "svc = SVC(gamma='auto')\n",
    "svc.fit(X_train, y_train)\n"
   ]
  },
  {
   "cell_type": "markdown",
   "metadata": {},
   "source": [
    "Модель методом k-ближайших соседей обучается, но по неизвестной причине обрабатывает тестовые данные дольше, чем обучается. Парметры рассматривались разные."
   ]
  },
  {
   "cell_type": "code",
   "execution_count": 22,
   "metadata": {
    "scrolled": true
   },
   "outputs": [
    {
     "name": "stderr",
     "output_type": "stream",
     "text": [
      "C:\\Users\\aging\\Anaconda3\\lib\\site-packages\\sklearn\\neighbors\\base.py:908: DeprecationWarning: `np.int` is a deprecated alias for the builtin `int`. To silence this warning, use `int` by itself. Doing this will not modify any behavior and is safe. When replacing `np.int`, you may wish to use e.g. `np.int64` or `np.int32` to specify the precision. If you wish to review your current use, check the release note link for additional information.\n",
      "Deprecated in NumPy 1.20; for more details and guidance: https://numpy.org/devdocs/release/1.20.0-notes.html#deprecations\n",
      "  self._y = np.empty(y.shape, dtype=np.int)\n"
     ]
    },
    {
     "data": {
      "text/plain": [
       "KNeighborsClassifier(algorithm='auto', leaf_size=30, metric='minkowski',\n",
       "                     metric_params=None, n_jobs=None, n_neighbors=1000, p=2,\n",
       "                     weights='uniform')"
      ]
     },
     "execution_count": 22,
     "metadata": {},
     "output_type": "execute_result"
    }
   ],
   "source": [
    "from sklearn.neighbors import KNeighborsClassifier\n",
    "\n",
    "knn = KNeighborsClassifier(n_neighbors = 1000)\n",
    "knn.fit(X_train, y_train)"
   ]
  },
  {
   "cell_type": "code",
   "execution_count": null,
   "metadata": {},
   "outputs": [],
   "source": [
    "y_test_predict_knn = knn.predict(X_test)"
   ]
  },
  {
   "cell_type": "code",
   "execution_count": null,
   "metadata": {},
   "outputs": [],
   "source": [
    "err_test  = np.mean(y_test  != y_test_predict)"
   ]
  },
  {
   "cell_type": "code",
   "execution_count": null,
   "metadata": {},
   "outputs": [],
   "source": [
    "predictions = model.predict(x_test_data)"
   ]
  },
  {
   "cell_type": "code",
   "execution_count": 14,
   "metadata": {},
   "outputs": [],
   "source": [
    "model = KNeighborsClassifier(n_neighbors = 1)"
   ]
  },
  {
   "cell_type": "code",
   "execution_count": 15,
   "metadata": {},
   "outputs": [
    {
     "name": "stderr",
     "output_type": "stream",
     "text": [
      "C:\\Users\\aging\\Anaconda3\\lib\\site-packages\\sklearn\\neighbors\\base.py:908: DeprecationWarning: `np.int` is a deprecated alias for the builtin `int`. To silence this warning, use `int` by itself. Doing this will not modify any behavior and is safe. When replacing `np.int`, you may wish to use e.g. `np.int64` or `np.int32` to specify the precision. If you wish to review your current use, check the release note link for additional information.\n",
      "Deprecated in NumPy 1.20; for more details and guidance: https://numpy.org/devdocs/release/1.20.0-notes.html#deprecations\n",
      "  self._y = np.empty(y.shape, dtype=np.int)\n"
     ]
    },
    {
     "data": {
      "text/plain": [
       "KNeighborsClassifier(algorithm='auto', leaf_size=30, metric='minkowski',\n",
       "                     metric_params=None, n_jobs=None, n_neighbors=1, p=2,\n",
       "                     weights='uniform')"
      ]
     },
     "execution_count": 15,
     "metadata": {},
     "output_type": "execute_result"
    }
   ],
   "source": [
    "model.fit(X_train, y_train)"
   ]
  },
  {
   "cell_type": "code",
   "execution_count": null,
   "metadata": {},
   "outputs": [],
   "source": [
    "predictions = model.predict(X_test)"
   ]
  },
  {
   "cell_type": "markdown",
   "metadata": {},
   "source": [
    "## 8. Вывод"
   ]
  },
  {
   "cell_type": "markdown",
   "metadata": {},
   "source": [
    "Для исследования были загружены предварительно обработанные данные уровня метилирования ДНК (бета-значения) и данные характеристик пациентов для классикации рака в зависимости от бета-значений. Над данными была проведена дополнительная обработка, это проверка и удаление NaN, векторизация (обработка категориальных значений), нормализация. "
   ]
  },
  {
   "cell_type": "markdown",
   "metadata": {},
   "source": [
    "Далее данные были разделены на обучающие и тестовые выборки, а после были применены различные методы классфикации, вычисление ошибок и эффективности этих методов."
   ]
  },
  {
   "cell_type": "markdown",
   "metadata": {},
   "source": [
    "Были применены такие методы:\n",
    "- Метод k-ближайших соседей (K-Nearest Neighbors). Модель обучалась, но тестовые данные обрабаотывала гораздо дольше, чем обучалась. Результаты так и не были получены.\n"
   ]
  },
  {
   "cell_type": "markdown",
   "metadata": {},
   "source": [
    "- Классификатор дерева решений (Decision Tree Classifier). Ошибка метода: 0.1461131461131461. Эффективность: 0.8538868538868539"
   ]
  },
  {
   "cell_type": "markdown",
   "metadata": {},
   "source": [
    "- Наивный байесовский классификатор (Naive Bayes). Ошибка метода: 0.11925111925111925. Эффективность: 0.8807488807488808."
   ]
  },
  {
   "cell_type": "markdown",
   "metadata": {},
   "source": [
    "- Метод опорных векторов (Support Vector Machines). На этапе обучения Jupyter выдавал ошибку."
   ]
  },
  {
   "cell_type": "markdown",
   "metadata": {},
   "source": [
    "На основе сработанных методов лучим является Наивный байесовский классификатор. Его ошибка меньше, а эффективность больше."
   ]
  },
  {
   "cell_type": "code",
   "execution_count": null,
   "metadata": {},
   "outputs": [],
   "source": []
  }
 ],
 "metadata": {
  "kernelspec": {
   "display_name": "Python 3",
   "language": "python",
   "name": "python3"
  },
  "language_info": {
   "codemirror_mode": {
    "name": "ipython",
    "version": 3
   },
   "file_extension": ".py",
   "mimetype": "text/x-python",
   "name": "python",
   "nbconvert_exporter": "python",
   "pygments_lexer": "ipython3",
   "version": "3.7.4"
  }
 },
 "nbformat": 4,
 "nbformat_minor": 2
}
